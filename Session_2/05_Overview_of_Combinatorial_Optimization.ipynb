{
 "cells": [
  {
   "cell_type": "markdown",
   "metadata": {
    "slideshow": {
     "slide_type": "slide"
    }
   },
   "source": [
    "<h1 style=\"color:#D30982;text-align:center;vertical-align:middle;\">Overview of Combinatorial Optimization\n",
    "    <br></h1>"
   ]
  },
  {
   "cell_type": "markdown",
   "metadata": {
    "slideshow": {
     "slide_type": "slide"
    },
    "toc-hr-collapsed": false
   },
   "source": [
    "<h1 style=\"color:#D30982;\">Overview</h1>\n",
    "\n",
    "- Overview\n",
    "- Examples: Knapsack problem, Traveling Salesman problem, Max Cut problem\n",
    "- Solving Max Cut with exhaustive search\n",
    "- Quadratic Optimization, special case: quadratic unconstrained binary optimization (QUBO)"
   ]
  },
  {
   "cell_type": "markdown",
   "metadata": {},
   "source": [
    "<h1 style=\"color:#D30982;\">Some Combinatorial Optimization Problems</h1>\n",
    "\n",
    "What does combinatorial mean?\n",
    "\n",
    "- Combinatorics is the study of discrete objects, such as finite sets or arrangements, and how they can be combined or arranged in different ways. \n",
    "\n",
    "For example, how many ways can you choose two books from a shelf of three books?\n",
    "\n",
    "Possible combinations: (1,2), (1,3), (2,3)\n",
    "\n",
    "What about if choosing two books from shelf of five books?\n",
    "\n",
    "Possible combinations: (1,2), (1,3), (1,4), (1,5), (2,3), (2,4), (2,5), (3,4), (3,5), (4,5)\n",
    "\n",
    "In general, combinatorics seeks to frame questions like this in a more generic fashion and give concrete solutions. The number of ways someone can choose n objects from a set of k objects is given via the binomial coefficient ${n \\choose k} = \\frac{n!}{k!(n-k)!}$.\n",
    "\n",
    "You can check that ${3 \\choose 2}=3$ and ${5 \\choose 2}=10$\n",
    "\n"
   ]
  },
  {
   "cell_type": "markdown",
   "metadata": {},
   "source": [
    "What is a combinatorial optimization problem?\n",
    "\n",
    "- To be a combinatorial optimization problem, we need a structure like we had before along with the some notion of 'best' answer. \n",
    "\n",
    "- Example - Max Cut Problem: Given a graph (set of nodes and edges) how can we make a full cut through the graph so that the maximal number of initially connected nodes are cut?\n",
    "\n",
    "- Example - The Knapsack Problem: We are given a knapsack that can contain a limited number of objects $N$ and a set of items that each have a weight $W_i$ and value $V_i$.  How can we select a subset of the items to place in the knapsack, such that the total weight of the selected items does not exceed the capacity of the knapsack, and the total value of the selected items is maximized?"
   ]
  },
  {
   "cell_type": "markdown",
   "metadata": {},
   "source": [
    "<h1 style=\"color:#9A11DA;\">Max Cut</h1>\n",
    "\n",
    "To get a better understanding of combinatorial optimization, let's go through the Max Cut problem in a bit more detail.\n",
    "\n",
    "Max Cut is a graph problem where we want to optimize the number of edges cut when we segment the graph.\n",
    "\n",
    "In general, a graph (G) is a set of edges (E) and vertices (V). We might simply say G=(V,E) to denote some graph.\n",
    "\n",
    "Here is an example of a graph with 8 vertices and randomly joined edges (made 3d for dramatic effect):\n",
    "\n",
    "<img src=\"../graphics/rotating_graph_3d.gif\" height=\"450\" width=\"450\" style=\"margin-left:auto;margin-right:auto;\">"
   ]
  },
  {
   "cell_type": "markdown",
   "metadata": {},
   "source": [
    "First off, what is a cut?\n",
    "\n",
    "- A cut is a partitioning of the vertices into two sets. We can call one set S and the other T or red vs blue or etc.\n",
    "- You can run the cell below (shift + enter) to generate a random cut for the graph."
   ]
  },
  {
   "cell_type": "code",
   "execution_count": null,
   "metadata": {},
   "outputs": [],
   "source": [
    "import networkx as nx\n",
    "import matplotlib.pyplot as plt\n",
    "import numpy as np\n",
    "\n",
    "# Generate a random graph\n",
    "num_nodes = 5\n",
    "edge_probability = 0.5\n",
    "graph = nx.random_graphs.erdos_renyi_graph(num_nodes, edge_probability)\n",
    "\n",
    "# Choose an arbitrary cut\n",
    "cut_nodes = set(np.random.choice(num_nodes, size=num_nodes//2, replace=False))\n",
    "\n",
    "# Define a function to check if an edge is in the cut\n",
    "def is_cut_edge(edge, cut_nodes):\n",
    "    return (edge[0] in cut_nodes) != (edge[1] in cut_nodes)\n",
    "\n",
    "# Calculate the cut value\n",
    "cut_value = sum(1 for edge in graph.edges() if is_cut_edge(edge, cut_nodes))\n",
    "\n",
    "# Draw the graph\n",
    "pos = nx.spring_layout(graph)\n",
    "node_colors = ['orange' if node in cut_nodes else 'blue' for node in graph.nodes]\n",
    "edge_colors = ['red' if is_cut_edge(edge, cut_nodes) else 'gray' for edge in graph.edges()]\n",
    "\n",
    "nx.draw(graph, pos, node_color=node_colors, edge_color=edge_colors, with_labels=True, font_color='white')\n",
    "\n",
    "# Add the cut value as a text annotation\n",
    "plt.text(0.05, 0.95, f'Cut value: {cut_value}', transform=plt.gca().transAxes, fontsize=12, bbox=dict(facecolor='white', alpha=0.8))\n",
    "\n",
    "plt.show()\n"
   ]
  },
  {
   "cell_type": "markdown",
   "metadata": {},
   "source": [
    "**Have some fun in the above code by modifying the number of nodes and their edge probabilities**"
   ]
  },
  {
   "cell_type": "markdown",
   "metadata": {},
   "source": [
    "In the code above, we have segmented the graph into blue and yellow vertices. The red edges denote ones that are cut by this partitioning and grey are ones that are not cut.\n",
    "\n",
    "Let's formulate the value of a cut more mathematically...\n",
    "\n",
    "- Give the blue vertices a value +1 and the yellow vertices a value of -1.\n",
    "- Then we can consider two nodes labeled by $i$ and $j$ whose values are $x_i$ and $x_j$.\n",
    "- Convince yourself that $x_i x_j=1$ if the vertices are connected and $x_i x_j=-1$ if they are cut."
   ]
  },
  {
   "cell_type": "markdown",
   "metadata": {},
   "source": [
    "We can write a function that gives 0 when two vertices are disconnected and 1 when they are connected using the previous mapping.\n",
    "\n",
    "The function will be $\\frac{1-x_i x_j}{2}=\\begin{cases} \n",
    "      0 &, \\quad \\text{connected} \\\\\n",
    "      1 &, \\quad \\text{cut}\n",
    "   \\end{cases}$\n",
    "\n",
    "Now, the total value of a cut can be written as\n",
    "\n",
    "$$ C(G) = \\sum_{i,j\\in E}\\frac{1-x_i x_j}{2}$$\n",
    "\n",
    "and the Max Cut problem can be formulated as\n",
    "\n",
    "$$ \\text{Max Cut} = \\text{max} \\sum_{i,j\\in E}\\frac{1-x_i x_j}{2}\\;.$$\n"
   ]
  },
  {
   "cell_type": "markdown",
   "metadata": {},
   "source": [
    "Note that we could generalize this problem by allowing weights on both the edges ($w_{ij}$) and the vertices ($v_i$)."
   ]
  },
  {
   "cell_type": "markdown",
   "metadata": {},
   "source": [
    "Also, to be clear, there are two ways of looking at this Max Cut problem.\n",
    "\n",
    "- Decision Problem: \"Given a graph G and an integer $k$, determine whether there is a cut of at least $k$ in G\"\n",
    "    - Has a yes/no answer that is definite. Not approximated!\n",
    "- Optimization Problem: \"Given a graph G, find a maximum cut\"\n",
    "    - Is not a yes/no answer.\n",
    "    - This is typically what is meant when people say Max Cut problem."
   ]
  },
  {
   "cell_type": "markdown",
   "metadata": {},
   "source": [
    "As a decision problem, Max Cut is called NP-complete. NP-complete problems are a special class of these puzzles that have a few common characteristics.\n",
    "\n",
    "- Verifying a solution: Given a proposed solution to one of these puzzles, it's relatively easy and quick to check if the solution is correct or not.\n",
    "\n",
    "- No known efficient classical algorithms: However, finding the optimal solution to these puzzles can be very challenging and time-consuming using traditional computers, especially as the problem size grows. There isn't any known algorithm that can consistently solve these problems quickly for large instances.\n",
    "\n",
    "- Interconnectedness: Interestingly, if you can find an efficient way to solve one of these NP-complete problems, you can apply that technique to solve all other NP-complete problems as well. They are interconnected in a way that solving one efficiently implies an efficient solution for all of them."
   ]
  },
  {
   "cell_type": "markdown",
   "metadata": {},
   "source": [
    "As an optimization problem, Max Cut is called NP-hard. NP-hard problems are considered at least as difficult as the hardest problems in the set NP. NP is a set of problems where, given a solution, it's relatively easy and quick to check if it's correct or not.\n",
    "\n",
    "- 'hard' highlights that these problems are challenging and time-consuming using traditional computers as the problem size grows\n",
    "\n",
    "- NP-hard problems are not restricted to the easy-to-verify solutions requirement of NP problems. So, unlike NP-complete problems, they might not even have the property of quickly verifying a solution.\n",
    "\n",
    "We will focus on the optimization problem, and just call it Max Cut from now on."
   ]
  },
  {
   "cell_type": "markdown",
   "metadata": {},
   "source": [
    "Again, for an NP-hard problem, there is no known algorithm which guarantees an optimal solution quickly (polynomial time). The answer is only guaranteed to be found using a brute-force search through all the possible answers.\n",
    "\n",
    "Let's actually show how we can solve the Max Cut problem via brute-force so we get a feel for how quickly finding a solution gets out of control. To make things easy on ourselves, let's use a small graph."
   ]
  },
  {
   "cell_type": "code",
   "execution_count": null,
   "metadata": {},
   "outputs": [],
   "source": [
    "import networkx as nx\n",
    "\n",
    "G = nx.Graph()\n",
    "G.add_nodes_from(range(3))\n",
    "G.add_edge(0,1)\n",
    "G.add_edge(1,2)\n",
    "\n",
    "pos = nx.spring_layout(G)\n",
    "nx.draw(G, pos, with_labels=True, node_color='orange', edge_color='gray', node_size=800)\n"
   ]
  },
  {
   "cell_type": "markdown",
   "metadata": {},
   "source": [
    "How many different possible states do we need to search?\n",
    "\n",
    "List them all as bit strings:\n",
    "\n",
    "- '000'\n",
    "- '001'\n",
    "- '010'\n",
    "- '100'\n",
    "- '011'\n",
    "- '101'\n",
    "- '110'\n",
    "- '111'\n",
    "\n",
    "Eight ways in total, but note that '000' and '111' don't actually make sense if we need to make a cut. \n",
    "\n",
    "See that generally the number of possible states is 2 raised to the power of the number of vertices. So for 3 vertices, we have $2*2*2=2^3=8$\n",
    "\n",
    "So for $N$ vertices, we need to search through $2^N -2$ states which is just the same as $2^N$ for large problems. This tells us finding the exact solution to Max Cut is exponentially difficult."
   ]
  },
  {
   "cell_type": "markdown",
   "metadata": {},
   "source": [
    "In the code cell below, we have written an implementation of a brute-force search for Max Cut. \n",
    "\n",
    "Go ahead and run the below cell for a small graph and increase the graph size to see how the time to solve changes. What do you expect should happen given the previous calculations?"
   ]
  },
  {
   "cell_type": "code",
   "execution_count": null,
   "metadata": {},
   "outputs": [],
   "source": [
    "### Solving the Max-Cut Problem with exhaustive search\n",
    "\n",
    "# Step 1: Import the required libraries\n",
    "import itertools\n",
    "import random\n",
    "import networkx as nx\n",
    "import matplotlib.pyplot as plt\n",
    "import time\n",
    "\n",
    "# Step 2: Generate a small random graph\n",
    "def generate_random_graph(num_nodes, edge_probability):\n",
    "    G = nx.Graph()\n",
    "    G.add_nodes_from(range(num_nodes))\n",
    "    \n",
    "    for i in range(num_nodes):\n",
    "        for j in range(i + 1, num_nodes):\n",
    "            if random.random() < edge_probability:\n",
    "                G.add_edge(i, j)\n",
    "    \n",
    "    return G\n",
    "\n",
    "num_nodes = 18\n",
    "edge_probability = 0.5\n",
    "graph = generate_random_graph(num_nodes, edge_probability)\n",
    "\n",
    "# Step 3: Plot the initial graph\n",
    "def plot_graph(graph):\n",
    "    pos = nx.spring_layout(graph)\n",
    "    nx.draw(graph, pos, with_labels=True, node_color='orange', edge_color='gray', node_size=800)\n",
    "    plt.title(\"Initial Graph\")\n",
    "    plt.show()\n",
    "\n",
    "plot_graph(graph)\n",
    "\n",
    "# Step 4: Define a function to calculate the cut size\n",
    "def cut_size(graph, cut):\n",
    "    size = 0\n",
    "    for edge in graph.edges:\n",
    "        if cut[edge[0]] != cut[edge[1]]:\n",
    "            size += 1\n",
    "    return size\n",
    "\n",
    "# Step 5: Solve the Max-Cut problem using exhaustive search\n",
    "def max_cut(graph):\n",
    "    max_cut_size = 0\n",
    "    max_cut_partition = None\n",
    "\n",
    "    for partition in itertools.product([0, 1], repeat=num_nodes):\n",
    "        current_cut_size = cut_size(graph, partition)\n",
    "        if current_cut_size > max_cut_size:\n",
    "            max_cut_size = current_cut_size\n",
    "            max_cut_partition = partition\n",
    "\n",
    "    return max_cut_partition, max_cut_size\n",
    "\n",
    "start_time = time.time()\n",
    "cut_partition, cut_value = max_cut(graph)\n",
    "elapsed_time = time.time() - start_time\n",
    "print(f\"Time taken to solve the Max-Cut problem: {elapsed_time:.6f} seconds\")\n",
    "\n",
    "# Step 6: Plot the graph with the Max-Cut solution\n",
    "def plot_graph_with_cut(graph, cut_partition):\n",
    "    pos = nx.spring_layout(graph)\n",
    "    colors = ['red' if cut_partition[node] == 0 else 'blue' for node in graph.nodes]\n",
    "    \n",
    "    nx.draw(graph, pos, with_labels=True, node_color=colors, edge_color='gray', node_size=800)\n",
    "    plt.title(f\"Max-Cut: {cut_value} edges\")\n",
    "    plt.show()\n",
    "\n",
    "plot_graph_with_cut(graph, cut_partition)\n"
   ]
  },
  {
   "cell_type": "markdown",
   "metadata": {},
   "source": [
    "**Spend some time seeing how the brute-force solution changes as the number of nodes are changed**"
   ]
  },
  {
   "cell_type": "markdown",
   "metadata": {},
   "source": [
    "We will come back to how we can address Max Cut via other methods shortly..."
   ]
  },
  {
   "cell_type": "markdown",
   "metadata": {},
   "source": [
    "<h1 style=\"color:#D30982;\">Quadratic Optimization and QUBO's</h1>\n",
    "\n",
    "What is quadratic optimization?\n",
    " - Quadratic optimization is a specific type of optimization process involving quadratic functions. \n",
    " - Involve minimizing a quadratic objective function subject to linear constraints.\n",
    " - Also called quadratic programming\n",
    "\n",
    "\n"
   ]
  },
  {
   "cell_type": "markdown",
   "metadata": {},
   "source": [
    "  <h2 style=\"color:#9A11DA;\"> Formal Statement of Quadratic Optimization </h2>\n",
    "\n",
    " Variables:\n",
    " \n",
    " - $x \\in \\mathbb{R}^n$,\n",
    " \n",
    " - $c \\in \\mathbb{R}^n$, \n",
    " \n",
    " - $Q \\in \\mathbb{R}^n \\times \\mathbb{R}^n, Q=Q^T$,\n",
    "\n",
    " - $A \\in \\mathbb{R}^m \\times \\mathbb{R}^n$,\n",
    "\n",
    " - $b\\in \\mathbb{R}^m$\n",
    "\n",
    " Cost function:\n",
    " - $\\frac{1}{2}x^TQx+c^Tx$\n",
    "\n",
    " Constraints:\n",
    " - $A x \\leq b$"
   ]
  },
  {
   "cell_type": "markdown",
   "metadata": {},
   "source": [
    "  <h2 style=\"color:#D30982;\"> QUBO's</h2>\n",
    "\n",
    "- Stands for Quadratic Unconstrained Binary Optimization.\n",
    "\n",
    "- QUBO's are a subclass of quadratic optimization.\n",
    "\n",
    "- Get from QO to QUBO by removing all constraints and reducing the vector $x$ to only take binary values $(0,1)$.\n",
    "\n",
    "- The set of binary values is finite so QUBO's are a type of combinatorial optimization problem"
   ]
  },
  {
   "cell_type": "markdown",
   "metadata": {},
   "source": [
    "  <h2 style=\"color:#9A11DA;\"> Max Cut QUBO Mapping</h2>\n",
    "\n",
    "  - Coming back to Max Cut, we previously said that Max Cut is a type of combinatorial optimization problem.\n",
    "\n",
    "  - It turns out that Max Cut can be framed as a QUBO problem. Let's see how.\n"
   ]
  },
  {
   "cell_type": "markdown",
   "metadata": {},
   "source": [
    "A QUBO is a problem setup where we have binary variables $x_i$ and a cost function $C(x) = x^T Q x + c^T x$, where $Q$ is symmetric $Q=Q^T$.\n",
    "\n",
    "To start framing Max Cut as QUBO, let's change variables so that our vertices, which were previously either -1 or +1, are binary variables $x_i\\in (0,1)$.\n",
    "\n",
    "Doing so, our cut function changes form slightly so that the Max Cut problem with binary variables is written as\n",
    "\n",
    "$$ \\text{Max Cut} = \\text{max} \\sum_{i,j\\in E}x_i(1-x_j)$$\n",
    "\n",
    "and, as we mentioned before, we may have edge weights $w_{ij}$ and/or vertex weights $v_i$ so that\n",
    "\n",
    "$$ \\text{Generalized Max Cut} = \\text{max} \\sum_{i,j \\in E}w_{ij}x_i(1-x_j)+\\sum_{i\\in V}v_i x_i \\, .$$"
   ]
  },
  {
   "cell_type": "markdown",
   "metadata": {},
   "source": [
    "We can turn the maximization into a minimization by multiplying by a minus sign,\n",
    "\n",
    "$$ \\text{Generalized Max Cut} = \\text{min} \\left(-\\sum_{i,j \\in E}w_{ij}x_i(1-x_j)-\\sum_{i\\in V}v_i x_i\\right) \\, .$$"
   ]
  },
  {
   "cell_type": "markdown",
   "metadata": {},
   "source": [
    "Notice that the function to be minimized takes the form of a QUBO. \n",
    "\n",
    "- $x_i$ and $(1-x_j)$ are binary variables. \n",
    "- $w_{ij}$ gives the edges weights and doesn't depend on the direction between the nodes, so it is symmetric."
   ]
  }
 ],
 "metadata": {
  "celltoolbar": "Slideshow",
  "kernelspec": {
   "display_name": "Python 3 [Default]",
   "language": "python",
   "name": "python3"
  },
  "language_info": {
   "codemirror_mode": {
    "name": "ipython",
    "version": 3
   },
   "file_extension": ".py",
   "mimetype": "text/x-python",
   "name": "python",
   "nbconvert_exporter": "python",
   "pygments_lexer": "ipython3",
   "version": "3.9.18"
  },
  "toc": {
   "base_numbering": 1,
   "nav_menu": {},
   "number_sections": true,
   "sideBar": true,
   "skip_h1_title": false,
   "title_cell": "Table of Contents",
   "title_sidebar": "Contents",
   "toc_cell": false,
   "toc_position": {},
   "toc_section_display": true,
   "toc_window_display": true
  },
  "toc-autonumbering": false,
  "toc-showcode": false,
  "vscode": {
   "interpreter": {
    "hash": "493924c5d35adb7ef1523bec0f1234a5915de9af0cbc510f790dc6170b1984de"
   }
  },
  "widgets": {
   "application/vnd.jupyter.widget-state+json": {
    "state": {},
    "version_major": 2,
    "version_minor": 0
   }
  }
 },
 "nbformat": 4,
 "nbformat_minor": 4
}
