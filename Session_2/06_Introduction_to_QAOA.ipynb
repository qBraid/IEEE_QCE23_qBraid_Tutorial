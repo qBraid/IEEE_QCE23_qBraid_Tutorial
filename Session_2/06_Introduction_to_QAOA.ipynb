{
 "cells": [
  {
   "cell_type": "markdown",
   "metadata": {},
   "source": [
    "<h1 style=\"color:#D30982;text-align:center;vertical-align:middle;\">Introduction to Quantum Approximate Optimization Algorithm (QAOA)\n",
    "    <br></h1>"
   ]
  },
  {
   "cell_type": "markdown",
   "metadata": {},
   "source": [
    "<h1 style=\"color:#D30982;\">Overview</h1>\n",
    "\n",
    "- Quantum Evolution in Time\n",
    "- Adiabatic Quantum Computing and Trotterization\n",
    "- QAOA"
   ]
  },
  {
   "cell_type": "markdown",
   "metadata": {},
   "source": [
    "<!-- - Review basics of quantum evolution\n",
    "- Adiabatic Theorem in Adiabatic Quantum Computing and Quantum Annealing\n",
    "- Quantum Approximate Optimization Algorithm -->"
   ]
  },
  {
   "cell_type": "markdown",
   "metadata": {},
   "source": [
    "<h1 style=\"color:#D30982;\">Quantum Evolution in Time</h1>\n"
   ]
  },
  {
   "cell_type": "markdown",
   "metadata": {},
   "source": [
    "In quantum computing, we focus on applying quantum gates to quantum states to perform useful computations. By this point you likely understand that applying an $X$ gate to a $\\ket{0}$ state results in a $\\ket{1}$ state and that we write this mathematically as $X\\ket{0}=\\ket{1}$. There is also a sense in which this change in state takes place over some finite time. We apply $X$ to the $\\ket{0}$ state at time $t_0$ and the application of the gate $X$ requires some time to take place.\n",
    "\n",
    "This notion of time-evolution for a quantum system is described by the famous Schoedinger Equation:\n",
    "\n",
    "$$ H \\ket{\\psi (t)} = i \\hbar \\frac{\\partial}{\\partial t} \\ket{\\psi(t)}\\;, $$\n",
    "\n",
    "where $H$ is an object called the Hamiltonian, $i=\\sqrt{-1}$, $\\hbar$ is Planck's reduced constant, and $\\ket{\\psi}$ is any quantum state. Notice that the quantum state is a function of time! \n",
    "\n",
    "It turns out that we can solve the Schroedinger equation in this general form and yield the following:\n",
    "\n",
    "$$ \\ket{\\psi (t)} = e^{-i H t/\\hbar} \\ket{\\psi(0)}$$\n",
    "\n",
    "In words, this says that $e^{-t Ht/\\hbar}$ acts upon the quantum state $\\ket{\\psi(0)}$ to yield the quantum state at a different time. AKA $e^{-t Ht/\\hbar}$ evolves the quantum system in time. This expression,  $e^{-t Ht/\\hbar}$, is a unitary matrix and in fact *any* unitary matrix can act in this way to evolve a quantum system. Representing some arbitrary unitary matrix as $U(t)$, this means that\n",
    "\n",
    "$$ U(t) \\ket{\\psi(0)} = \\ket{\\psi(t)}$$"
   ]
  },
  {
   "cell_type": "markdown",
   "metadata": {},
   "source": [
    "All of the quantum gates you have learned about have indeed been unitary matrices, and thus describe quantum evolution. Previously the fact that these evolve states forward in time has been implicit because all we cared about was exactly how the state changed and not how long it took. To fully understand QAOA and its context in quantum computing, it's now necessary to talk about time evolution as you will see shortly."
   ]
  },
  {
   "cell_type": "markdown",
   "metadata": {},
   "source": [
    "<h2 style=\"color:#9A11DA;\">Adiabatic Theorem </h2>\n",
    "\n",
    "*\"Quantum cool ride, no energy leaks on the side!\"*\n",
    "\n",
    "Basically says that if a quantum system starts in an eigenstate $\\ket{\\psi(t_0)}$, at time $t_0$ with a system Hamiltonian $H_0$, then changing the Hamiltonian slowly and continuously into $H_1$ in time $t_1-t_0$ will result in the system remaining in the corresponding eigenstate of the new Hamiltonian. This process is only exactly perfect for $t_1-t_0 \\rightarrow \\infty$, but is very good even for finite times. You might be wondering what constitutes *slowly* in this context. This gets into details we won't cover too much, but suffice it to say that this adiabatic evolution only applies to systems that have gaps between their energy levels (specifically not continuous). The bigger the gap between the energy levels, the quicker the system can be adiabatically evolved and vice versa.\n",
    "\n",
    "\n",
    "In this way, one can start with a system in its ground state (or any other state) and slowly change the Hamiltonian until the ground state of the new Hamiltonian is reached.\n",
    "\n",
    "We can define this change between Hamiltonians $H_1$ and $H_2$ over time $t_{tot}$ via a function we call the adiabatic schedule s(t). This function's requirements are that it be continuous and satisfy the boundary values $s(0)=0$ and $s(t_{tot})=1$. With this, one can define an interpolation between the two Hamiltonians:\n",
    "\n",
    "$$ H_{int}(t) = s(t) H_2 + (1-s(t)) H_1\\;.  $$\n",
    "\n",
    "An example of an adiabatic schedule is the linear schedule $s(t) = t/t_{tot}$ such that\n",
    "\n",
    "$$ H_{int}(t) = \\frac{t}{t_{tot}} H_2 + \\left(1-\\frac{t}{t_{tot}}\\right) H_1\\;.  $$\n"
   ]
  },
  {
   "cell_type": "markdown",
   "metadata": {},
   "source": [
    "<h2 style=\"color:#9A11DA;\">Adiabatic Quantum Computing and Quantum Annealing </h2>\n",
    "\n",
    "There is a whole paradigm of quantum computing that relies entirely upon the adiabatic theorem called Adiabatic Quantum Computing (AQC).\n"
   ]
  },
  {
   "cell_type": "markdown",
   "metadata": {},
   "source": [
    "One of the most prominent creators of adiabatic quantum computers is a company called D-Wave, which uses Quantum Annealing (QA). QA performs an adiabatic evolution to optimise some function. The difference between AQC and QA is essentially that AQC starts in an easy to prepare ground state and evolves adiabatically to a complicated ground state, while QA starts in an arbitrary initial state and uses a final hamiltonian and transverse field Hamiltonian to quantum mechnically tunnel through peaks in the cost surface. In QA, the transverse field Hamiltonian is slowly decreased until only the final hamiltonian is left.\n",
    "\n",
    "Side note: If you have talked with quantum computing experts before, you may have noticed some frustration surrounding DWave as a company. This is mainly because many people are focused on developing universal (gate-based) quantum computing algorithms. Their publicity has also emphasized heavily the absolute number of qubits without giving equal consideration of the coherence (think quality) of those qubits. That said, DWave is still around and producing larger and more high-quality quantum annealers. \n"
   ]
  },
  {
   "cell_type": "markdown",
   "metadata": {},
   "source": [
    "In adiabatic quantum computing, one typically talks about there being a problem Hamiltonian $H_P$ and a driver/mixer Hamiltonian $H_D$. The problem Hamiltonian represents the system that we want to find the ground state for and the driver/mixer Hamiltoninan is a system which has an easy to prepare ground state. We write the interpolating Hamiltonian just as we did previously, except here using the specific $H_P$ and $H_D$ notation:\n",
    "\n",
    "$$ H(t)= s(t) H_P + \\left(1-s(t)\\right)H_D $$\n",
    "\n",
    "Recall that a Hamiltonian defines the time-evolution of a system, but what we have here is a Hamiltonian that is changing as a function of time. If we imagine for the moment that the adiabatic schedule is discrete, not continuous, then the overall Hamiltonian could be a piecewise function like\n",
    "\n",
    "$$ H(t) = \\begin{cases}\n",
    "      H_1 = H_D & 0\\leq t \\leq t_1 \\\\\n",
    "      H_2 =\\frac{1}{2}H_P + \\frac{1}{2}H_D & t_1< t \\leq t_2 \\\\\n",
    "      H_3 = H_P & t_2< t \\leq t_{tot} \\\\\n",
    "   \\end{cases} \\;.\n",
    "$$\n",
    "\n",
    "Then, using the unitary operator $U(t)=e^{-iHt/\\hbar}$, we can apply it to the state of a system to conduct time-evolution. In the discontinuous case we write the unitary operator representing evolution over the full time $t_{tot}$ as\n",
    "\n",
    "$$U(t_{tot})=e^{-(iH_1 t_1 + iH_2(t_2-t_1) + iH_3(t_{tot}-t_2))}\\;.$$\n",
    "\n",
    "We can imagine further breaking up the discontinuous adiabatic schedule into smaller and smaller times such that\n",
    "\n",
    "$$U(t_{tot})=e^{-i \\sum_{i}^N H_i \\Delta t_i}\\;.$$\n",
    "\n",
    "In the limit that the number of terms in the sum goes to infinity, this simply becomes an integral. Then, we see that the continuous time-evolution unitary operator corresponding to adiabatic evolution looks like\n",
    "\n",
    "$$U(t_{tot})= \\tau e^{-i \\int_0^{t_{tot}} H(t)\\; dt}$$\n",
    "\n",
    ", where the $\\tau$ means that the exponential is time-ordered, though this is not a detail we will concern ourselves with right now."
   ]
  },
  {
   "cell_type": "markdown",
   "metadata": {},
   "source": [
    "<h2 style=\"color:#9A11DA;\">Trotterization for Adiabatic Quantum Computing </h2>\n"
   ]
  },
  {
   "cell_type": "markdown",
   "metadata": {},
   "source": [
    "As a final step before discussing QAOA, we want to learn what is meant by trotter (or trotterized) time-evolution. Essentially, we have already gotten one step toward it in the previous section when we consider discretizing a continuous time-evolution. Trotterized time-evolution is the practice of taking a single exact unitary evolution operator, involving a sum of multiple Hamiltonians, and breaking it down into an approximate series of easy to simulate unitary evolution operators composed of single Hamiltonians. In mathematical terms this means\n",
    "\n",
    "$$U(t) = e^{-i \\sum_{j=1}^{m} H_j t} = \\Pi_{j=1}^{m}e^{-i H_j t} + \\mathcal{O}(m^2 t^2)$$\n",
    "\n",
    "and $ \\mathcal{O}(m^2 t^2)$ means terms of order $m^2 t^2$, AKA the order of the error in this approximation is $m^2 t^2$. You may be thinking this expression is crazy because exponentials for numbers don't seem to work this way. For example, $2^{1+2}=8=2^1 * 2^2$, doesn't seem to care whether you add the numbers in the exponential or multiple the exponentials of each individual exponent. The key thing to remember here is that the exponentials we work with are not simple numbers, they are matrices. Matrices have the important property that it matters in which order you multiply them, so that $MN \\neq NM$ for two matrices. The consequence of this is that we can decompose an exponential of sums of matrices into a product of exponentials of single matrices, but only as an approximation.\n",
    "\n",
    "You might say \"Ok, so why would I even do this decomposition if I incur an error?\" The reason is that we often cannot implement the unitary gate (operator) defined by the full exponentiated sum of matrices on real hardware, but we can apply some basic gates that approximate it. So, trotterized time-evolution is a way of discretely approximating what is truly a continuous, but difficult to implement, time-evolution.\n",
    "\n",
    "There is one extra trick we can apply to get the approximation error lower when implementing this Trotterized time-evolution - we can break up the time evolution into a set of steps (often called Trotter steps). If I take the total time $t$ and break it up into $r$ total steps, then the following equation holds true\n",
    "\n",
    "$$U(t) = e^{-i \\sum_{j=1}^{m} H_j t} = \\left( \\Pi_{j=1}^{m}e^{-i H_j t/r}\\right)^r + \\mathcal{O}\\left(\\frac{m^2 t^2}{r}\\right)$$\n",
    "\n",
    "which tells us that taking a large number of Trotter steps (reapplications of the Trotterized unitary operator) reduces the error in our approximation.\n",
    "\n",
    "There are other higher-order formulations of this Trotterization formula that produce better scaling of error, but we will not discuss this here.\n",
    "\n",
    "\n"
   ]
  },
  {
   "cell_type": "markdown",
   "metadata": {},
   "source": [
    "<h1 style=\"color:#D30982;\">QAOA</h1>\n"
   ]
  },
  {
   "cell_type": "markdown",
   "metadata": {},
   "source": [
    "We now have the necessary background to appreciate what the Quantum Approximate Optimization Algorithm (QAOA) is and how it works. As we will soon see, QAOA is nothing other than a Trotterized form of an adiabatic evolution. \n",
    "\n",
    "Before we get to that, let's just understand the basic formulation of QAOA. To start, we will need to recall our QUBO cost function and rewrite it in terms of a Hamiltonian. Let's get started!\n",
    "\n",
    "We want to find a Hamiltonian (called the problem Hamiltonian) that, when acting upon a system of qubits, yields the QUBO cost function. This means that\n",
    "\n",
    "$$ H_P\\ket{x} = C(x) \\ket{x} $$\n",
    "\n",
    "where our general QUBO cost function is\n",
    "\n",
    "$$C(x) = \\sum_{i,j \\in E}Q_{ij}x_i x_j+\\sum_{i\\in V}c_i x_i$$"
   ]
  },
  {
   "cell_type": "markdown",
   "metadata": {},
   "source": [
    "Recall that a Hamiltonian is a Hermitian matrix and so translating the cost function into a Hamiltonian means we need to figure out how to write it in terms of Hermitian matrices.\n",
    "\n",
    "First, focus on our variables $x_i$ which are binary and thus take values of $0$ or $1$. How can we write a Hermitian matrix that acts on a quantum state to yield either $0$ or $1$, depending on the state of the qubits? Remember that the Pauli matrices are Hermitian matrices and, in particular, the Z Pauli matrix (or Z-gate) is\n",
    "\n",
    "$$ Z=\\left( \\begin{array}{cc}\n",
    "1 & 0 \\\\\n",
    "0 & -1 \n",
    "\\end{array}\n",
    "\\right)$$\n",
    "\n",
    "so that $Z\\ket{0}= 1$ and $Z\\ket{1}=-1$. If we take the combination $\\frac{\\mathbb{I} - Z}{2}$ then notice that it takes the same values as our binary variables $x_i$ so that\n",
    "\n",
    "$$ \\frac{\\mathbb{I} - Z}{2} \\ket{0} = 0, \\quad \\frac{\\mathbb{I} - Z}{2} \\ket{1}= 1$$\n",
    "\n",
    "and generally\n",
    "\n",
    "$$\\frac{\\mathbb{I} - Z}{2} \\ket{x} = x_i \\;.$$\n",
    "\n",
    "So, we have to replace the binary variables $x_i$ in the QUBO problem with the combination $\\frac{\\mathbb{I} - Z}{2} \\ket{x}$ to write the corresponding Hamiltonian representation. Doing this gives us the following"
   ]
  },
  {
   "cell_type": "markdown",
   "metadata": {},
   "source": [
    "$$ H_P = \\sum_{i,j}\\left( \\frac{Q_{ij}}{4} Z_i Z_j -\\frac{Q_{ij}}{2}Z_i+\\frac{Q_{ij}}{4}\\right) + \\sum_{i}\\left( -\\frac{c_i}{2}Z_i + \\frac{c_i}{2}\\right) $$\n",
    "\n",
    "The constant terms can be ignored, since we are interested in optimization, and a constant offset will not change the result of a maxima/minima finding routine\n",
    "\n",
    "$$ H_P = \\sum_{i,j}\\left( \\frac{Q_{ij}}{4} Z_i Z_j -\\frac{Q_{ij}}{2}Z_i\\right) + \\sum_{i}\\left( -\\frac{c_i}{2}Z_i\\right) \\;. $$\n",
    "\n",
    "Grouping together like terms,\n",
    "\n",
    "$$ H_P = \\sum_{i,j}\\left( \\frac{Q_{ij}}{4} Z_i Z_j\\right) - \\frac{1}{2}\\sum_{i}\\left( c_i +\\sum_j Q_{ij}\\right)Z_i \\;. $$\n",
    "\n",
    "\n",
    "<!-- The sum over indices $i,j$ can be simplified, since terms like summing over $i=2, j=3$ will be the same as $i=3, j=2$, due to the symmetry of each term. Therefore, we can pull out a factor of 2 and change our sum\n",
    "\n",
    "$$ H_P = \\sum_{i<j}\\left( \\frac{Q_{ij}}{2} Z_i Z_j -Q_{ij}Z_i\\right) + \\sum_{i}\\left( -\\frac{c_i}{2}Z_i\\right) \\;. $$ -->\n",
    "\n",
    "\n",
    "There we have it! We have turned the general QUBO cost function into an equivalent Hamiltonian."
   ]
  },
  {
   "cell_type": "markdown",
   "metadata": {},
   "source": [
    "<h2 style=\"color:#9A11DA;\">QAOA's Relationship to Adiabatic Evolution </h2>\n"
   ]
  },
  {
   "cell_type": "markdown",
   "metadata": {},
   "source": [
    "Let's take a look at what the circuit diagram of QAOA looks like:"
   ]
  },
  {
   "cell_type": "code",
   "execution_count": 4,
   "metadata": {},
   "outputs": [
    {
     "data": {
      "text/html": [
       "<pre style=\"word-wrap: normal;white-space: pre;background: #fff0;line-height: 1.1;font-family: &quot;Courier New&quot;,Courier,monospace\">     ┌───┐ ░ ┌───────────────────┐┌──────────────────┐ ░ ┌───────────────────┐»\n",
       "q_0: ┤ H ├─░─┤0                  ├┤0                 ├─░─┤0                  ├»\n",
       "     ├───┤ ░ │                   ││                  │ ░ │                   │»\n",
       "q_1: ┤ H ├─░─┤1                  ├┤1                 ├─░─┤1                  ├»\n",
       "     ├───┤ ░ │                   ││                  │ ░ │                   │»\n",
       "q_2: ┤ H ├─░─┤2 $U_P (\\gamma_1)$ ├┤2 $U_M (\\beta_1)$ ├─░─┤2 $U_P (\\gamma_2)$ ├»\n",
       "     ├───┤ ░ │                   ││                  │ ░ │                   │»\n",
       "q_3: ┤ H ├─░─┤3                  ├┤3                 ├─░─┤3                  ├»\n",
       "     ├───┤ ░ │                   ││                  │ ░ │                   │»\n",
       "q_4: ┤ H ├─░─┤4                  ├┤4                 ├─░─┤4                  ├»\n",
       "     └───┘ ░ └───────────────────┘└──────────────────┘ ░ └───────────────────┘»\n",
       "c: 5/═════════════════════════════════════════════════════════════════════════»\n",
       "                                                                              »\n",
       "«     ┌──────────────────┐ ░ ┌─┐            \n",
       "«q_0: ┤0                 ├─░─┤M├────────────\n",
       "«     │                  │ ░ └╥┘┌─┐         \n",
       "«q_1: ┤1                 ├─░──╫─┤M├─────────\n",
       "«     │                  │ ░  ║ └╥┘┌─┐      \n",
       "«q_2: ┤2 $U_M (\\beta_2)$ ├─░──╫──╫─┤M├──────\n",
       "«     │                  │ ░  ║  ║ └╥┘┌─┐   \n",
       "«q_3: ┤3                 ├─░──╫──╫──╫─┤M├───\n",
       "«     │                  │ ░  ║  ║  ║ └╥┘┌─┐\n",
       "«q_4: ┤4                 ├─░──╫──╫──╫──╫─┤M├\n",
       "«     └──────────────────┘ ░  ║  ║  ║  ║ └╥┘\n",
       "«c: 5/════════════════════════╩══╩══╩══╩══╩═\n",
       "«                             0  1  2  3  4 </pre>"
      ],
      "text/plain": [
       "     ┌───┐ ░ ┌───────────────────┐┌──────────────────┐ ░ ┌───────────────────┐»\n",
       "q_0: ┤ H ├─░─┤0                  ├┤0                 ├─░─┤0                  ├»\n",
       "     ├───┤ ░ │                   ││                  │ ░ │                   │»\n",
       "q_1: ┤ H ├─░─┤1                  ├┤1                 ├─░─┤1                  ├»\n",
       "     ├───┤ ░ │                   ││                  │ ░ │                   │»\n",
       "q_2: ┤ H ├─░─┤2 $U_P (\\gamma_1)$ ├┤2 $U_M (\\beta_1)$ ├─░─┤2 $U_P (\\gamma_2)$ ├»\n",
       "     ├───┤ ░ │                   ││                  │ ░ │                   │»\n",
       "q_3: ┤ H ├─░─┤3                  ├┤3                 ├─░─┤3                  ├»\n",
       "     ├───┤ ░ │                   ││                  │ ░ │                   │»\n",
       "q_4: ┤ H ├─░─┤4                  ├┤4                 ├─░─┤4                  ├»\n",
       "     └───┘ ░ └───────────────────┘└──────────────────┘ ░ └───────────────────┘»\n",
       "c: 5/═════════════════════════════════════════════════════════════════════════»\n",
       "                                                                              »\n",
       "«     ┌──────────────────┐ ░ ┌─┐            \n",
       "«q_0: ┤0                 ├─░─┤M├────────────\n",
       "«     │                  │ ░ └╥┘┌─┐         \n",
       "«q_1: ┤1                 ├─░──╫─┤M├─────────\n",
       "«     │                  │ ░  ║ └╥┘┌─┐      \n",
       "«q_2: ┤2 $U_M (\\beta_2)$ ├─░──╫──╫─┤M├──────\n",
       "«     │                  │ ░  ║  ║ └╥┘┌─┐   \n",
       "«q_3: ┤3                 ├─░──╫──╫──╫─┤M├───\n",
       "«     │                  │ ░  ║  ║  ║ └╥┘┌─┐\n",
       "«q_4: ┤4                 ├─░──╫──╫──╫──╫─┤M├\n",
       "«     └──────────────────┘ ░  ║  ║  ║  ║ └╥┘\n",
       "«c: 5/════════════════════════╩══╩══╩══╩══╩═\n",
       "«                             0  1  2  3  4 "
      ]
     },
     "execution_count": 4,
     "metadata": {},
     "output_type": "execute_result"
    }
   ],
   "source": [
    "from qiskit import QuantumCircuit, ClassicalRegister, QuantumRegister\n",
    "from qiskit.circuit import Gate\n",
    "\n",
    "\n",
    "Ucost1 = Gate(name='$U_P (\\gamma_1)$', num_qubits=5, params=[])\n",
    "Umixer1 = Gate(name='$U_M (\\\\beta_1)$', num_qubits=5, params=[])\n",
    "\n",
    "Ucost2 = Gate(name='$U_P (\\gamma_2)$', num_qubits=5, params=[])\n",
    "Umixer2 = Gate(name='$U_M (\\\\beta_2)$', num_qubits=5, params=[])\n",
    "\n",
    "\n",
    "\n",
    "qubits = 5\n",
    "cbits = 5\n",
    "qc = QuantumCircuit(qubits, cbits)\n",
    "\n",
    "qc.h(range(qubits))\n",
    "qc.barrier()\n",
    "qc.append(Ucost1, range(qubits))\n",
    "qc.append(Umixer1, range(qubits))\n",
    "qc.barrier()\n",
    "qc.append(Ucost2, range(qubits))\n",
    "qc.append(Umixer2, range(qubits))\n",
    "qc.barrier()\n",
    "\n",
    "\n",
    "\n",
    "qc.measure(range(qubits), range(cbits))\n",
    "# qc.draw(output='mpl')\n",
    "qc.draw()"
   ]
  },
  {
   "cell_type": "markdown",
   "metadata": {},
   "source": [
    "First, Hadamard gates are applied to prepare an equal superposition state of all qubits in the problem. For a single qubit, this superposition state is typically denoted by $\\ket{+}=\\frac{1}{\\sqrt{2}}\\left(\\ket{0}+\\ket{1}\\right)$ and for $N$ qubits we will use the notation $\\ket{+}^{\\otimes N}$. At the moment, we depict the example with five qubits, but the number is specific to the problem you want to solve.\n",
    "\n",
    "Second, two parametrized unitary gates, $U_P (\\gamma_1)$ and $U_M(\\beta_1)$, are applied in succession. These alternating unitary gates are applied $p$-times. In this example, we have depicted $p=2$, but the same could be shown for larger values. $U_P(\\gamma)$ is the unitary gate corresponding to our problem Hamiltonian ($H_P$) such that $U_P(\\gamma)=e^{-i H_P \\gamma }$ and $U_M(\\beta)$ is unitary gate corresponding to a Hamiltonian of which the prepared state $\\ket{+}^{\\otimes N}$ is an eigenstate. Specifically, $H_M = X^{\\otimes N}$ and the prepared state $\\ket{+}^{\\otimes N}$ is its highest energy eigenstate since $H_M \\ket{+}^{\\otimes N}=1 \\ket{+}^{\\otimes N}$.\n",
    "\n",
    "After repeated applications of these two unitary gates, each qubit is measured. Let's think about the way this circuit looks in the context of our previous conversation of adiabatic quantum computing. We start in an eigenstate of $H_M$ and then repeatedly apply the two unitary gates that are the same up to some parameters $\\gamma$ and $\\beta$. When the circuit is measured, the output is sent to a classical optimizer, which updates better values for $\\gamma$ and $\\beta$ until the measurement converges. In fact, the typical best soution for the set of parameters $\\gamma$ and $\\beta$ reflects exactly an adiabatic schedule and QAOA can be seen to be a trotterized version of the adiabatic quantum evolution. By starting in an easy to prepare highest energy eigenstate of the mixer Hamiltonian and repeatedly applying the combination of mixer and problem unitaries, we hope to get closer to the corresponding eigenstate of the problem Hamiltonian. In the limit that $p\\rightarrow \\infty$ QAOA will exactly replicate the adiabatic quantum evolution.\n",
    "\n",
    "Of course, we can't actually implement QAOA for infinite depth. QAOA is only well understood for small $p$ and current quantum hardware cannot reliably execute high depth quantum circuits."
   ]
  },
  {
   "cell_type": "markdown",
   "metadata": {},
   "source": [
    "<h2 style=\"color:#9A11DA;\">QAOA Implementation </h2>"
   ]
  },
  {
   "cell_type": "markdown",
   "metadata": {},
   "source": [
    "Let's break down QAOA into the four basic pieces of a VQA that we have learned:\n",
    "\n",
    "1. Cost function: The cost function is a mathematical representation of the problem to be solved. In QAOA, the cost function is typically expressed as an Ising or Quadratic Unconstrained Binary Optimization (QUBO) model, which is then mapped to a Hamiltonian, a quantum mechanical operator representing the problem's energy landscape.\n",
    "\n",
    "2. Ansatz: The ansatz is a parameterized quantum circuit that prepares a quantum state as an approximation to the optimal solution. QAOA uses a specific ansatz, which is constructed by alternating two types of operators, namely the problem Hamiltonian (related to the cost function) and a mixing Hamiltonian. The depth of the circuit (number of repetitions of these operators) and the parameters associated with these operators determine the quality of the approximation.\n",
    "\n",
    "3. Gradients: Gradients represent the change in the cost function with respect to the parameters of the ansatz. In classical optimization, gradients are used to guide the search towards the minimum of the cost function. In QAOA, gradients can be computed using parameter-shift rules, finite-difference methods, or even machine learning techniques. However, gradient-based optimization in QAOA is not always employed, as it can sometimes be computationally expensive or challenging to implement.\n",
    "\n",
    "4. Optimizers: Optimizers are classical algorithms used to search for the optimal values of the parameters in the ansatz. The goal is to minimize the expectation value of the problem Hamiltonian (cost function) with respect to the prepared quantum state. Commonly used optimizers include gradient-based methods (such as gradient descent or Adam), derivative-free methods (such as Nelder-Mead or particle swarm optimization), or even more advanced techniques like Bayesian optimization."
   ]
  },
  {
   "cell_type": "markdown",
   "metadata": {},
   "source": [
    "So far, we understand how to write the QUBO cost function in terms of a Hamiltonian and we have seen the basic schematic of the QAOA quantum circuit. What we haven't discussed is how to actually implement the unitary gate $U_P(\\gamma)$ and $U_M(\\gamma)$. We will do that now!"
   ]
  },
  {
   "cell_type": "markdown",
   "metadata": {},
   "source": [
    "Recall that we can get the unitary time-evolution operator corresponding to a given Hamiltonian via the expression $U(t) = e^{-i Ht}$ and the exponential of a matrix is given by $e^M = \\sum_{k=0}^{\\infty}=\\frac{1}{k!}M^k$. We will not go through a full derivation for now, but the result of forming a unitary time-evolution operator for the Pauli matrices is depicted below:\n",
    "\n",
    "$$X = \\begin{pmatrix} 0 & 1 \\\\ 1 & 0 \\end{pmatrix}, \\quad Y = \\begin{pmatrix} 0 & -i \\\\ i & 0 \\end{pmatrix}, \\quad Z = \\begin{pmatrix} 1 & 0 \\\\ 0 & -1 \\end{pmatrix}\n",
    "$$\n",
    "\n",
    "$$ R_X(2 \\theta) = e^{-i \\theta X} = \\begin{pmatrix} \\cos{\\theta} & -i \\sin{\\theta} \\\\ -i \\sin{\\theta} & \\cos{\\theta} \\end{pmatrix}, \\quad R_Y(2 \\theta) = e^{-i \\theta Y} = \\begin{pmatrix} \\cos{\\theta} & - \\sin{\\theta} \\\\ \\sin{\\theta} & \\cos{\\theta} \\end{pmatrix}, \\quad R_Z(\\theta) = e^{-i \\theta Z} = \\begin{pmatrix} e^{-i \\theta} & 0 \\\\ 0 & e^{i \\theta} \\end{pmatrix}\n",
    "$$\n",
    "\n",
    "Our problem Hamiltonian also includes a term of the form $Z_i Z_j$ which, when exponentiated, is a 4x4 matrix composed of individual $R_Z$'s\n",
    "\n",
    "$$R_{ZZ}(\\theta) = \\begin{pmatrix} R_Z(\\theta) & 0 \\\\ 0 & R_Z(-\\theta) \\end{pmatrix}\\;.$$\n",
    "\n",
    "\n"
   ]
  },
  {
   "cell_type": "markdown",
   "metadata": {},
   "source": [
    "We can now write out the exact gates necessary to implement both our problem unitary gate and our mixer unitary gate.\n",
    "\n",
    "Recall the problem Hamiltonian\n",
    "\n",
    "$$ H_P = \\sum_{i,j}\\left( \\frac{Q_{ij}}{4} Z_i Z_j -\\frac{Q_{ij}}{2}Z_i\\right) + \\sum_{i}\\left( -\\frac{c_i}{2}Z_i\\right) \\;. $$\n",
    "\n",
    "We want to write $U_P(\\gamma) = e^{-i H_P \\gamma}$. Working everything out...\n",
    "\n",
    "$$ U_P(\\gamma) = e^{-i H_P \\gamma} = e^{-i  \\left(\\sum_{i,j}\\left( \\frac{Q_{ij}}{4} Z_i Z_j\\right) - \\frac{1}{2}\\sum_{i}\\left( c_i +\\sum_j Q_{ij}\\right)Z_i\\right) \\gamma}\\\\\n",
    "= \\prod_{i , j} R_{Z_i Z_j} \\left(\\frac{Q_{ij}}{2}\\gamma \\right) \\prod_{i} R_{Z_i}\\left(- \\left(c_i + \\sum_j Q_{ij} \\right)  \\gamma\\right)$$\n",
    "\n"
   ]
  },
  {
   "cell_type": "markdown",
   "metadata": {},
   "source": [
    "With all of this mind, let's write and understand how to fully implement $p=1$ (one application of alternating gates) QAOA for solving Max Cut using Qiskit.\n",
    "\n",
    "We first initialize the qubits and apply Hadamard gates to produce the full superposition state."
   ]
  },
  {
   "cell_type": "code",
   "execution_count": 5,
   "metadata": {},
   "outputs": [
    {
     "data": {
      "text/html": [
       "<pre style=\"word-wrap: normal;white-space: pre;background: #fff0;line-height: 1.1;font-family: &quot;Courier New&quot;,Courier,monospace\">     ┌───┐ ░ \n",
       "q_0: ┤ H ├─░─\n",
       "     ├───┤ ░ \n",
       "q_1: ┤ H ├─░─\n",
       "     ├───┤ ░ \n",
       "q_2: ┤ H ├─░─\n",
       "     └───┘ ░ \n",
       "c: 3/════════\n",
       "             </pre>"
      ],
      "text/plain": [
       "     ┌───┐ ░ \n",
       "q_0: ┤ H ├─░─\n",
       "     ├───┤ ░ \n",
       "q_1: ┤ H ├─░─\n",
       "     ├───┤ ░ \n",
       "q_2: ┤ H ├─░─\n",
       "     └───┘ ░ \n",
       "c: 3/════════\n",
       "             "
      ]
     },
     "execution_count": 5,
     "metadata": {},
     "output_type": "execute_result"
    }
   ],
   "source": [
    "from qiskit import QuantumCircuit, ClassicalRegister, QuantumRegister\n",
    "\n",
    "qubits = 3\n",
    "cbits = 3\n",
    "circ = QuantumCircuit(qubits, cbits)\n",
    "\n",
    "circ.h(range(qubits))\n",
    "circ.barrier()\n",
    "\n",
    "# circ.draw(output='mpl')\n",
    "circ.draw()"
   ]
  },
  {
   "cell_type": "markdown",
   "metadata": {},
   "source": [
    "Now, we apply a first layer of our problem unitary gate and our mixer unitary gate. These each decompose as follows..."
   ]
  },
  {
   "cell_type": "code",
   "execution_count": 6,
   "metadata": {},
   "outputs": [],
   "source": [
    "def filter_pairs(pairs):\n",
    "    filtered_pairs = []\n",
    "    for i, pair in enumerate(pairs):\n",
    "        if (pair[1], pair[0]) not in pairs[i+1:] and pair not in filtered_pairs:\n",
    "            filtered_pairs.append(pair)\n",
    "    return filtered_pairs\n",
    "\n",
    "\n",
    "\n",
    "\n",
    "def U_P(circ, gamma, Q, c):\n",
    "    dim = Q.shape[0]\n",
    "    pairs = []\n",
    "    for i in range(dim):\n",
    "        for j in range(dim):\n",
    "            if i!=j:\n",
    "                pairs.append((i, j))\n",
    "\n",
    "    pairs = filter_pairs(pairs)\n",
    "\n",
    "    Qsum = np.sum(Q,axis=1)\n",
    "    for i,j in pairs:\n",
    "        circ.rzz((Q[i][j]/2*gamma), i, j)\n",
    "    for i in range(dim):\n",
    "        circ.rz(-(c[i] + Qsum[i]),i)\n",
    "    circ.barrier()\n",
    "    return circ\n",
    "\n",
    "def U_M(circ, beta):\n",
    "    for i in range(circ.num_qubits):\n",
    "        circ.rx(2*beta, i-1)\n",
    "    circ.barrier()\n",
    "    return circ"
   ]
  },
  {
   "cell_type": "code",
   "execution_count": 7,
   "metadata": {},
   "outputs": [
    {
     "data": {
      "text/html": [
       "<pre style=\"word-wrap: normal;white-space: pre;background: #fff0;line-height: 1.1;font-family: &quot;Courier New&quot;,Courier,monospace\">     ┌───┐ ░                 ┌────────┐           ░ ┌───────┐ ░ \n",
       "q_0: ┤ H ├─░──■───────■──────┤ Rz(-2) ├───────────░─┤ Rx(2) ├─░─\n",
       "     ├───┤ ░  │ZZ(0)  │      └────────┘┌────────┐ ░ ├───────┤ ░ \n",
       "q_1: ┤ H ├─░──■───────┼────────■───────┤ Rz(-2) ├─░─┤ Rx(2) ├─░─\n",
       "     ├───┤ ░          │ZZ(0)   │ZZ(0)  ├────────┤ ░ ├───────┤ ░ \n",
       "q_2: ┤ H ├─░──────────■────────■───────┤ Rz(-2) ├─░─┤ Rx(2) ├─░─\n",
       "     └───┘ ░                           └────────┘ ░ └───────┘ ░ \n",
       "c: 3/═══════════════════════════════════════════════════════════\n",
       "                                                                </pre>"
      ],
      "text/plain": [
       "     ┌───┐ ░                 ┌────────┐           ░ ┌───────┐ ░ \n",
       "q_0: ┤ H ├─░──■───────■──────┤ Rz(-2) ├───────────░─┤ Rx(2) ├─░─\n",
       "     ├───┤ ░  │ZZ(0)  │      └────────┘┌────────┐ ░ ├───────┤ ░ \n",
       "q_1: ┤ H ├─░──■───────┼────────■───────┤ Rz(-2) ├─░─┤ Rx(2) ├─░─\n",
       "     ├───┤ ░          │ZZ(0)   │ZZ(0)  ├────────┤ ░ ├───────┤ ░ \n",
       "q_2: ┤ H ├─░──────────■────────■───────┤ Rz(-2) ├─░─┤ Rx(2) ├─░─\n",
       "     └───┘ ░                           └────────┘ ░ └───────┘ ░ \n",
       "c: 3/═══════════════════════════════════════════════════════════\n",
       "                                                                "
      ]
     },
     "execution_count": 7,
     "metadata": {},
     "output_type": "execute_result"
    }
   ],
   "source": [
    "import numpy as np\n",
    "\n",
    "# circ = QuantumCircuit(4,4)\n",
    "gamma = 1\n",
    "beta = 1\n",
    "\n",
    "c = np.ones(3)\n",
    "Q = np.identity(3)\n",
    "\n",
    "# c = np.array([1,1,1,1])\n",
    "# Q = np.array([[0., 1., 1., 1.],\n",
    "#             [1., 0., 1., 0.],\n",
    "#             [1., 1., 0., 1.],\n",
    "#             [1., 0., 1., 0.]])\n",
    "\n",
    "\n",
    "circ = U_P(circ, gamma, Q, c)\n",
    "circ = U_M(circ, beta)\n",
    "# circ.draw(output='mpl')\n",
    "circ.draw()"
   ]
  },
  {
   "cell_type": "markdown",
   "metadata": {},
   "source": [
    "We would then just need to add a measurement at the end"
   ]
  },
  {
   "cell_type": "code",
   "execution_count": 8,
   "metadata": {},
   "outputs": [
    {
     "data": {
      "text/html": [
       "<pre style=\"word-wrap: normal;white-space: pre;background: #fff0;line-height: 1.1;font-family: &quot;Courier New&quot;,Courier,monospace\">     ┌───┐ ░                 ┌────────┐           ░ ┌───────┐ ░ ┌─┐      \n",
       "q_0: ┤ H ├─░──■───────■──────┤ Rz(-2) ├───────────░─┤ Rx(2) ├─░─┤M├──────\n",
       "     ├───┤ ░  │ZZ(0)  │      └────────┘┌────────┐ ░ ├───────┤ ░ └╥┘┌─┐   \n",
       "q_1: ┤ H ├─░──■───────┼────────■───────┤ Rz(-2) ├─░─┤ Rx(2) ├─░──╫─┤M├───\n",
       "     ├───┤ ░          │ZZ(0)   │ZZ(0)  ├────────┤ ░ ├───────┤ ░  ║ └╥┘┌─┐\n",
       "q_2: ┤ H ├─░──────────■────────■───────┤ Rz(-2) ├─░─┤ Rx(2) ├─░──╫──╫─┤M├\n",
       "     └───┘ ░                           └────────┘ ░ └───────┘ ░  ║  ║ └╥┘\n",
       "c: 3/════════════════════════════════════════════════════════════╩══╩══╩═\n",
       "                                                                 0  1  2 </pre>"
      ],
      "text/plain": [
       "     ┌───┐ ░                 ┌────────┐           ░ ┌───────┐ ░ ┌─┐      \n",
       "q_0: ┤ H ├─░──■───────■──────┤ Rz(-2) ├───────────░─┤ Rx(2) ├─░─┤M├──────\n",
       "     ├───┤ ░  │ZZ(0)  │      └────────┘┌────────┐ ░ ├───────┤ ░ └╥┘┌─┐   \n",
       "q_1: ┤ H ├─░──■───────┼────────■───────┤ Rz(-2) ├─░─┤ Rx(2) ├─░──╫─┤M├───\n",
       "     ├───┤ ░          │ZZ(0)   │ZZ(0)  ├────────┤ ░ ├───────┤ ░  ║ └╥┘┌─┐\n",
       "q_2: ┤ H ├─░──────────■────────■───────┤ Rz(-2) ├─░─┤ Rx(2) ├─░──╫──╫─┤M├\n",
       "     └───┘ ░                           └────────┘ ░ └───────┘ ░  ║  ║ └╥┘\n",
       "c: 3/════════════════════════════════════════════════════════════╩══╩══╩═\n",
       "                                                                 0  1  2 "
      ]
     },
     "execution_count": 8,
     "metadata": {},
     "output_type": "execute_result"
    }
   ],
   "source": [
    "circ.measure(range(circ.num_qubits), range(circ.num_qubits))\n",
    "# circ.draw(output='mpl')\n",
    "circ.draw()"
   ]
  },
  {
   "cell_type": "markdown",
   "metadata": {},
   "source": [
    "We want the encoding of $Q_{ij}$ and $c_i$ to the basic max cut problem we detail in the previous notebook. Generate a random graph and then map the graph into the corresponding $Q_{ij}$ matrix."
   ]
  },
  {
   "cell_type": "code",
   "execution_count": 9,
   "metadata": {},
   "outputs": [],
   "source": [
    "# useful additional packages\n",
    "import matplotlib.pyplot as plt\n",
    "import numpy as np\n",
    "import networkx as nx"
   ]
  },
  {
   "cell_type": "code",
   "execution_count": 10,
   "metadata": {},
   "outputs": [
    {
     "data": {
      "image/png": "[encoded data removed]",
      "text/plain": [
       "<Figure size 640x480 with 1 Axes>"
      ]
     },
     "metadata": {},
     "output_type": "display_data"
    }
   ],
   "source": [
    "# Generating a graph of 4 nodes\n",
    "\n",
    "n = 4  # Number of nodes in graph\n",
    "G = nx.Graph()\n",
    "G.add_nodes_from(np.arange(0, n, 1))\n",
    "elist = [(0, 1, 1.0), (0, 2, 1.0), (0, 3, 1.0), (1, 2, 1.0), (2, 3, 1.0)]\n",
    "# tuple is (i,j,weight) where (i,j) is the edge\n",
    "G.add_weighted_edges_from(elist)\n",
    "\n",
    "colors = [\"r\" for node in G.nodes()]\n",
    "pos = nx.spring_layout(G)\n",
    "\n",
    "\n",
    "def draw_graph(G, colors, pos):\n",
    "    default_axes = plt.axes(frameon=True)\n",
    "    nx.draw_networkx(G, node_color=colors, node_size=600, alpha=0.8, ax=default_axes, pos=pos)\n",
    "    edge_labels = nx.get_edge_attributes(G, \"weight\")\n",
    "    nx.draw_networkx_edge_labels(G, pos=pos, edge_labels=edge_labels)\n",
    "\n",
    "\n",
    "draw_graph(G, colors, pos)"
   ]
  },
  {
   "cell_type": "code",
   "execution_count": 11,
   "metadata": {},
   "outputs": [
    {
     "name": "stdout",
     "output_type": "stream",
     "text": [
      "[[0. 1. 1. 1.]\n",
      " [1. 0. 1. 0.]\n",
      " [1. 1. 0. 1.]\n",
      " [1. 0. 1. 0.]]\n"
     ]
    }
   ],
   "source": [
    "# Computing the weight matrix from the random graph\n",
    "Q = np.zeros([n, n])\n",
    "for i in range(n):\n",
    "    for j in range(n):\n",
    "        temp = G.get_edge_data(i, j, default=0)\n",
    "        if temp != 0:\n",
    "            Q[i, j] = temp[\"weight\"]\n",
    "\n",
    "print(Q)"
   ]
  },
  {
   "cell_type": "code",
   "execution_count": 12,
   "metadata": {},
   "outputs": [
    {
     "name": "stdout",
     "output_type": "stream",
     "text": [
      "case = [0, 0, 0, 0] cut = 0.0\n",
      "case = [1, 0, 0, 0] cut = 3.0\n",
      "case = [0, 1, 0, 0] cut = 2.0\n",
      "case = [1, 1, 0, 0] cut = 3.0\n",
      "case = [0, 0, 1, 0] cut = 3.0\n",
      "case = [1, 0, 1, 0] cut = 4.0\n",
      "case = [0, 1, 1, 0] cut = 3.0\n",
      "case = [1, 1, 1, 0] cut = 2.0\n",
      "case = [0, 0, 0, 1] cut = 2.0\n",
      "case = [1, 0, 0, 1] cut = 3.0\n",
      "case = [0, 1, 0, 1] cut = 4.0\n",
      "case = [1, 1, 0, 1] cut = 3.0\n",
      "case = [0, 0, 1, 1] cut = 3.0\n",
      "case = [1, 0, 1, 1] cut = 2.0\n",
      "case = [0, 1, 1, 1] cut = 3.0\n",
      "case = [1, 1, 1, 1] cut = 0.0\n",
      "\n",
      "Best solution = [1, 0, 1, 0] cut = 4.0\n"
     ]
    },
    {
     "data": {
      "image/png": "[encoded data removed]",
      "text/plain": [
       "<Figure size 640x480 with 1 Axes>"
      ]
     },
     "metadata": {},
     "output_type": "display_data"
    }
   ],
   "source": [
    "# Brute force solution so we can have something to check against\n",
    "\n",
    "best_cut_brute = 0\n",
    "for b in range(2**n):\n",
    "    x = [int(t) for t in reversed(list(bin(b)[2:].zfill(n)))]\n",
    "    cut = 0\n",
    "    for i in range(n):\n",
    "        for j in range(n):\n",
    "            cut += Q[i, j] * x[i] * (1 - x[j])\n",
    "    if best_cut_brute < cut:\n",
    "        best_cut_brute = cut\n",
    "        xbest_brute = x\n",
    "    print(\"case = \" + str(x) + \" cut = \" + str(cut))\n",
    "\n",
    "colors = [\"r\" if xbest_brute[i] == 0 else \"c\" for i in range(n)]\n",
    "draw_graph(G, colors, pos)\n",
    "print(\"\\nBest solution = \" + str(xbest_brute) + \" cut = \" + str(best_cut_brute))"
   ]
  },
  {
   "cell_type": "markdown",
   "metadata": {},
   "source": [
    "Notice that the maximal cut is degenerate between [0,1,0,1] and [1,0,1,0]. Also, we should note that the values here differ from the cut value since we left off a constant when writing the QUBO problem hamiltonian earlier."
   ]
  },
  {
   "cell_type": "markdown",
   "metadata": {},
   "source": [
    "Now we want to use this as input to the parametrized quantum circuit we wrote down. We can also calculate the initial cost by simulating the circuit for some amount of shots. First, let's just write down the QAOA circuit"
   ]
  },
  {
   "cell_type": "code",
   "execution_count": 13,
   "metadata": {},
   "outputs": [
    {
     "data": {
      "text/html": [
       "<pre style=\"word-wrap: normal;white-space: pre;background: #fff0;line-height: 1.1;font-family: &quot;Courier New&quot;,Courier,monospace\">     ┌───┐                                                        ┌───────┐»\n",
       "q_0: ┤ H ├─■─────────────■───────────────────────────■────────────┤ Rz(0) ├»\n",
       "     ├───┤ │ZZ(0.32318)  │                           │            └───────┘»\n",
       "q_1: ┤ H ├─■─────────────┼─────────────■─────────────┼──────────────■──────»\n",
       "     ├───┤               │ZZ(0.32318)  │ZZ(0.32318)  │              │      »\n",
       "q_2: ┤ H ├───────────────■─────────────■─────────────┼──────────────┼──────»\n",
       "     ├───┤                                           │ZZ(0.32318)   │ZZ(0) »\n",
       "q_3: ┤ H ├───────────────────────────────────────────■──────────────■──────»\n",
       "     └───┘                                                                 »\n",
       "c: 4/══════════════════════════════════════════════════════════════════════»\n",
       "                                                                           »\n",
       "«                             ░ ┌────────────┐ ░ ┌─┐         \n",
       "«q_0: ────────────────────────░─┤ Rx(1.7479) ├─░─┤M├─────────\n",
       "«       ┌───────┐             ░ ├────────────┤ ░ └╥┘┌─┐      \n",
       "«q_1: ──┤ Rz(0) ├─────────────░─┤ Rx(1.7479) ├─░──╫─┤M├──────\n",
       "«       └───────┘   ┌───────┐ ░ ├────────────┤ ░  ║ └╥┘┌─┐   \n",
       "«q_2: ─■────────────┤ Rz(0) ├─░─┤ Rx(1.7479) ├─░──╫──╫─┤M├───\n",
       "«      │ZZ(0.32318) ├───────┤ ░ ├────────────┤ ░  ║  ║ └╥┘┌─┐\n",
       "«q_3: ─■────────────┤ Rz(0) ├─░─┤ Rx(1.7479) ├─░──╫──╫──╫─┤M├\n",
       "«                   └───────┘ ░ └────────────┘ ░  ║  ║  ║ └╥┘\n",
       "«c: 4/════════════════════════════════════════════╩══╩══╩══╩═\n",
       "«                                                 0  1  2  3 </pre>"
      ],
      "text/plain": [
       "     ┌───┐                                                        ┌───────┐»\n",
       "q_0: ┤ H ├─■─────────────■───────────────────────────■────────────┤ Rz(0) ├»\n",
       "     ├───┤ │ZZ(0.32318)  │                           │            └───────┘»\n",
       "q_1: ┤ H ├─■─────────────┼─────────────■─────────────┼──────────────■──────»\n",
       "     ├───┤               │ZZ(0.32318)  │ZZ(0.32318)  │              │      »\n",
       "q_2: ┤ H ├───────────────■─────────────■─────────────┼──────────────┼──────»\n",
       "     ├───┤                                           │ZZ(0.32318)   │ZZ(0) »\n",
       "q_3: ┤ H ├───────────────────────────────────────────■──────────────■──────»\n",
       "     └───┘                                                                 »\n",
       "c: 4/══════════════════════════════════════════════════════════════════════»\n",
       "                                                                           »\n",
       "«                             ░ ┌────────────┐ ░ ┌─┐         \n",
       "«q_0: ────────────────────────░─┤ Rx(1.7479) ├─░─┤M├─────────\n",
       "«       ┌───────┐             ░ ├────────────┤ ░ └╥┘┌─┐      \n",
       "«q_1: ──┤ Rz(0) ├─────────────░─┤ Rx(1.7479) ├─░──╫─┤M├──────\n",
       "«       └───────┘   ┌───────┐ ░ ├────────────┤ ░  ║ └╥┘┌─┐   \n",
       "«q_2: ─■────────────┤ Rz(0) ├─░─┤ Rx(1.7479) ├─░──╫──╫─┤M├───\n",
       "«      │ZZ(0.32318) ├───────┤ ░ ├────────────┤ ░  ║  ║ └╥┘┌─┐\n",
       "«q_3: ─■────────────┤ Rz(0) ├─░─┤ Rx(1.7479) ├─░──╫──╫──╫─┤M├\n",
       "«                   └───────┘ ░ └────────────┘ ░  ║  ║  ║ └╥┘\n",
       "«c: 4/════════════════════════════════════════════╩══╩══╩══╩═\n",
       "«                                                 0  1  2  3 "
      ]
     },
     "execution_count": 13,
     "metadata": {},
     "output_type": "execute_result"
    }
   ],
   "source": [
    "# Write QAOA circuit\n",
    "\n",
    "from qiskit import QuantumCircuit, ClassicalRegister, QuantumRegister\n",
    "import random\n",
    "\n",
    "qubits = n\n",
    "cbits = n\n",
    "circ = QuantumCircuit(qubits, cbits)\n",
    "\n",
    "circ.h(range(qubits))\n",
    "\n",
    "gamma = random.uniform(0.0, 2*np.pi)\n",
    "beta = random.uniform(0.0, 2*np.pi)\n",
    "\n",
    "Qsum = np.sum(Q,axis=1)\n",
    "c = -Qsum\n",
    "\n",
    "\n",
    "circ = U_P(circ, gamma, Q, c)\n",
    "circ = U_M(circ, beta)\n",
    "circ.measure(range(circ.num_qubits), range(circ.num_qubits))\n",
    "\n",
    "# circ.draw(output='mpl')\n",
    "circ.draw()"
   ]
  },
  {
   "cell_type": "code",
   "execution_count": 14,
   "metadata": {},
   "outputs": [
    {
     "name": "stdout",
     "output_type": "stream",
     "text": [
      "{'0010': 591, '1010': 778, '0001': 662, '1111': 781, '0011': 476, '0111': 594, '1011': 697, '0000': 736, '1100': 484, '0100': 659, '1001': 438, '0101': 781, '1110': 677, '1000': 591, '0110': 518, '1101': 537}\n"
     ]
    }
   ],
   "source": [
    "from qiskit import Aer, execute # Import Aer and execute\n",
    "backend_sim = Aer.get_backend('aer_simulator') #create backend object\n",
    "sim = execute(circ, backend_sim, shots=10000) #run the simulation\n",
    "sim_result = sim.result() #get result object\n",
    "counts = sim_result.get_counts(circ) #obtain the counts from the result object\n",
    "print(counts)"
   ]
  },
  {
   "cell_type": "markdown",
   "metadata": {},
   "source": [
    "We want to be able to measure the energy corresponding to a configuration using the problem Hamiltonian which we repeat below\n",
    "\n",
    "<!-- $$ H_P = \\sum_{i<j}\\left( \\frac{Q_{ij}}{2} Z_i Z_j -Q_{ij}Z_i\\right) + \\sum_{i}\\left( -\\frac{c_i}{2}Z_i\\right) \\;. $$ -->\n",
    "$$ H_P = \\sum_{i,j}\\left( \\frac{Q_{ij}}{4} Z_i Z_j -\\frac{Q_{ij}}{2}Z_i\\right) + \\sum_{i}\\left( -\\frac{c_i}{2}Z_i\\right) \\;. $$\n"
   ]
  },
  {
   "cell_type": "code",
   "execution_count": 15,
   "metadata": {},
   "outputs": [],
   "source": [
    "def compute_z_state(state):\n",
    "    return [1 if qubit == '0' else -1 for qubit in state]\n",
    "\n",
    "state = '0000'\n",
    "\n",
    "z_state = np.array(compute_z_state(state))\n",
    "# print(z_state)\n",
    "\n",
    "def compute_maxcut_energy(z_state, Q, c):\n",
    "    return np.matmul(np.matmul(Q,z_state), z_state)/4\n"
   ]
  },
  {
   "cell_type": "code",
   "execution_count": 16,
   "metadata": {},
   "outputs": [],
   "source": [
    "states = []\n",
    "for i in range(2):\n",
    "    for j in range(2):\n",
    "        for k in range(2):\n",
    "            for l in range(2):\n",
    "                states.append(str(i) + str(j) + str(k) + str(l))"
   ]
  },
  {
   "cell_type": "code",
   "execution_count": 17,
   "metadata": {},
   "outputs": [
    {
     "name": "stdout",
     "output_type": "stream",
     "text": [
      "energy of state 0000 = 2.5\n",
      "energy of state 0001 = 0.5\n",
      "energy of state 0010 = -0.5\n",
      "energy of state 0011 = -0.5\n",
      "energy of state 0100 = 0.5\n",
      "energy of state 0101 = -1.5\n",
      "energy of state 0110 = -0.5\n",
      "energy of state 0111 = -0.5\n",
      "energy of state 1000 = -0.5\n",
      "energy of state 1001 = -0.5\n",
      "energy of state 1010 = -1.5\n",
      "energy of state 1011 = 0.5\n",
      "energy of state 1100 = -0.5\n",
      "energy of state 1101 = -0.5\n",
      "energy of state 1110 = 0.5\n",
      "energy of state 1111 = 2.5\n"
     ]
    }
   ],
   "source": [
    "Qsum = np.sum(Q,axis=1)\n",
    "c = -Qsum\n",
    "\n",
    "for state in states:\n",
    "    z_state = np.array(compute_z_state(state))\n",
    "    energy = compute_maxcut_energy(z_state, Q, c)\n",
    "    print(\"energy of state \" + str(state) + \" = \" + str(energy))"
   ]
  },
  {
   "cell_type": "markdown",
   "metadata": {},
   "source": [
    "Perfect! We see that the states corresponding to degenerate solutions of Max Cut are the lowest energy states. Now, we want to reach these states by optimization because it won't always be this simple to just enumerate all the energies through exhaustive search."
   ]
  },
  {
   "cell_type": "code",
   "execution_count": 18,
   "metadata": {},
   "outputs": [],
   "source": [
    "def calc_avg_energy(counts, Q, c):\n",
    "    energy_array = []\n",
    "    for elem in counts.items():\n",
    "        state = elem[0]\n",
    "        z_state = compute_z_state(state)\n",
    "        energy = compute_maxcut_energy(z_state, Q, c)\n",
    "        energy_array.append(energy*elem[1]/sum(counts.values()))\n",
    "\n",
    "    avg_energy = np.array(energy_array).mean()\n",
    "    return avg_energy\n"
   ]
  },
  {
   "cell_type": "code",
   "execution_count": 19,
   "metadata": {},
   "outputs": [
    {
     "name": "stdout",
     "output_type": "stream",
     "text": [
      "0.0535\n",
      "{'0100': 5, '0001': 3, '1100': 10, '1110': 168, '1001': 10, '0101': 2, '1111': 384, '1010': 144, '0010': 46, '0000': 10, '1011': 144, '0111': 7, '0011': 8, '1101': 7, '1000': 42, '0110': 10}\n"
     ]
    }
   ],
   "source": [
    "from qiskit import QuantumCircuit, ClassicalRegister, QuantumRegister\n",
    "import random\n",
    "\n",
    "qubits = n\n",
    "cbits = n\n",
    "circ = QuantumCircuit(qubits, cbits)\n",
    "\n",
    "circ.h(range(qubits))\n",
    "\n",
    "seed_value = 40\n",
    "\n",
    "c = np.array([0,0,0,0])\n",
    "\n",
    "circ = U_P(circ, gamma, Q, c)\n",
    "circ = U_M(circ, beta)\n",
    "circ.measure(range(circ.num_qubits), range(circ.num_qubits))\n",
    "\n",
    "# circ.draw(output='mpl')\n",
    "circ.draw()\n",
    "\n",
    "from qiskit import Aer, execute # Import Aer and execute\n",
    "backend_sim = Aer.get_backend('qasm_simulator') #create backend object\n",
    "sim = execute(circ, backend_sim, shots=1000) #run the simulation\n",
    "sim_result = sim.result() #get result object\n",
    "counts = sim_result.get_counts(circ) #obtain the counts from the result object\n",
    "energy = calc_avg_energy(counts, Q, np.zeros(n))\n",
    "print(energy)\n",
    "print(counts)"
   ]
  },
  {
   "cell_type": "markdown",
   "metadata": {},
   "source": [
    "Great! We can now initialize the parametrized circuit using a random seed, measure it many times, and print the energy. We want to minimize the energy by varying the parameters. Doing so will solve the original QUBO problem and therefore Max Cut."
   ]
  },
  {
   "cell_type": "code",
   "execution_count": 20,
   "metadata": {},
   "outputs": [],
   "source": [
    "# Q and c defined outside the parametrized circuit\n",
    "Qsum = np.sum(Q,axis=1)\n",
    "c = -Qsum\n",
    "def qaoa_circ(x):\n",
    "    gamma, beta = x[0], x[1]\n",
    "\n",
    "    qubits = n\n",
    "    cbits = n\n",
    "    \n",
    "    circ = QuantumCircuit(qubits, cbits)\n",
    "    circ.h(range(qubits))\n",
    "    circ = U_P(circ, gamma, Q, c)\n",
    "    circ = U_M(circ, beta)\n",
    "    circ.measure(range(circ.num_qubits), range(circ.num_qubits))\n",
    "\n",
    "    backend_sim = Aer.get_backend('qasm_simulator') #create backend object\n",
    "    sim = execute(circ, backend_sim, shots=1000) #run the simulation\n",
    "    sim_result = sim.result() #get result object\n",
    "    counts = sim_result.get_counts(circ) #obtain the counts from the result object\n",
    "    return counts\n",
    "\n",
    "def loss(x):\n",
    "    counts = qaoa_circ(x)\n",
    "    energy = calc_avg_energy(counts, Q,c)\n",
    "    return energy"
   ]
  },
  {
   "cell_type": "code",
   "execution_count": 21,
   "metadata": {},
   "outputs": [
    {
     "name": "stderr",
     "output_type": "stream",
     "text": [
      "/tmp/ipykernel_14226/4147952491.py:1: DeprecationWarning: ``qiskit.algorithms`` has been migrated to an independent package: https://github.com/qiskit-community/qiskit-algorithms. The ``qiskit.algorithms`` import path is deprecated as of qiskit-terra 0.25.0 and will be removed no earlier than 3 months after the release date. Please run ``pip install qiskit_algorithms`` and use ``import qiskit_algorithms`` instead.\n",
      "  from qiskit.algorithms.optimizers import SPSA, NELDER_MEAD, COBYLA\n"
     ]
    },
    {
     "name": "stdout",
     "output_type": "stream",
     "text": [
      "initial energy is: 0.013312500000000005\n",
      "The minimum value is:  -0.0416875\n",
      "The value of x for the minimum value is:  [4.16879998 5.32851314]\n"
     ]
    }
   ],
   "source": [
    "from qiskit.algorithms.optimizers import SPSA, NELDER_MEAD, COBYLA\n",
    "\n",
    "seed_value = 40\n",
    "\n",
    "random.seed(seed_value)\n",
    "gamma0 = random.uniform(0.0, 2*np.pi)\n",
    "beta0 = random.uniform(0.0, 2*np.pi)\n",
    "x0 = [gamma0, beta0]\n",
    "\n",
    "print(\"initial energy is: \" + str(loss(x0)))\n",
    "spsa = SPSA(maxiter=500)\n",
    "result_spsa = spsa.minimize(loss, x0=[gamma0, beta0])\n",
    "print('The minimum value is: ', result_spsa.fun)\n",
    "print('The value of x for the minimum value is: ',result_spsa.x)"
   ]
  },
  {
   "cell_type": "code",
   "execution_count": 22,
   "metadata": {},
   "outputs": [
    {
     "data": {
      "image/png": "[encoded data removed]",
      "text/plain": [
       "<Figure size 700x500 with 1 Axes>"
      ]
     },
     "execution_count": 22,
     "metadata": {},
     "output_type": "execute_result"
    }
   ],
   "source": [
    "from qiskit.visualization import plot_histogram\n",
    "\n",
    "counts = qaoa_circ(result_spsa.x)\n",
    "plot_histogram(counts)"
   ]
  },
  {
   "cell_type": "code",
   "execution_count": 23,
   "metadata": {},
   "outputs": [
    {
     "data": {
      "text/plain": [
       "dict_items([('1100', 24), ('0001', 47), ('1111', 27), ('1010', 207), ('1110', 40), ('0010', 52), ('0000', 28), ('0100', 28), ('0101', 229), ('1001', 34), ('0011', 33), ('0111', 57), ('1011', 48), ('1000', 59), ('0110', 31), ('1101', 56)])"
      ]
     },
     "execution_count": 23,
     "metadata": {},
     "output_type": "execute_result"
    }
   ],
   "source": [
    "counts.items()"
   ]
  },
  {
   "cell_type": "markdown",
   "metadata": {},
   "source": [
    "Let's do this for another graph to convince ourselves it works."
   ]
  },
  {
   "cell_type": "code",
   "execution_count": 38,
   "metadata": {},
   "outputs": [
    {
     "data": {
      "image/png": "[encoded data removed]",
      "text/plain": [
       "<Figure size 640x480 with 1 Axes>"
      ]
     },
     "metadata": {},
     "output_type": "display_data"
    }
   ],
   "source": [
    "import networkx as nx\n",
    "import numpy as np\n",
    "import random\n",
    "import matplotlib.pyplot as plt\n",
    "\n",
    "n = 5  # Number of nodes in graph\n",
    "G = nx.Graph()\n",
    "G.add_nodes_from(np.arange(0, n, 1))\n",
    "\n",
    "# Add random edges with random weights\n",
    "for i in range(n):\n",
    "    for j in range(i+1, n):\n",
    "        if random.random() < 0.5: # 50% chance of adding an edge\n",
    "            # weight = round(random.uniform(0.5, 1.5), 2) # random weight between 0.5 and 1.5\n",
    "            weight = 1\n",
    "            G.add_edge(i, j, weight=weight)\n",
    "\n",
    "colors = [\"r\" for node in G.nodes()]\n",
    "pos = nx.spring_layout(G)\n",
    "\n",
    "def draw_graph(G, colors, pos):\n",
    "    default_axes = plt.axes(frameon=True)\n",
    "    nx.draw_networkx(G, node_color=colors, node_size=600, alpha=0.8, ax=default_axes, pos=pos)\n",
    "    edge_labels = nx.get_edge_attributes(G, \"weight\")\n",
    "    nx.draw_networkx_edge_labels(G, pos=pos, edge_labels=edge_labels)\n",
    "\n",
    "draw_graph(G, colors, pos)"
   ]
  },
  {
   "cell_type": "code",
   "execution_count": 39,
   "metadata": {},
   "outputs": [
    {
     "name": "stdout",
     "output_type": "stream",
     "text": [
      "[[0. 1. 1. 0. 0.]\n",
      " [1. 0. 1. 1. 0.]\n",
      " [1. 1. 0. 1. 1.]\n",
      " [0. 1. 1. 0. 0.]\n",
      " [0. 0. 1. 0. 0.]]\n"
     ]
    }
   ],
   "source": [
    "# Computing the weight matrix from the random graph\n",
    "Q = np.zeros([n, n])\n",
    "for i in range(n):\n",
    "    for j in range(n):\n",
    "        temp = G.get_edge_data(i, j, default=0)\n",
    "        if temp != 0:\n",
    "            Q[i, j] = temp[\"weight\"]\n",
    "\n",
    "print(Q)"
   ]
  },
  {
   "cell_type": "code",
   "execution_count": 40,
   "metadata": {},
   "outputs": [
    {
     "name": "stdout",
     "output_type": "stream",
     "text": [
      "initial energy is: -0.00121875\n",
      "The minimum value is:  -0.0095\n",
      "The value of x for the minimum value is:  [2.56520652 5.11608163]\n"
     ]
    }
   ],
   "source": [
    "from qiskit.algorithms.optimizers import SPSA, NELDER_MEAD, COBYLA\n",
    "\n",
    "seed_value = 40\n",
    "\n",
    "random.seed(seed_value)\n",
    "gamma0 = random.uniform(0.0, 2*np.pi)\n",
    "beta0 = random.uniform(0.0, 2*np.pi)\n",
    "x0 = [gamma0, beta0]\n",
    "\n",
    "print(\"initial energy is: \" + str(loss(x0)))\n",
    "spsa = SPSA(maxiter=50)\n",
    "result_spsa = spsa.minimize(loss, x0=[gamma0, beta0])\n",
    "print('The minimum value is: ', result_spsa.fun)\n",
    "print('The value of x for the minimum value is: ',result_spsa.x)"
   ]
  },
  {
   "cell_type": "code",
   "execution_count": 41,
   "metadata": {},
   "outputs": [
    {
     "name": "stdout",
     "output_type": "stream",
     "text": [
      "case = [0, 0, 0, 0, 0] cut = 0.0\n",
      "case = [1, 0, 0, 0, 0] cut = 2.0\n",
      "case = [0, 1, 0, 0, 0] cut = 3.0\n",
      "case = [1, 1, 0, 0, 0] cut = 3.0\n",
      "case = [0, 0, 1, 0, 0] cut = 4.0\n",
      "case = [1, 0, 1, 0, 0] cut = 4.0\n",
      "case = [0, 1, 1, 0, 0] cut = 5.0\n",
      "case = [1, 1, 1, 0, 0] cut = 3.0\n",
      "case = [0, 0, 0, 1, 0] cut = 2.0\n",
      "case = [1, 0, 0, 1, 0] cut = 4.0\n",
      "case = [0, 1, 0, 1, 0] cut = 3.0\n",
      "case = [1, 1, 0, 1, 0] cut = 3.0\n",
      "case = [0, 0, 1, 1, 0] cut = 4.0\n",
      "case = [1, 0, 1, 1, 0] cut = 4.0\n",
      "case = [0, 1, 1, 1, 0] cut = 3.0\n",
      "case = [1, 1, 1, 1, 0] cut = 1.0\n",
      "case = [0, 0, 0, 0, 1] cut = 1.0\n",
      "case = [1, 0, 0, 0, 1] cut = 3.0\n",
      "case = [0, 1, 0, 0, 1] cut = 4.0\n",
      "case = [1, 1, 0, 0, 1] cut = 4.0\n",
      "case = [0, 0, 1, 0, 1] cut = 3.0\n",
      "case = [1, 0, 1, 0, 1] cut = 3.0\n",
      "case = [0, 1, 1, 0, 1] cut = 4.0\n",
      "case = [1, 1, 1, 0, 1] cut = 2.0\n",
      "case = [0, 0, 0, 1, 1] cut = 3.0\n",
      "case = [1, 0, 0, 1, 1] cut = 5.0\n",
      "case = [0, 1, 0, 1, 1] cut = 4.0\n",
      "case = [1, 1, 0, 1, 1] cut = 4.0\n",
      "case = [0, 0, 1, 1, 1] cut = 3.0\n",
      "case = [1, 0, 1, 1, 1] cut = 3.0\n",
      "case = [0, 1, 1, 1, 1] cut = 2.0\n",
      "case = [1, 1, 1, 1, 1] cut = 0.0\n",
      "\n",
      "Best solution = [0, 1, 1, 0, 0] cut = 5.0\n"
     ]
    },
    {
     "data": {
      "image/png": "[encoded data removed]",
      "text/plain": [
       "<Figure size 640x480 with 1 Axes>"
      ]
     },
     "metadata": {},
     "output_type": "display_data"
    }
   ],
   "source": [
    "# Brute force solution so we can have something to check against\n",
    "\n",
    "best_cut_brute = 0\n",
    "for b in range(2**n):\n",
    "    x = [int(t) for t in reversed(list(bin(b)[2:].zfill(n)))]\n",
    "    cut = 0\n",
    "    for i in range(n):\n",
    "        for j in range(n):\n",
    "            cut += Q[i, j] * x[i] * (1 - x[j])\n",
    "    if best_cut_brute < cut:\n",
    "        best_cut_brute = cut\n",
    "        xbest_brute = x\n",
    "    print(\"case = \" + str(x) + \" cut = \" + str(cut))\n",
    "\n",
    "colors = [\"r\" if xbest_brute[i] == 0 else \"c\" for i in range(n)]\n",
    "draw_graph(G, colors, pos)\n",
    "print(\"\\nBest solution = \" + str(xbest_brute) + \" cut = \" + str(best_cut_brute))"
   ]
  }
 ],
 "metadata": {
  "kernelspec": {
   "display_name": "Python 3 [qBraid]",
   "language": "python",
   "name": "python3_qbraid_sdk_9j9sjy"
  },
  "language_info": {
   "codemirror_mode": {
    "name": "ipython",
    "version": 3
   },
   "file_extension": ".py",
   "mimetype": "text/x-python",
   "name": "python",
   "nbconvert_exporter": "python",
   "pygments_lexer": "ipython3",
   "version": "3.9.18"
  },
  "vscode": {
   "interpreter": {
    "hash": "493924c5d35adb7ef1523bec0f1234a5915de9af0cbc510f790dc6170b1984de"
   }
  }
 },
 "nbformat": 4,
 "nbformat_minor": 4
}
