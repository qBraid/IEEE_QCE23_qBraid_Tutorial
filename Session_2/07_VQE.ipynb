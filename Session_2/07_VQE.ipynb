{
 "cells": [
  {
   "cell_type": "markdown",
   "id": "58886450-86fa-406c-bd68-5b3af36e2b87",
   "metadata": {
    "tags": []
   },
   "source": [
    "<h1 style=\"color:#D30982; text-align:center;\">Variational Quantum Eigensolver</h1> \n",
    "\n"
   ]
  },
  {
   "attachments": {},
   "cell_type": "markdown",
   "id": "e15f753d",
   "metadata": {},
   "source": [
    "<h1 style=\"color:#D30982;\">Overview</h1>\n",
    "\n",
    "- Overview of Variational Quantum Eigensolver (VQE)\n",
    "- Implementing VQE for Finding the Ground State of a Hamiltonian\n",
    "- Performance of Various Ansatz and Optimizers in VQAs"
   ]
  },
  {
   "attachments": {},
   "cell_type": "markdown",
   "id": "e68c5012",
   "metadata": {},
   "source": [
    "<h1 style=\"color:#D30982;\">Overview of VQE</h1>\n",
    "\n",
    "- The VQE algorithm was first proposed and demonstrated by Peruzzo et. al. in 2014. It is based on Rayleigh-Ritz method, which is an approximate method to find the lowest eigenvalue of a given Hamiltonian.\n",
    "- Variational Quantum Eigensolver (VQE) is a hybrid quantum-classical algorithm\n",
    "- Goal: Find the ground state energy (lowest eigenvalue) of a given Hamiltonian (H), which describes the system of interest in quantum mechanics\n",
    "\n",
    "$$ E_{ground} = \\text{min} \\braket{\\psi (\\theta)| H | \\psi(\\theta)} \\;.$$\n",
    "\n",
    "- Procedure: Minimize the expectation value of the Hamiltonian with respect to a quantum state, which is a parameterized quantum circuit (ansatz)\n",
    "- VQE combines the strengths of quantum computers (manipulating high-dimensional quantum states) and classical computers (performing optimization)"
   ]
  },
  {
   "attachments": {},
   "cell_type": "markdown",
   "id": "bb710675",
   "metadata": {},
   "source": [
    "<h1 style=\"color:#D30982;\">Relationship Between VQE and QAOA</h1>\n",
    "\n",
    "- Quantum Approximate Optimization Algorithm (QAOA) and Variational Quantum Eigensolver (VQE) are both hybrid quantum-classical algorithms\n",
    "- Both algorithms use parameterized quantum circuits (ansatz) and classical optimization techniques to solve their respective problems\n",
    "- VQE focuses on finding the ground state energy of a given Hamiltonian, while QAOA targets combinatorial optimization problems by approximating the ground state of a problem-specific cost Hamiltonian"
   ]
  },
  {
   "attachments": {},
   "cell_type": "markdown",
   "id": "16561152",
   "metadata": {},
   "source": [
    "- QAOA's ansatz is derived from the structure of the problem-specific cost Hamiltonian\n",
    "- QAOA circuits alternate between applying a problem-specific Hamiltonian (often referred to as the \"cost\" or \"problem\" Hamiltonian) and a reference Hamiltonian (typically referred to as the \"mixer\" Hamiltonian)\n",
    "- This alternating structure is inspired by adiabatic quantum computing and the Trotter-Suzuki decomposition\n",
    "- In contrast, VQE's ansatz is more general, as it can be designed to represent a wide range of quantum states and can be applied to various problems"
   ]
  },
  {
   "attachments": {},
   "cell_type": "markdown",
   "id": "1bd33743",
   "metadata": {},
   "source": [
    "<h2 style=\"color:#9A11DA;\"> Designing and testing an ansatz </h2>\n",
    "\n",
    "- Considerations:\n",
    "\n",
    "    - Number of qubits\n",
    "    \n",
    "    - Connectivity between qubits\n",
    "    \n",
    "    - Gate set available on the hardware\n",
    "    \n",
    "    - Structure of the problem Hamiltonian\n",
    "\n",
    "- Steps:\n",
    "\n",
    "    - Define the quantum circuit structure.\n",
    "    \n",
    "    - Add parameterized single-qubit gates (e.g., RX, RY, RZ).\n",
    "    \n",
    "    - Add entangling gates (e.g., CNOT, CZ) to create correlations between qubits.\n",
    "    \n",
    "    - Repeat steps 2 and 3 to create deeper circuits if necessary."
   ]
  },
  {
   "attachments": {},
   "cell_type": "markdown",
   "id": "9f5e60d0",
   "metadata": {},
   "source": [
    "- Metrics to consider:\n",
    "\n",
    "    - Convergence speed: How quickly does the VQE algorithm find the ground state energy?\n",
    "\n",
    "    - Ground state accuracy: How close is the VQE result to the true ground state energy?\n",
    "    \n",
    "    - Resource usage: How many qubits, gates, and optimization iterations are required?\n",
    "    \n",
    "\n",
    "- Tools for comparison:\n",
    "\n",
    "    - Simulators: Compare the performance of different ansatz structures using classical simulators before running on real quantum hardware.\n",
    "    \n",
    "    - Noise models: Investigate the impact of noise on the performance of different ansatz structures."
   ]
  },
  {
   "attachments": {},
   "cell_type": "markdown",
   "id": "da14be44",
   "metadata": {},
   "source": [
    "Before we actually code the VQE algorithm and understand how it is a promising algorithm for noisy intermediate scale quantum (NISQ) devices, let's start begin with of a simple optimization problem and a classical algorithm to solve it."
   ]
  },
  {
   "attachments": {},
   "cell_type": "markdown",
   "id": "256838f7-8cbc-4806-b2cc-150e77e21e1e",
   "metadata": {},
   "source": [
    "Consider a simple function, $x^2$. We can find its minimum value by using various optimizers available in scipy package in python. "
   ]
  },
  {
   "cell_type": "code",
   "execution_count": null,
   "id": "6a3ee5ef-decc-489c-85eb-ea1eac88ffef",
   "metadata": {},
   "outputs": [],
   "source": [
    "import numpy as np\n",
    "from scipy.optimize import minimize\n",
    "\n",
    "def parabola(x):\n",
    "    return x**2\n",
    "\n",
    "x1=10\n",
    "res_nm = minimize(parabola, x1, method='nelder-mead',\n",
    "            options={'xatol': 1e-8, 'disp': True})"
   ]
  },
  {
   "cell_type": "markdown",
   "id": "49ec6493-84ce-4943-84c5-0bb39023b6c1",
   "metadata": {},
   "source": [
    "In the above code, the python method parabola is the function we want to minimize and we use the minimize function availabe in the optimize module of scipy package. For this particular case, we use the 'Nelder-Mead' method which is a optimization technique that uses direct search method when the gradient information is not available. This is the reason that the algorithm evaluated the function many times before it found the minimum. With functions when the derivative is available, then other algorithms could be used which work much faster. e.g. the BFGS algorithm"
   ]
  },
  {
   "cell_type": "code",
   "execution_count": null,
   "id": "fd0db145-a8a2-49e4-8401-4861e9460642",
   "metadata": {},
   "outputs": [],
   "source": [
    "def parabola_derivative(x):\n",
    "    return 2*x\n",
    "\n",
    "res_bfgs = minimize(parabola, x1, method='BFGS', jac=parabola_derivative,\n",
    "               options={'disp': True})"
   ]
  },
  {
   "cell_type": "markdown",
   "id": "589f2999-f093-4039-8c10-640c33877084",
   "metadata": {},
   "source": [
    "As can be seen above that, when the derivative of a function is available, the number of iterations as well as number of function evaluations are much lower. We can also try it with another function that takes in vectors, e.g. the Rosenbrock function, which is given as follows: \n",
    "$$f(x)=\\Sigma_i^{N-1} 100(x_{i+1}-x_i^2)^2+(1-x_i)^2$$"
   ]
  },
  {
   "cell_type": "code",
   "execution_count": null,
   "id": "098e3230-dba7-44ba-af0c-a69bf5cc4f78",
   "metadata": {},
   "outputs": [],
   "source": [
    "def rosen(x):\n",
    "    \"\"\"The Rosenbrock function\"\"\"\n",
    "    return sum(100.0*(x[1:]-x[:-1]**2.0)**2.0 + (1-x[:-1])**2.0)\n",
    "\n",
    "\n",
    "import numpy\n",
    "def torque(F,r):\n",
    "    f_normalized = F/numpy.linalg.norm(F)\n",
    "    r_normalized = F/numpy.linalg.norm(r)\n",
    "    theta = numpy.arccos(numpy.dot(f_normalized,r_normalized))\n",
    "    return numpy.linalg.norm(F)*numpy.linalg.norm(r)*numpy.sin(theta)\n",
    "\n",
    "\n",
    "x1 = numpy.random.rand(15) #array([.3, 0.75, 1.5, 2.9, .2])\n",
    "print(x1)\n",
    "res_nm = minimize(rosen, x1, method='nelder-mead',\n",
    "               options={'xatol': 1e-8, 'disp': True})"
   ]
  },
  {
   "attachments": {},
   "cell_type": "markdown",
   "id": "169a90dd-6b81-4fbe-be50-cd19b383fca1",
   "metadata": {},
   "source": [
    "<h2 style=\"color:#9A11DA; text-align:center\">  Quantum World!  </h2>  <a name=\"No_Installation\"></a>\n",
    "Now, let's get into the quantum world and consider a simple Hamiltonian of two spins given as \n",
    "\n",
    "$$H=Z\\otimes Z$$\n",
    "\n",
    "where $Z$ is a Pauli-Z matrix given by \n",
    "$$Z = \\begin{pmatrix} \n",
    "1 & 0 \\\\\n",
    "0 & -1\n",
    "\\end{pmatrix}\n",
    "$$\n",
    "and $\\otimes$ is just the tensor product. So, the matrix representation of the Hamiltonian is as follows:\n",
    "$$Z = \\begin{pmatrix} \n",
    "1 & 0 &0 &0 \\\\\n",
    "0 & -1 &0 &0 \\\\\n",
    "0&0& -1 & 0 \\\\\n",
    "0&0&0 & 1\n",
    "\\end{pmatrix}\n",
    "$$\n",
    "\n",
    "Given $H$, our job is to find its lowest eigenvalue. With the given Hamiltonian, we can just run the Gauss elimination process and obtain the lowest eigenvalue as follows:"
   ]
  },
  {
   "cell_type": "code",
   "execution_count": null,
   "id": "1aa3fcce-9dae-42bc-94cc-3316dfbe68d6",
   "metadata": {},
   "outputs": [],
   "source": [
    "import numpy as np \n",
    "from qiskit.opflow import Z, StateFn\n",
    "from qiskit.circuit.library import PauliTwoDesign\n",
    "observable = Z ^ Z \n",
    "np.linalg.eigvalsh(observable.to_matrix())"
   ]
  },
  {
   "attachments": {},
   "cell_type": "markdown",
   "id": "5e12271f-152a-4ffa-b399-454bfa9fe566",
   "metadata": {},
   "source": [
    "From above, we can see that the lowest eigenvalue of the Hamiltonian is -1. Now, let's try to find the eigenvalue using variational method. After, we describe the variational method, we will present the motivation for using it.\n",
    "\n",
    "In variational method, we prepare an ansatz/approximate eigenvector of the Hamiltonian which is parameterized. Then a cost-function is defined as the expectation value of this Hamiltonian. The ansatz can then be optimized using the optimization algorithms we used at the beginning of this blog post. In the code that follows, we demonstrate this procedure using IBM's qiskit library. Note that the way we parameterize the ansatz is using a quantum-circuit. We will comment later, why we approach the problem this way.\n"
   ]
  },
  {
   "cell_type": "code",
   "execution_count": null,
   "id": "2152219d-2064-4cdb-b02d-4c6bd3e13c07",
   "metadata": {},
   "outputs": [],
   "source": [
    "import numpy as np\n",
    "# The optimization algorithms in qiskit are very similar to scipy \n",
    "# and in some cases are just wrappers around scipy optimizers\n",
    "from qiskit.algorithms.optimizers import SPSA, NELDER_MEAD, COBYLA\n",
    "from qiskit.circuit.library import PauliTwoDesign\n",
    "from qiskit.opflow import Z, StateFn\n",
    "\n",
    "ansatz = PauliTwoDesign(2, reps=1, seed=1) # defining a quantum circuit for parameterized ansatz (* Exercise: Look up the documentation for PauliTwoDesign. Show that `\\sqrt{H} = RY(\\pi/4)` *)\n",
    "observable = Z ^ Z # defining the Hamiltonian\n",
    "# Random seed which defines \"rotations\" in the quantum circuit\n",
    "initial_point = np.random.random(ansatz.num_parameters) \n",
    "\n",
    "# loss function is just the expectation value of the Hamiltonian \n",
    "def loss(x): \n",
    "    bound = ansatz.bind_parameters(x)\n",
    "    return np.real((StateFn(observable, is_measurement=True) @ StateFn(bound)).eval()) \n",
    "\n",
    "# Draw the parameterized circuit.\n",
    "ansatz.bind_parameters(initial_point).decompose().draw()"
   ]
  },
  {
   "cell_type": "code",
   "execution_count": null,
   "id": "0136d9bb-16a9-40e1-8915-4001a031b6a3",
   "metadata": {},
   "outputs": [],
   "source": [
    "# In this code block we get the statevector corresponding to the quantum circuit\n",
    "# and the matrix form of the Hamiltonian that we defined.\n",
    "\n",
    "from qiskit.quantum_info.states.quantum_state import QuantumState\n",
    "from qiskit import circuit\n",
    "from qiskit import Aer\n",
    "import copy\n",
    "# Run the quantum circuit on a statevector simulator backend\n",
    "backend = Aer.get_backend('statevector_simulator')\n",
    "x=copy.deepcopy(ansatz.bind_parameters(initial_point).decompose())\n",
    "job = backend.run(x)\n",
    "result = job.result()\n",
    "outputstate = result.get_statevector(x, decimals=3)\n",
    "print('The initial point is', initial_point,'\\n')\n",
    "print('Parameterized Eigenvector is', outputstate,'\\n')\n",
    "\n",
    "# Import Aer\n",
    "print(\"The matrix form of the Hamiltonian is given by\",observable.to_matrix())\n",
    "print('The cost function value at the initial point is:',loss(initial_point))"
   ]
  },
  {
   "attachments": {},
   "cell_type": "markdown",
   "id": "ad23df52-c8af-4766-93c3-ad4c5ab78ecb",
   "metadata": {},
   "source": [
    "#\n",
    "#\n",
    "\n",
    "Things to note here: \n",
    "- The Hamiltonian is the same matrix we diagonalized using the methods available in numpy. \n",
    "- The ansatz for the cost-function is an eigenvector which is parameterized. \n",
    "- The above code cell prints the starting guess for the eigenvector, the initial seed for the parameters, and the initial value of the cost function. \n",
    "\n",
    "In the following cell, we will run a minimization routine on the loss function that we defined above."
   ]
  },
  {
   "cell_type": "code",
   "execution_count": null,
   "id": "b02ddb0b-8a0c-473a-9773-b9c4d975c968",
   "metadata": {},
   "outputs": [],
   "source": [
    "# Running the optimization using SPSA, COBYLA and Nelder-Mead\n",
    "spsa = SPSA(maxiter=500)\n",
    "cobyla = COBYLA(maxiter=300)\n",
    "nm = NELDER_MEAD(maxiter=300)\n",
    "\n",
    "result_spsa = spsa.minimize(loss, x0=initial_point)\n",
    "result_nm = nm.minimize(loss, x0=initial_point)\n",
    "result_cobyla = cobyla.minimize(loss, x0=initial_point)"
   ]
  },
  {
   "cell_type": "code",
   "execution_count": null,
   "id": "6d02bc90-c8c9-41a7-bb1f-06917ca03fa0",
   "metadata": {},
   "outputs": [],
   "source": [
    "print('The value of x for the minimum value is: ',result_spsa.x)\n",
    "print('The lowest eigenvalue of Hamiltonian is: ',result_spsa.fun)\n",
    "\n",
    "print('The value of x for the minimum value is: ',result_nm.x)\n",
    "print('The lowest eigenvalue of Hamiltonian is: ',result_nm.fun)\n",
    "\n",
    "print('The value of x for the minimum value is: ',result_cobyla.x)\n",
    "print('The lowest eigenvalue of Hamiltonian is: ',result_cobyla.fun)"
   ]
  },
  {
   "attachments": {},
   "cell_type": "markdown",
   "id": "c163cf4f-da04-4fc7-a984-03504b6832cc",
   "metadata": {},
   "source": [
    "#\n",
    "\n",
    "It can be checked that the the optimization procedure does work and the final value of the cost-function after the optimization is close to the actual value. To get better results, we can perhaps increase the maximum number of iterations, but you will see that it does not help much. The main problem here is that the ansatz is not very good.\n",
    "\n",
    "<h2 style=\"color:#9A11DA; text-align:center\">  Understanding structure of Ansatz!  </h2>  <a name=\"No_Installation\"></a>\n",
    "\n",
    "The PauliTwoDesign ansatz, that we used, is constructed by applying an initial layer of $\\pi/4$ Pauli-Y rotations followed by alternating layers of single-qubit Pauli rotation gates on each of the qubits and nearest-neighbor CZ gates with total depth of two. The rotation angle of each of the Pauli-rotation gates is a parameter that can be tuned.  A single-layer of PauliTwoDesign consists of a layer of CZ gates sandwiched between two layers of single qubit Pauli gates. With this setup, it allows us to span a relatively small subspace of the Hilbert space associated with qubits. And this is the reason the minimum value from optimization is not close to the global minimum of the cost function. So, we can increase the depth of the circuit and add more CNOT gates to increase the entanglement in the system. This will span a relatively larger subspace and provide us with a greater chance to find the minimum."
   ]
  },
  {
   "cell_type": "code",
   "execution_count": null,
   "id": "67a5bc60-92f6-4e0b-b8f2-af788d5a4efc",
   "metadata": {},
   "outputs": [],
   "source": [
    "ansatz = PauliTwoDesign(2, reps=2, seed=1) # defining a quantum circuit for parameterized ansatz\n",
    "# Random seed which defines \"rotations\" in the quantum circuit\n",
    "initial_point = np.random.random(ansatz.num_parameters) \n",
    "# Draw the parameterized circuit.\n",
    "ansatz.bind_parameters(initial_point).decompose().draw()"
   ]
  },
  {
   "cell_type": "code",
   "execution_count": null,
   "id": "0ff744cf-5a48-4f0c-b089-562d2b24cfd0",
   "metadata": {},
   "outputs": [],
   "source": [
    "# Running the optimization using SPSA, COBYLA and Nelder-Mead\n",
    "spsa = SPSA(maxiter=500)\n",
    "cobyla = COBYLA(maxiter=300)\n",
    "nm = NELDER_MEAD(maxiter=300)\n",
    "\n",
    "result_spsa = spsa.minimize(loss, x0=initial_point)\n",
    "result_nm = nm.minimize(loss, x0=initial_point)\n",
    "result_cobyla = cobyla.minimize(loss, x0=initial_point)"
   ]
  },
  {
   "cell_type": "code",
   "execution_count": null,
   "id": "39b699fe-2fc8-4e90-bd3b-7bbda39127fc",
   "metadata": {},
   "outputs": [],
   "source": [
    "print('The value of x for the minimum value is: ',result_spsa.x)\n",
    "print('The lowest eigenvalue of Hamiltonian is: ',result_spsa.fun)\n",
    "\n",
    "print('The value of x for the minimum value is: ',result_nm.x)\n",
    "print('The lowest eigenvalue of Hamiltonian is: ',result_nm.fun)\n",
    "\n",
    "print('The value of x for the minimum value is: ',result_cobyla.x)\n",
    "print('The lowest eigenvalue of Hamiltonian is: ',result_cobyla.fun)"
   ]
  },
  {
   "attachments": {},
   "cell_type": "markdown",
   "id": "49a5a29c-0e19-4bc2-b23f-c34902c6808f",
   "metadata": {},
   "source": [
    "#\n",
    "\n",
    "As expected, with greater entanglement in the system the value of the cost-function converges to the actual lowest eigenvalue. **We want to emphasize that there is nothing special about the PauliTwoDesign ansatz.** We are allowed to use any ansatz that we like.  For this problem, PauliTwoDesign gave us good results, but there is no reason, why it should give us good resutls for problems in quantum machine learning, quantum chemistry or any other problem for that matter. In fact, choosing the best ansatz is an art that people are still learning. Generally, the best ansatz are rooted in some intuition from the field in which the cost function originates. For example, the UCCSD ansazt works well for quantum chemistry problems.\n",
    "\n",
    "<h2 style=\"color:#9A11DA; text-align:center\">  Motivation for Variational method!  </h2>  <a name=\"No_Installation\"></a>\n",
    "\n",
    "Now, that we have shown that the two methods, the exact diagonalization and VQE method, output the same result, we want to comment on when would we want to choose one method over the other. The gaussian elimination's time complexity is $O(2n^3/6)$ (*for reference: https://www.ndsu.edu/pubweb/~novozhil/Teaching/488%20Data/08.pdf *), where, n, is the size of the matrix. The variational method performs better, compared to exact diagonalization, when the matrix to be diagonalized is very large and there is a good estimate for the ansatz available. With a good ansatz, the computational resources required for VQE may be much less than the Gaussian elimination process.\n",
    "\n",
    "Let us now demonstrate a quantum model where such a situation occurs. In the Ising model, as the number of spins in the systems grow, the size of the Hamiltonian grows exponentially. This means that, except for a few special cases in lower dimensional systems, the Hamiltonian cannot be diagonalized exactly, even for tens of spins in the system."
   ]
  },
  {
   "attachments": {},
   "cell_type": "markdown",
   "id": "62113bdf-9f3c-4b2a-be15-1920e3893c48",
   "metadata": {},
   "source": [
    "<h2 style=\"color:#9A11DA; text-align:center\">  Ising model and NP completeness!  </h2>  <a name=\"No_Installation\"></a>\n",
    "Now, let us consider the Ising model. It has been one of the most studied quantum systems. It consists of interacting quantum spins (two-level systems), arranged on a graph. This simplified model was originally proposed to study magnetism, but has been found surprisingly useful to model many other physical systems, like lattice gas and spin glass. Furthermore, an ising model on a nonplanar lattice has been shown to be NP-complete. An efficient method has been devised to map one of the most important problems in computer science, max-cut, to the Ising model. Given the importance of the model, it is a good candidate to study using VQE.\n",
    "\n",
    "The Hamiltonian for the Ising model is given as follows\n",
    "$$H(\\sigma) = \\Sigma_{(i,j)} J_{ij}\\sigma_i\\sigma_j -\\mu \\Sigma_j h_j \\sigma_j, \\quad i,j \\in \\mathcal{E}, \\quad \\sigma_j \\in \\{-1,+1\\}$$\n",
    "\n",
    "where, $\\mathcal{E}$ is the set of edges (nearest-neighbors), $J_{ij}$ is the interaction energy between two spins, $\\mu$ is the magnetic moment of a spin and $h_j$ is the magnetic field interacting with the spin. \n",
    "\n",
    "\n",
    "For our VQE model, we can consider a small system of only four spins with the following Hamiltonian:\n",
    "\n",
    "$$H(\\sigma) = -J_{12}\\sigma_1\\sigma_2 -J_{23}\\sigma_1\\sigma_2 -J_{34}\\sigma_3\\sigma_4-\\mu h_1 \\sigma_1-\\mu h_2 \\sigma_2-\\mu h_2 \\sigma_3-\\mu h_4 \\sigma_4$$\n",
    "We can even simplify it further by getting rid of the magnetic interaction term:\n",
    "$$H(\\sigma) = -J_{12}\\sigma_1\\sigma_2 -J_{23}\\sigma_1\\sigma_2 -J_{34}\\sigma_3\\sigma_4$$ "
   ]
  },
  {
   "cell_type": "code",
   "execution_count": null,
   "id": "aef3ee3c-293e-4c7a-8895-25ea9dfa01d3",
   "metadata": {},
   "outputs": [],
   "source": [
    "import numpy as np\n",
    "import pylab\n",
    "from IPython.display import clear_output\n",
    "from qiskit import Aer\n",
    "from qiskit.opflow import X, Z, I,Y\n",
    "from qiskit.utils import QuantumInstance, algorithm_globals\n",
    "from qiskit.algorithms import VQE, NumPyMinimumEigensolver\n",
    "from qiskit.algorithms.optimizers import COBYLA, L_BFGS_B, SLSQP\n",
    "from qiskit.circuit.library import TwoLocal\n",
    "\n",
    "# defining the Hamiltonian\n",
    "H2_op = (-1.052373245772859 * Z ^ Z ^ I^ I) + \\\n",
    "        (0.39793742484318045 * I ^ Z^ Z^ I) + \\\n",
    "        (-0.39793742484318045 * I ^ I^ Z^ Z) \n",
    "\n",
    "# (-0.01128010425623538 * Z ^ Z^ I^ X) + \\\n",
    "#         (-0.11128010425623538 * Y ^ Z^ I^ X) + \\\n",
    "#         (-0.05128010425623538 * Z ^ Y^ I^ X) + \\\n",
    "#         (0.18093119978423156 * X ^ X^ I^ Z)\n",
    "\n",
    "# Using three different optimzers\n",
    "optimizers = [COBYLA(maxiter=80), L_BFGS_B(maxiter=60), SLSQP(maxiter=60)]\n",
    "converge_cnts = np.empty([len(optimizers)], dtype=object)\n",
    "converge_vals = np.empty([len(optimizers)], dtype=object)\n",
    "\n",
    "for i, optimizer in enumerate(optimizers):\n",
    "    print('\\rOptimizer: {}        '.format(type(optimizer).__name__), end='')\n",
    "    algorithm_globals.random_seed = 50\n",
    "    ansatz = TwoLocal(rotation_blocks='ry', entanglement_blocks='cz')\n",
    "\n",
    "    counts = []\n",
    "    values = []\n",
    "    def store_intermediate_result(eval_count, parameters, mean, std):\n",
    "        print(mean)\n",
    "        clear_output()\n",
    "        counts.append(eval_count)\n",
    "        values.append(mean)\n",
    "\n",
    "    vqe = VQE(ansatz, optimizer, callback=store_intermediate_result,\n",
    "              quantum_instance=QuantumInstance(backend=Aer.get_backend('statevector_simulator')))\n",
    "    result = vqe.compute_minimum_eigenvalue(operator=H2_op)\n",
    "    converge_cnts[i] = np.asarray(counts)\n",
    "    converge_vals[i] = np.asarray(values)\n",
    "print('\\rOptimization complete      ');\n",
    "print('The minimum values found by the three optimization procedures are:', converge_vals[0][len(converge_vals[0])-1],', ',converge_vals[1][len(converge_vals[0])-1],', ',converge_vals[2][len(converge_vals[0])-1])\n"
   ]
  },
  {
   "attachments": {},
   "cell_type": "markdown",
   "id": "3539d328-8679-4397-9ce6-b83c04974c25",
   "metadata": {},
   "source": [
    "#\n",
    "\n",
    "The above code shows how to get the minimum energy of the Hamiltonian using VQE. This procedure is the same as the procedure we used for smaller problems. But, here we can easily observe how the exact diagonalization does not scale well as the problem size grows. For our four spin system, the size of the matrix to be diagonalized is $16\\times 16$. For a system with $N$-spins, the size of the matrix to be diagonalized is $2^N\\times 2^N$, which for a few hundred spins is greater than the number of particles in the universe.\n",
    "\n",
    "This is why running VQE with a good ansatz is the best bet. As we saw in our first example, it is not gauranteed that it would converge to the global minimum if the subspace spanned by the ansatz generated by all the values of parameters, does not span the space in which the global minimum lies. This is where we can use knowledge from physics to design better ansatz and possibly find the global minimum.\n"
   ]
  }
 ],
 "metadata": {
  "kernelspec": {
   "display_name": "base",
   "language": "python",
   "name": "python3"
  },
  "language_info": {
   "codemirror_mode": {
    "name": "ipython",
    "version": 3
   },
   "file_extension": ".py",
   "mimetype": "text/x-python",
   "name": "python",
   "nbconvert_exporter": "python",
   "pygments_lexer": "ipython3",
   "version": "3.9.13"
  },
  "vscode": {
   "interpreter": {
    "hash": "493924c5d35adb7ef1523bec0f1234a5915de9af0cbc510f790dc6170b1984de"
   }
  }
 },
 "nbformat": 4,
 "nbformat_minor": 5
}
