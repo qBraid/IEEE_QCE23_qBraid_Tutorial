{
 "cells": [
  {
   "cell_type": "markdown",
   "metadata": {},
   "source": [
    "##### 1. Use the `random_circuit` function from `qbraid.interfaces` to generate random circuits across three frameworks"
   ]
  },
  {
   "cell_type": "code",
   "execution_count": null,
   "metadata": {},
   "outputs": [],
   "source": [
    "from qbraid.interface import random_circuit\n",
    "\n",
    "qiskit_circuit = random_circuit(\"qiskit\", num_qubits=4, depth=2)\n",
    "cirq_circuit = random_circuit(\"cirq\", num_qubits=4, depth=2)\n",
    "braket_circuit = random_circuit(\"braket\", num_qubits=4, depth=2)\n",
    "\n",
    "print(\"Qiskit random circuit: \\n\" + str(qiskit_circuit))\n",
    "print(\"Cirq random circuit: \\n\" + str(cirq_circuit))\n",
    "print(\"Braket random circuit: \\n\" + str(braket_circuit))"
   ]
  },
  {
   "cell_type": "markdown",
   "metadata": {},
   "source": [
    "##### 2. Use the qBraid transpiler to convert a Bell circuit in one library to another. For example, Qiskit to Cirq."
   ]
  },
  {
   "cell_type": "code",
   "execution_count": null,
   "metadata": {},
   "outputs": [],
   "source": [
    "from qiskit import QuantumCircuit\n",
    "from qbraid import circuit_wrapper\n",
    "from qbraid.interface import random_circuit\n",
    "\n",
    "def bell():\n",
    "    circuit = QuantumCircuit(2)\n",
    "    circuit.h(0)\n",
    "    circuit.cx(0,1)\n",
    "    return circuit\n",
    "\n",
    "qiskit_circuit = bell()\n",
    "qiskit_circuit.draw()"
   ]
  },
  {
   "cell_type": "code",
   "execution_count": null,
   "metadata": {},
   "outputs": [],
   "source": [
    "cirq_circuit = circuit_wrapper(qiskit_circuit).transpile(\"cirq\")\n",
    "print(cirq_circuit)\n"
   ]
  },
  {
   "cell_type": "markdown",
   "metadata": {},
   "source": [
    "##### 3. Use code snippets to create a simple notebook and share that notebook with another user in the tutorial"
   ]
  },
  {
   "cell_type": "markdown",
   "metadata": {},
   "source": [
    "##### 4. Create a custom environment and then share that environment with another user in the tutorial"
   ]
  },
  {
   "cell_type": "markdown",
   "metadata": {
    "tags": []
   },
   "source": [
    "##### 5. The code below defines a simulation of VQE for the 2D Ising model. It shows how to run the simulation using CPU only and defines a GPU simulator using cuQuantum. Create a simulation using the GPU backend and compare the time to that of the CPU."
   ]
  },
  {
   "cell_type": "code",
   "execution_count": null,
   "metadata": {},
   "outputs": [],
   "source": [
    "import cirq, qsimcirq, time, random\n",
    "import numpy as np\n",
    "\n",
    "def rand2d(rows, cols):\n",
    "    return [[random.choice([+1, -1]) for _ in range(cols)] for _ in range(rows)]\n",
    "\n",
    "def random_instance(length):\n",
    "    # transverse field terms\n",
    "    h = rand2d(length, length)\n",
    "    # links within a row\n",
    "    jr = rand2d(length - 1, length)\n",
    "    # links within a column\n",
    "    jc = rand2d(length, length - 1)\n",
    "    return (h, jr, jc)\n",
    "\n",
    "h, jr, jc = random_instance(3)\n",
    "\n",
    "def prepare_plus_layer(length):\n",
    "    for i in range(length):\n",
    "        for j in range(length):\n",
    "            yield cirq.H(cirq.GridQubit(i, j))\n",
    "\n",
    "def rot_x_layer(length, half_turns):\n",
    "    \"\"\"Yields X rotations by half_turns on a square grid of given length.\"\"\"\n",
    "\n",
    "    # Define the gate once and then re-use it for each Operation.\n",
    "    rot = cirq.XPowGate(exponent=half_turns)\n",
    "\n",
    "    # Create an X rotation Operation for each qubit in the grid.\n",
    "    for i in range(length):\n",
    "        for j in range(length):\n",
    "            yield rot(cirq.GridQubit(i, j))\n",
    "\n",
    "def rot_z_layer(h, half_turns):\n",
    "    \"\"\"Yields Z rotations by half_turns conditioned on the field h.\"\"\"\n",
    "    gate = cirq.ZPowGate(exponent=half_turns)\n",
    "    for i, h_row in enumerate(h):\n",
    "        for j, h_ij in enumerate(h_row):\n",
    "            if h_ij == 1:\n",
    "                yield gate(cirq.GridQubit(i, j))\n",
    "\n",
    "def rot_11_layer(jr, jc, half_turns):\n",
    "    \"\"\"Yields rotations about |11> conditioned on the jr and jc fields.\"\"\"\n",
    "    cz_gate = cirq.CZPowGate(exponent=half_turns)    \n",
    "    for i, jr_row in enumerate(jr):\n",
    "        for j, jr_ij in enumerate(jr_row):\n",
    "            q = cirq.GridQubit(i, j)\n",
    "            q_1 = cirq.GridQubit(i + 1, j)\n",
    "            if jr_ij == -1:\n",
    "                yield cirq.X(q)\n",
    "                yield cirq.X(q_1)\n",
    "            yield cz_gate(q, q_1)\n",
    "            if jr_ij == -1:\n",
    "                yield cirq.X(q)\n",
    "                yield cirq.X(q_1)\n",
    "\n",
    "    for i, jc_row in enumerate(jc):\n",
    "        for j, jc_ij in enumerate(jc_row):\n",
    "            q = cirq.GridQubit(i, j)\n",
    "            q_1 = cirq.GridQubit(i, j + 1)\n",
    "            if jc_ij == -1:\n",
    "                yield cirq.X(q)\n",
    "                yield cirq.X(q_1)\n",
    "            yield cz_gate(q, q_1)\n",
    "            if jc_ij == -1:\n",
    "                yield cirq.X(q)\n",
    "                yield cirq.X(q_1)\n",
    "\n",
    "length = 5\n",
    "qubits = cirq.GridQubit.square(length)\n",
    "h, jr, jc = random_instance(length)\n",
    "\n",
    "circuit = cirq.Circuit()\n",
    "circuit.append(prepare_plus_layer(length))\n",
    "circuit.append(rot_z_layer(h,0.3))\n",
    "circuit.append(rot_11_layer(jr,jc,0.3))\n",
    "circuit.append(rot_x_layer(length, 0.3))\n",
    "circuit.append(cirq.measure(*qubits, key='x'))"
   ]
  },
  {
   "cell_type": "code",
   "execution_count": null,
   "metadata": {},
   "outputs": [],
   "source": [
    "# Default CPU simulator\n",
    "simulator = cirq.Simulator()\n",
    "\n",
    "# cuQuantum GPU simulator\n",
    "ngpus = 1\n",
    "qsim_options = qsimcirq.QSimOptions(\n",
    "    max_fused_gate_size = 2,\n",
    "    use_gpu = True,\n",
    "    gpu_mode = 0 # gpu_mode: use CUDA if set to 0 (default value) or use the NVIDIA cuStateVec library if set to any other value.\n",
    ")\n",
    "\n",
    "simulator_cuQ=qsimcirq.QSimSimulator(qsim_options)"
   ]
  },
  {
   "cell_type": "code",
   "execution_count": null,
   "metadata": {},
   "outputs": [],
   "source": [
    "# Default CPU simulator VQE\n",
    "\n",
    "start = time.time()\n",
    "results = simulator.run(circuit, repetitions=10000)\n",
    "# print(results.histogram(key='x'))\n",
    "cpu_time = time.time() - start\n",
    "print(\"CPU runtime: {:.24}s\".format(cpu_time))\n",
    "print(f'Simulated ground-state energy expectation value is {obj_func(results)}')"
   ]
  },
  {
   "cell_type": "markdown",
   "metadata": {},
   "source": [
    "##### 6. Redo the previous exercise but make the gpu simulator use cuQuantum, which will use cuQuantum's custom optimizations for Nvidia hardware"
   ]
  },
  {
   "cell_type": "code",
   "execution_count": null,
   "metadata": {},
   "outputs": [],
   "source": []
  }
 ],
 "metadata": {
  "kernelspec": {
   "display_name": "Python 3 [Default]",
   "language": "python",
   "name": "python3"
  },
  "language_info": {
   "codemirror_mode": {
    "name": "ipython",
    "version": 3
   },
   "file_extension": ".py",
   "mimetype": "text/x-python",
   "name": "python",
   "nbconvert_exporter": "python",
   "pygments_lexer": "ipython3",
   "version": "3.9.18"
  }
 },
 "nbformat": 4,
 "nbformat_minor": 4
}
