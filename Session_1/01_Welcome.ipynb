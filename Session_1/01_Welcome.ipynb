{
 "cells": [
  {
   "cell_type": "markdown",
   "metadata": {},
   "source": [
    "<h1 style=\"color:#D30982;\">Welcome to qBraid's IEEE QCE23 Tutorial!</h1>\n",
    "\n",
    "We are so glad to welcome you to this two-part tutorial where we will introduce you to qBraid Lab and variational quantum algorithms over the course of two sessions! \n",
    "\n",
    "about qBraid: Our **mission** is to facilitate the quantum computing revolution; to do this, we are creating a *one-stop* platform for developing and running quantum algorithms, *as well as* learning about quantum computing. We believe that in order for the potential of quantum computing to be realized, for it to really be applied to all the fields it promises to revolutionize, it must be widely accessible. We are here to help the next generation of programmers to \"think quantum\".\n",
    "\n",
    "In this welcome page, you will find: <br>\n",
    "1. <a href=\"#understanding_UI\">Instructions on how to navigate the User Interface</a> <br>\n",
    "2. <a href=\"#writing_program\">Instructions on how to write and run a quantum program on a real quantum computer! Don't worry if you don't completely understand all the details of the program. The point is to show that it is incredible simple to run programs on a real quantum computer.</a> <br>\n",
    "3. <a href=\"#courses_and_tutorials\">A description of what will be covered in this workshop.</a> <br>\n",
    "\n",
    "At qBraid, you can start developing and running quantum programs right away without having to install *anything* on your local machine. You will have access to state-of-the-art libraries for applications of quantum computing, and you will be able to run the quantum algorithms you develop on the state-of-the-art quantum hardware offered by providers around the world (note: *we* do not develop quantum hardware!). We believe that running a quantum program should be as simple as checking your email. To see this in action for yourself, run the following code cell to draw your first quantum circuit. You can click anywhere in the following code cell and press `Shift+Enter` to run it. Run the second code cell to execute the quantum circuit."
   ]
  },
  {
   "cell_type": "code",
   "execution_count": 1,
   "metadata": {},
   "outputs": [
    {
     "data": {
      "image/png": "[encoded data removed]",
      "text/plain": [
       "<Figure size 133.526x144.48 with 1 Axes>"
      ]
     },
     "execution_count": 1,
     "metadata": {},
     "output_type": "execute_result"
    }
   ],
   "source": [
    "from qiskit import *\n",
    "from qiskit import Aer\n",
    "\n",
    "# Create a Quantum Circuit acting on a single qubit\n",
    "circ = QuantumCircuit(1,1)\n",
    "\n",
    "# Add a Hadamard (H) gate on qubit 0, putting this qubit in superposition.\n",
    "circ.h(0)\n",
    "circ.draw(output='mpl')\n",
    "#the second wire represents the classical bit in which the outcome of the future measurement will be stored."
   ]
  },
  {
   "cell_type": "code",
   "execution_count": 2,
   "metadata": {},
   "outputs": [
    {
     "name": "stdout",
     "output_type": "stream",
     "text": [
      "==================================\n",
      "\n",
      "Below is the output of executing the circuit 1000 times.\n",
      "\n",
      "==================================\n",
      "\n",
      "Also, congratulations on running a quantum program!\n",
      "\n",
      "==================================\n"
     ]
    },
    {
     "data": {
      "image/png": "[encoded data removed]",
      "text/plain": [
       "<Figure size 504x360 with 1 Axes>"
      ]
     },
     "execution_count": 2,
     "metadata": {},
     "output_type": "execute_result"
    }
   ],
   "source": [
    "circ.measure(0,0)\n",
    "\n",
    "# Import Aer and execute\n",
    "from qiskit import Aer, execute\n",
    "backend_sim = Aer.get_backend('qasm_simulator')\n",
    "\n",
    "sim = execute(circ, backend_sim, shots=1000)\n",
    "sim_result = sim.result()\n",
    "counts = sim_result.get_counts(circ)\n",
    "\n",
    "print('==================================')\n",
    "print('\\nBelow is the output of executing the circuit 1000 times.')\n",
    "print('\\n==================================')\n",
    "print('\\nAlso, congratulations on running a quantum program!')\n",
    "print('\\n==================================')\n",
    "\n",
    "# We can plot the outcomes stored in the variable 'counts' using the following code:\n",
    "from qiskit.visualization import plot_histogram\n",
    "plot_histogram(counts)"
   ]
  },
  {
   "cell_type": "markdown",
   "metadata": {},
   "source": [
    "<h2 style=\"color:#9A11DA;\">Understanding the Basics of the User Interface:  </h2>  <a name=\"understanding_UI\"></a>\n",
    "\n",
    "qBraid is built on top of the open source platform *jupyterlab*. The heart and soul of jupyterlab are *jupyter notebooks*, such as this 'Welcome.ipynb' page. In a single jupyter notebook, you can take notes, write and run code, make animations, and do plenty of other cool things. This makes the jupyter notebook setting perfectly suited for learning an interdisciplinary subject like quantum computing, which is situated at the interface of Mathematics, Physics, and Computer science. \n",
    "\n",
    "The following will guide you through our user interface."
   ]
  },
  {
   "cell_type": "markdown",
   "metadata": {},
   "source": [
    "<font size = 3 color=9A11DA>**(i) Create a new folder**</font>\n",
    "\n",
    "First off, you should know that qBraid Lab starts up with downloaded and organized tutorials from some of the most common providers of both quantum hardware and software. These tutorials are bundled into the folder `braid-tutorials`. This folder gets updated occasionally and so, if you want to make sure any edits you make last, it's best to copy and rename the folder.\n",
    "\n",
    "To create a new folder, click on the folder icon with a '+' overlayed. You can rename the folder you created by right clicking on it.\n",
    "\n",
    "<font size = 3 color=9A11DA>**(ii) Create a new notebook**</font>\n",
    "\n",
    "Once you are inside your folder, click on the `+` icon to create a new *notebook* (these are how files are referred to in jupyter). This will bring up the Launcher, which provides you with options to create various types of files. Click on 'Python 3' under the notebook heading to create a new (Python 3 language based) jupyter notebook. The default name for all new notebooks is 'Untitled.ipynb'. You can rename it by right clicking on the file. \n",
    "\n",
    "<font size = 3 color=9A11DA>**(iii) Start coding**</font>\n",
    "\n",
    "This is it! You can now start typing Python code in the first cell of your new notebook, and you can add new cells by clicking on the `+` icon above the notebook. You can run the code in a cell by pressing `Shift+Enter`.\n",
    "\n",
    "To begin writing a quantum program, all that is left to do is to import the relevant packages. To get started, you can copy the quantum program at the top of this welcome notebook.\n",
    "\n",
    "<font size = 3 color=9A11DA>**(iv) Environment Manager**</font>\n",
    "\n",
    "On the top right corner of qBraid, you can find `ENVS` extension. This is qBraid environment manager. This allows you to install multiple python environments to your qBraid account. Clicking on `ENVS` will open the extension. You will need correct permissions to access the environment manager. Upon making a qBraid account, you should have received an email with access codes. Use these access codes to get the correct permissions. Follow instructions [here](https://qbraid-qbraid.readthedocs-hosted.com/en/latest/lab/account.html#add-access-key). To install/create new environments follow the instructions [here](https://qbraid-qbraid.readthedocs-hosted.com/en/latest/lab/environments.html).\n",
    "\n",
    "<font size = 3 color=9A11DA>**(v) Quantum Jobs**</font>\n",
    "\n",
    "Just below the environment manager extension, you will find the quantum jobs extension. This is the extension that you will use to track all your quantum jobs. You will be able to get details of various jobs you have run on simulators/quantum computers through this extension. Follow the instructions below to run your first quantum job and see it appear in the quantum jobs extension."
   ]
  },
  {
   "cell_type": "markdown",
   "metadata": {},
   "source": [
    "<font size = 6 color=9A11DA>**Running a quantum circuit on various quantum computer**</font>\n",
    "\n",
    "\n",
    "<font size = 3 color=9A11DA>**(i) Install the Amazon Braket environment**</font>\n",
    "\n",
    "Click on `ENVS` (top right) which should bring up the environment manager. Click on `+ Add` and it should bring up the screen with all the environments. Click on &#x2304; next to the Amazon Braket environment and click on `Install`. Click `Browse Environments` on the top, to come to the previous screen. You will observe the environment is installing. Give it a couple of minutes to finish. Once the installing has finished, click `Activate` to activate the environment.\n"
   ]
  },
  {
   "cell_type": "markdown",
   "metadata": {},
   "source": [
    "<font size = 3 color=9A11DA>**(ii) Change the kernel**</font>\n",
    "\n",
    "Once the environment is `Active`, change the kernel by click on the button left to `ENVS`. The button would read `No Kernel`/`Python 3 [Default]`. Clicking the button will bring up a drop-down menu. Choose the `Python 3 [Braket]` kernel. With the correct kernel active, you are now ready to run the following pieces code that will allow you to run your code on a real quantum computer:\n",
    "\n"
   ]
  },
  {
   "cell_type": "markdown",
   "metadata": {},
   "source": [
    "<font size = 3 color=9A11DA>**(iii) Configure access to quantum computer**</font>\n",
    "\n",
    " The following line of code configures your qBraid account to connect to\n",
    " Rigetti, IonQ, OQC and many other quantum computers and simulators through\n",
    " qBraid!\n"
   ]
  },
  {
   "cell_type": "code",
   "execution_count": 3,
   "metadata": {},
   "outputs": [
    {
     "name": "stdout",
     "output_type": "stream",
     "text": [
      "\u001b[0;35mYou have already enabled qBraid Quantum Jobs in the amazon_braket environment.\u001b[0m\n"
     ]
    }
   ],
   "source": [
    "#You only need to run this line once after you install the environment\n",
    "\n",
    "!qbraid jobs enable amazon_braket\n"
   ]
  },
  {
   "cell_type": "markdown",
   "metadata": {},
   "source": [
    "<font size = 3 color=9A11DA>**(iv) Imports and supported gates**</font>\n",
    "\n",
    "The following piece of code imports all the required packages that you would need for building circuits and submitting the code to various quantum computers.\n",
    "\n",
    "In the code block right after that, we get the gate set supported by all the different machines."
   ]
  },
  {
   "cell_type": "code",
   "execution_count": 5,
   "metadata": {},
   "outputs": [],
   "source": [
    "\n",
    "# general imports\n",
    "import numpy as np\n",
    "import matplotlib.pyplot as plt\n",
    "# magic word for producing visualizations in notebook\n",
    "%matplotlib inline\n",
    "import string\n",
    "import time\n",
    "\n",
    "# AWS imports: Import Braket SDK modules\n",
    "from braket.circuits import Circuit, Gate, Instruction, circuit, Observable\n",
    "from braket.devices import LocalSimulator\n",
    "from braket.aws import AwsDevice, AwsQuantumTask\n",
    "s3_folder = (\"dummy_variable\", \"dummy_variable\")"
   ]
  },
  {
   "cell_type": "code",
   "execution_count": 6,
   "metadata": {
    "pycharm": {
     "name": "#%%\n"
    }
   },
   "outputs": [
    {
     "name": "stdout",
     "output_type": "stream",
     "text": [
      "Gate set supported by SDK:\n",
      " ['CCNot', 'CNot', 'CPhaseShift', 'CPhaseShift00', 'CPhaseShift01', 'CPhaseShift10', 'CSwap', 'CV', 'CY', 'CZ', 'ECR', 'H', 'I', 'ISwap', 'PSwap', 'PhaseShift', 'Rx', 'Ry', 'Rz', 'S', 'Si', 'Swap', 'T', 'Ti', 'Unitary', 'V', 'Vi', 'X', 'XX', 'XY', 'Y', 'YY', 'Z', 'ZZ']\n",
      "\n",
      "\n",
      "Gate set supported by the Rigetti device:\n",
      " ['cz', 'xy', 'ccnot', 'cnot', 'cphaseshift', 'cphaseshift00', 'cphaseshift01', 'cphaseshift10', 'cswap', 'h', 'i', 'iswap', 'phaseshift', 'pswap', 'rx', 'ry', 'rz', 's', 'si', 'swap', 't', 'ti', 'x', 'y', 'z', 'start_verbatim_box', 'end_verbatim_box']\n",
      "\n",
      "\n",
      "Gate set supported by the IonQ device:\n",
      " ['x', 'y', 'z', 'rx', 'ry', 'rz', 'h', 'cnot', 's', 'si', 't', 'ti', 'v', 'vi', 'xx', 'yy', 'zz', 'swap']\n",
      "\n",
      "\n",
      "Gate set supported by the OQC device:\n",
      " ['ccnot', 'cnot', 'cphaseshift', 'cswap', 'cy', 'cz', 'h', 'i', 'phaseshift', 'rx', 'ry', 'rz', 's', 'si', 'swap', 't', 'ti', 'v', 'vi', 'x', 'y', 'z', 'ecr', 'start_verbatim_box', 'end_verbatim_box']\n"
     ]
    }
   ],
   "source": [
    "# print all (the usual suspects) available gates currently available within SDK\n",
    "gate_set = [attr for attr in dir(Gate) if attr[0] in string.ascii_uppercase]\n",
    "print('Gate set supported by SDK:\\n', gate_set)\n",
    "print('\\n') \n",
    "\n",
    "# the Rigetti device\n",
    "device = AwsDevice(\"arn:aws:braket:us-west-1::device/qpu/rigetti/Aspen-M-1\")\n",
    "supported_gates = device.properties.action['braket.ir.jaqcd.program'].supportedOperations\n",
    "# print the supported gate set\n",
    "print('Gate set supported by the Rigetti device:\\n', supported_gates)\n",
    "print('\\n') \n",
    "\n",
    "# the IonQ device\n",
    "device = AwsDevice(\"arn:aws:braket:::device/qpu/ionq/ionQdevice\")\n",
    "supported_gates = device.properties.action['braket.ir.jaqcd.program'].supportedOperations\n",
    "# print the supported gate set\n",
    "print('Gate set supported by the IonQ device:\\n', supported_gates)\n",
    "print('\\n') \n",
    "\n",
    "# the Oxford Quantum Circuits (OQC) device\n",
    "device = AwsDevice(\"arn:aws:braket:eu-west-2::device/qpu/oqc/Lucy\")\n",
    "supported_gates = device.properties.action['braket.ir.jaqcd.program'].supportedOperations\n",
    "# print the supported gate set\n",
    "print('Gate set supported by the OQC device:\\n', supported_gates)"
   ]
  },
  {
   "cell_type": "markdown",
   "metadata": {},
   "source": [
    "<font size = 3 color=9A11DA>**(v) Prepare a circuit and print it**</font>\n",
    "\n",
    "Now we will prepare a circuit which is one of the most important circuits in the field of quantum computation. It is called a bell circuit and it is given by the following diagram"
   ]
  },
  {
   "cell_type": "markdown",
   "metadata": {},
   "source": [
    "<div>\n",
    "<img src=\"attachment:image-2.png\" width=\"500\"/>\n",
    "</div>"
   ]
  },
  {
   "cell_type": "code",
   "execution_count": 7,
   "metadata": {
    "pycharm": {
     "name": "#%%\n"
    }
   },
   "outputs": [],
   "source": [
    "# define circuit\n",
    "bell = Circuit().h(0).cnot(0, 1)"
   ]
  },
  {
   "cell_type": "code",
   "execution_count": 8,
   "metadata": {},
   "outputs": [
    {
     "name": "stdout",
     "output_type": "stream",
     "text": [
      "T  : |0|1|\n",
      "          \n",
      "q0 : -H-C-\n",
      "        | \n",
      "q1 : ---X-\n",
      "\n",
      "T  : |0|1|\n"
     ]
    }
   ],
   "source": [
    "# print circuit\n",
    "print(bell)"
   ]
  },
  {
   "cell_type": "markdown",
   "metadata": {},
   "source": [
    "<font size = 3 color=9A11DA>**(v) Submit the circuit to Rigetti's quantum computer**</font>\n",
    "\n",
    "Next we submit our circuit to the superconducting quantum chip provided by Rigetti. Depending on our position in the queue, we may have to wait for some time till our circuit is actually run. However, thanks to asynchronous execution, we can always come back and recover the results by providing the unique ID associated with every task. "
   ]
  },
  {
   "cell_type": "code",
   "execution_count": 9,
   "metadata": {
    "pycharm": {
     "name": "#%%\n"
    }
   },
   "outputs": [
    {
     "name": "stdout",
     "output_type": "stream",
     "text": [
      "Status of task: CREATED\n"
     ]
    }
   ],
   "source": [
    "# set up device\n",
    "rigetti = AwsDevice(\"arn:aws:braket:us-west-1::device/qpu/rigetti/Aspen-M-2\")\n",
    "\n",
    "# create a clean circuit with no result type attached.(This is because some result types are only supported when shots=0)\n",
    "bell = Circuit().h(0).cnot(0, 1)  \n",
    "\n",
    "# add the Z \\otimes Z expectation value\n",
    "bell.expectation(Observable.Z() @ Observable.Z(), target=[0,1])\n",
    "\n",
    "# run circuit \n",
    "rigetti_task = rigetti.run(bell, s3_folder,shots=10)\n",
    "\n",
    "# get id and status of submitted task\n",
    "# rigetti_task_id = rigetti_task.id\n",
    "rigetti_task_id = \"arn:aws:braket:us-west-1:592242689881:quantum-task/7d075fc8-ce38-45e9-8961-8b000d372763\"\n",
    "rigetti_status = rigetti_task.state()\n",
    "# print('ID of task:', rigetti_task_id)\n",
    "print('Status of task:', rigetti_status)"
   ]
  },
  {
   "cell_type": "markdown",
   "metadata": {},
   "source": [
    "<font size = 3 color=9A11DA>**(vi) Checking the status of the task**</font>\n",
    "\n",
    "The task is submitted and we can regularly (or irregularly) check the status of this task by executing the following cell. You may easily build logic around this query to wait for this task to complete before your code proceeds. \n",
    "\n",
    "You can also verify that the task has been submitted by going to the quantum jobs extension. Click `QJOBS` and then click the refresh button the top. You will see your job appear."
   ]
  },
  {
   "cell_type": "code",
   "execution_count": 11,
   "metadata": {
    "pycharm": {
     "name": "#%%\n"
    }
   },
   "outputs": [
    {
     "name": "stdout",
     "output_type": "stream",
     "text": [
      "Status of (reconstructed) task: QUEUED\n",
      "arn:aws:braket:us-west-1:592242689881:quantum-task/7d075fc8-ce38-45e9-8961-8b000d372763\n"
     ]
    }
   ],
   "source": [
    "# print status\n",
    "status = rigetti_task.state()\n",
    "print('Status of (reconstructed) task:', status)\n",
    "print(rigetti_task_id)"
   ]
  },
  {
   "cell_type": "markdown",
   "metadata": {},
   "source": [
    "<font size = 3 color=9A11DA>**(vii) Submit the circuit to IonQ's quantum computer**</font>\n",
    "\n",
    "Next, we submit our Bell state circuit to IonQ. The only thing that needs updating is the Device ID. We initialize a new `AwsDevice`."
   ]
  },
  {
   "cell_type": "code",
   "execution_count": 12,
   "metadata": {
    "pycharm": {
     "name": "#%%\n"
    }
   },
   "outputs": [
    {
     "name": "stdout",
     "output_type": "stream",
     "text": [
      "Status of task: QUEUED\n"
     ]
    }
   ],
   "source": [
    "# set up device\n",
    "ionq = AwsDevice(\"arn:aws:braket:::device/qpu/ionq/ionQdevice\")\n",
    "\n",
    "# run circuit\n",
    "ionq_task = ionq.run(bell, s3_folder, shots=10)\n",
    "\n",
    "# get id and status of submitted task\n",
    "ionq_task_id = ionq_task.id\n",
    "ionq_status = ionq_task.state()\n",
    "# print('ID of task:', ionq_task_id)\n",
    "print('Status of task:', ionq_status)"
   ]
  },
  {
   "cell_type": "code",
   "execution_count": 13,
   "metadata": {},
   "outputs": [
    {
     "name": "stdout",
     "output_type": "stream",
     "text": [
      "Status of (reconstructed) task: QUEUED\n"
     ]
    }
   ],
   "source": [
    "# print status\n",
    "status = ionq_task.state()\n",
    "print('Status of (reconstructed) task:', status)"
   ]
  },
  {
   "cell_type": "markdown",
   "metadata": {},
   "source": [
    "<font size = 3 color=9A11DA>**(vii) Submit the circuit to Oxford Quantum Circuits's quantum computer**</font>\n",
    "\n",
    "Finally, we submit our circuit to the superconducting quantum computer provided by Oxford Quantum Circuits (OQC). The task runs asynchronously. We can retrieve the result when the task is completed."
   ]
  },
  {
   "cell_type": "code",
   "execution_count": 14,
   "metadata": {},
   "outputs": [
    {
     "name": "stdout",
     "output_type": "stream",
     "text": [
      "Status of task: QUEUED\n"
     ]
    }
   ],
   "source": [
    "# set up device\n",
    "oqc = AwsDevice(\"arn:aws:braket:eu-west-2::device/qpu/oqc/Lucy\")\n",
    "\n",
    "# run circuit\n",
    "oqc_task = oqc.run(bell,s3_folder, shots=10)\n",
    "\n",
    "# get id and status of submitted task\n",
    "oqc_task_id = oqc_task.id\n",
    "oqc_status = oqc_task.state()\n",
    "# print('ID of task:', oqc_task_id)\n",
    "print('Status of task:', oqc_status)"
   ]
  },
  {
   "cell_type": "markdown",
   "metadata": {
    "pycharm": {
     "name": "#%% md\n"
    }
   },
   "source": [
    "<font size = 3 color=9A11DA>**(vii) Retrieving quantum jobs**</font>\n"
   ]
  },
  {
   "cell_type": "markdown",
   "metadata": {},
   "source": [
    "By simply grabbing the unique job ID associated with the quantum tasks we have submitted above, we can recover this task at any point in time and (once the status is completed) visualize and analyze the corresponding results. You can easily find the job/task id from the quantum jobs extension. Click on `QJOBS`, and then click on `›` to get the details of the quantum job. Click on the copy symbol next to JobID and paste in the code below to get the details for your quantum job.\n",
    "\n",
    "Note that apart from other metadata, you can retrieve the compiled circuit that was actually run on the Rigetti device. "
   ]
  },
  {
   "cell_type": "code",
   "execution_count": 15,
   "metadata": {
    "pycharm": {
     "name": "#%%\n"
    }
   },
   "outputs": [
    {
     "name": "stdout",
     "output_type": "stream",
     "text": [
      "Status of (reconstructed) task: COMPLETED\n",
      "\n",
      "\n",
      "10 shots taken on machine arn:aws:braket:us-west-1::device/qpu/rigetti/Aspen-M-2.\n",
      "\n",
      "The compiled circuit is:\n",
      " DECLARE ro BIT[2]\n",
      "PRAGMA INITIAL_REWIRING \"PARTIAL\"\n",
      "RESET\n",
      "RZ(pi/2) 122\n",
      "RX(pi/2) 122\n",
      "RZ(4.597195288642736) 122\n",
      "RZ(-pi/2) 135\n",
      "RX(pi/2) 135\n",
      "RZ(1.6859900185368497) 135\n",
      "CZ 135 122\n",
      "RZ(0.11519369174195335) 122\n",
      "RZ(1.4556026350529438) 135\n",
      "RX(pi/2) 135\n",
      "RZ(3*pi/2) 135\n",
      "MEASURE 135 ro[1]\n",
      "MEASURE 122 ro[0]\n",
      "\n",
      "Measurement counts: Counter({'11': 4, '00': 4, '10': 2})\n"
     ]
    },
    {
     "data": {
      "image/png": "[encoded data removed]",
      "text/plain": [
       "<Figure size 432x288 with 1 Axes>"
      ]
     },
     "metadata": {
      "needs_background": "light"
     },
     "output_type": "display_data"
    }
   ],
   "source": [
    "# recover task\n",
    "task_load = AwsQuantumTask(arn=\"arn:aws:braket:us-west-1:592242689881:quantum-task/5863f125-6598-409b-ab52-7724c074be3c\")\n",
    "\n",
    "# print status\n",
    "status = task_load.state()\n",
    "print('Status of (reconstructed) task:', status)\n",
    "print('\\n')\n",
    "# wait for job to complete\n",
    "# terminal_states = ['COMPLETED', 'FAILED', 'CANCELLED']\n",
    "if status == 'COMPLETED':\n",
    "    # get results\n",
    "    rigetti_results = task_load.result()\n",
    "    # print(rigetti_results)\n",
    "    \n",
    "    # get all metadata of submitted task\n",
    "    metadata = task_load.metadata()\n",
    "    # example for metadata\n",
    "    shots = metadata['shots']\n",
    "    machine = metadata['deviceArn']\n",
    "    # print example metadata\n",
    "    print(\"{} shots taken on machine {}.\\n\".format(shots, machine))\n",
    "    \n",
    "    # get the compiled circuit\n",
    "    print(\"The compiled circuit is:\\n\", rigetti_results.additional_metadata.rigettiMetadata.compiledProgram)\n",
    "    \n",
    "    # get measurement counts\n",
    "    rigetti_counts = rigetti_results.measurement_counts\n",
    "    print('Measurement counts:', rigetti_counts)\n",
    "\n",
    "    # plot results: see effects of noise\n",
    "    plt.bar(rigetti_counts.keys(), rigetti_counts.values())\n",
    "    plt.xlabel('bitstrings')\n",
    "    plt.ylabel('counts')\n",
    "    plt.tight_layout()\n",
    "    plt.savefig('rigetti.png', dpi=700)\n",
    "    \n",
    "elif status in ['FAILED', 'CANCELLED']:\n",
    "    # print terminal message \n",
    "    print('Your task is in terminal status, but has not completed.')\n",
    "\n",
    "else:\n",
    "    # print current status\n",
    "    print('Sorry, your task is still being processed and has not been finalized yet.')"
   ]
  },
  {
   "cell_type": "markdown",
   "metadata": {
    "pycharm": {
     "name": "#%% md\n"
    }
   },
   "source": [
    "<font size = 3 color=9A11DA>**(viii) Running on a simulator**</font>\n"
   ]
  },
  {
   "cell_type": "code",
   "execution_count": 17,
   "metadata": {},
   "outputs": [
    {
     "name": "stdout",
     "output_type": "stream",
     "text": [
      "Counter({'11': 504, '00': 496})\n",
      "Counts for all-zero bitstring: 496\n",
      "Counts for all-one bitstring: 504\n"
     ]
    },
    {
     "data": {
      "image/png": "[encoded data removed]",
      "text/plain": [
       "<Figure size 432x288 with 1 Axes>"
      ]
     },
     "metadata": {
      "needs_background": "light"
     },
     "output_type": "display_data"
    }
   ],
   "source": [
    "# set up device\n",
    "n_qubits=2\n",
    "simulator_sv1 = AwsDevice(\"arn:aws:braket:::device/quantum-simulator/amazon/sv1\")\n",
    "\n",
    "\n",
    "# run GHZ circuit on SV1\n",
    "result = simulator_sv1.run(bell, s3_folder,shots=1000).result()\n",
    "counts = result.measurement_counts\n",
    "print(counts)\n",
    "\n",
    "# plot using Counter\n",
    "plt.bar(counts.keys(), counts.values());\n",
    "plt.xlabel('bitstrings');\n",
    "plt.ylabel('counts');  \n",
    "\n",
    "# print counts of all-zero-string\n",
    "print('Counts for all-zero bitstring:', counts['0'*n_qubits])\n",
    "# print counts of all-one-string\n",
    "print('Counts for all-one bitstring:', counts['1'*n_qubits])\n",
    "\n",
    "\n"
   ]
  }
 ],
 "metadata": {
  "kernelspec": {
   "display_name": "Python 3 [Braket]",
   "language": "python",
   "name": "python3_aws_braket_kwx6dl"
  },
  "language_info": {
   "codemirror_mode": {
    "name": "ipython",
    "version": 3
   },
   "file_extension": ".py",
   "mimetype": "text/x-python",
   "name": "python",
   "nbconvert_exporter": "python",
   "pygments_lexer": "ipython3",
   "version": "3.9.10"
  },
  "toc-autonumbering": true,
  "toc-showcode": false,
  "toc-showmarkdowntxt": false,
  "widgets": {
   "application/vnd.jupyter.widget-state+json": {
    "state": {},
    "version_major": 2,
    "version_minor": 0
   }
  },
  "youtube": [
   {
    "link": "https://www.youtube.com/watch?v=wAOldthIp88",
    "name": "Wave Particle Duality"
   },
   {
    "link": "https://www.youtube.com/watch?v=nM5KJMuJyNY",
    "name": "Quantum Cryptography"
   }
  ]
 },
 "nbformat": 4,
 "nbformat_minor": 4
}
