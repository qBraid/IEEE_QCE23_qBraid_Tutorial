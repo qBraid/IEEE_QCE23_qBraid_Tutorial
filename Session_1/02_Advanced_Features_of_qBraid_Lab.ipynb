{
 "cells": [
  {
   "cell_type": "markdown",
   "metadata": {},
   "source": [
    "<h1 style=\"color:#D30982;\">Advanced Features of qBraid Lab</h1>\n",
    "\n",
    "Now we come to introducing some of the more recent features added to qBraid Lab to elevate the development/research experience. Some of these features are free (qBraid-sdk, code-snippets), some require certain levels of subscription (share environments/notebooks, omnisearch), and others are in closed beta (GPU-integration). For all participants in the IEEE QCE23 tutorial, we are providing limited access to all of these features at no cost. Simply enter the code 'XXXXXX' at https://account.qbraid.com/account-details and then open a lab instance.\n",
    "\n",
    "In this notebook, you will explore: <br>\n",
    "1. <a href=\"#qbraid-sdk\">Instructions on how to use the recently open-sourced qBraid-sdk to do cross-framework abstraction, transpilation, and execution of quantum programs. If interested, you are encouraged to participate in the open-source community development of the qBraid-sdk here -> https://github.com/qBraid/qBraid</a> <br>\n",
    "2. <a href=\"#code-snippets\">Instructions on how to utilize code snippets.</a> <br>\n",
    "3. <a href=\"#sharing-environments-and-notebooks\">Instructions on how to share environments and notebooks for more seamless collaboration.</a> <br>\n",
    "4. <a href=\"#GPU-integration\">Instructions on how to utilize GPU-acceleration in quantum workflows.</a> <br>"
   ]
  },
  {
   "cell_type": "markdown",
   "metadata": {},
   "source": [
    "<h2> qBraid-SDK </h2> <a name=\"qbraid-sdk\"></a>\n"
   ]
  },
  {
   "cell_type": "code",
   "execution_count": null,
   "metadata": {},
   "outputs": [],
   "source": [
    "# Construct a quantum program of any supported program type:\n",
    "\n",
    "from qbraid import QPROGRAM_LIBS\n",
    "from qbraid.interface import random_circuit\n",
    "\n",
    "print(\"Avaliable quantum libraries: \" + str(QPROGRAM_LIBS))"
   ]
  },
  {
   "cell_type": "code",
   "execution_count": null,
   "metadata": {},
   "outputs": [],
   "source": [
    "circuit = random_circuit(\"braket\", num_qubits=4, depth=4)\n",
    "print(circuit)"
   ]
  },
  {
   "cell_type": "markdown",
   "metadata": {},
   "source": [
    "Here, you will learn how to use the qBraid SDK to interface with quantum circuit objects accross various frontends. We will demonstrate how to use the transpiler to convert circuits between packages, and highlight a few other circuit-based convenience features."
   ]
  },
  {
   "cell_type": "code",
   "execution_count": null,
   "metadata": {},
   "outputs": [],
   "source": [
    "from qbraid import QPROGRAM_TYPES\n",
    "\n",
    "for k in QPROGRAM_TYPES:\n",
    "    print(k)"
   ]
  },
  {
   "cell_type": "code",
   "execution_count": null,
   "metadata": {},
   "outputs": [],
   "source": [
    "from qbraid import circuit_wrapper\n",
    "\n",
    "qprogram = circuit_wrapper(qiskit_circuit)"
   ]
  },
  {
   "cell_type": "code",
   "execution_count": null,
   "metadata": {},
   "outputs": [],
   "source": [
    "from qbraid import QPROGRAM_LIBS\n",
    "QPROGRAM_LIBS"
   ]
  },
  {
   "cell_type": "code",
   "execution_count": null,
   "metadata": {},
   "outputs": [],
   "source": [
    "# Create a random circuit in each of the supported quantum languages\n",
    "from qbraid.interface import random_circuit\n",
    "\n",
    "qiskit_circuit = random_circuit(\"qiskit\", num_qubits=2, depth=2)\n",
    "print(qiskit_circuit)"
   ]
  },
  {
   "cell_type": "code",
   "execution_count": null,
   "metadata": {},
   "outputs": [],
   "source": [
    "cirq_circuit = random_circuit(\"cirq\", num_qubits=2, depth=2)\n",
    "print(cirq_circuit)"
   ]
  },
  {
   "cell_type": "code",
   "execution_count": null,
   "metadata": {},
   "outputs": [],
   "source": [
    "# Suppose you want to take a circuit in one language and turn it into the other. \n",
    "# The circuit_wrapper offers a transpile method to do just this!"
   ]
  },
  {
   "cell_type": "code",
   "execution_count": null,
   "metadata": {},
   "outputs": [],
   "source": [
    "from qbraid import circuit_wrapper\n",
    "\n",
    "braket_circuit = circuit_wrapper(qiskit_circuit).transpile(\"braket\")\n",
    "print(braket_circuit)"
   ]
  },
  {
   "cell_type": "code",
   "execution_count": null,
   "metadata": {},
   "outputs": [],
   "source": [
    "# You can also submit jobs to quantum computers directly using the qBraid-SDK."
   ]
  },
  {
   "cell_type": "code",
   "execution_count": null,
   "metadata": {},
   "outputs": [],
   "source": [
    "!qbraid jobs enable qbraid_sdk"
   ]
  },
  {
   "cell_type": "code",
   "execution_count": null,
   "metadata": {},
   "outputs": [],
   "source": [
    "from qbraid import get_devices\n",
    "\n",
    "get_devices(filters={\"architecture\": {\"$regex\": \"superconducting\"}, \"vendor\": \"AWS\"}) #filter out only superconducting devices on AWS"
   ]
  },
  {
   "cell_type": "code",
   "execution_count": null,
   "metadata": {},
   "outputs": [],
   "source": [
    "# let's define a simple Bell circuit using qiskit, transpile it to Braket, and show how easy it is to submit to multiple devices.\n",
    "from qiskit import QuantumCircuit\n",
    "\n",
    "def bell():\n",
    "    circuit = QuantumCircuit(2)\n",
    "    circuit.h(0)\n",
    "    circuit.cx(0,1)\n",
    "    return circuit"
   ]
  },
  {
   "cell_type": "code",
   "execution_count": null,
   "metadata": {},
   "outputs": [],
   "source": [
    "from qbraid import device_wrapper\n",
    "\n",
    "jobs  = []\n",
    "\n",
    "qbraid_ids = ['aws_oqc_lucy', 'aws_rigetti_aspen_m3']\n",
    "\n",
    "qiskit_bell_circuit = bell()\n",
    "print(qiskit_bell_circuit)"
   ]
  },
  {
   "cell_type": "code",
   "execution_count": null,
   "metadata": {},
   "outputs": [],
   "source": [
    "from qbraid import circuit_wrapper\n",
    "\n",
    "braket_bell_circuit = circuit_wrapper(qiskit_bell_circuit).transpile(\"braket\")\n",
    "print(braket_bell_circuit)"
   ]
  },
  {
   "cell_type": "code",
   "execution_count": null,
   "metadata": {},
   "outputs": [],
   "source": [
    "for device in qbraid_ids:\n",
    "    qdevice = device_wrapper(device)\n",
    "    qjob = qdevice.run(braket_bell_circuit, shots=1000)\n",
    "    jobs.append(qjob)"
   ]
  },
  {
   "cell_type": "code",
   "execution_count": null,
   "metadata": {},
   "outputs": [],
   "source": [
    "from qbraid import get_jobs\n",
    "\n",
    "get_jobs(filters={\"numResults\": 2})"
   ]
  },
  {
   "cell_type": "code",
   "execution_count": null,
   "metadata": {},
   "outputs": [],
   "source": [
    "print(\"{:<20} {:<20}\".format('Device','Counts'))\n",
    "\n",
    "for i, job in enumerate(jobs):\n",
    "    result = job.result()\n",
    "    counts = result.measurement_counts()\n",
    "    print(\"{:<20} {:<20}\".format(qbraid_ids[i],str(counts)))"
   ]
  },
  {
   "cell_type": "markdown",
   "metadata": {},
   "source": [
    "<h2> Code Snippets </h2> <a name=\"code-snippets\"></a>\n"
   ]
  },
  {
   "cell_type": "code",
   "execution_count": null,
   "metadata": {},
   "outputs": [],
   "source": [
    "# Suppose that I wanted to start writing an Analog Hamiltonian Program for QuEra's Aquila.\n",
    "# Just search 'Aquila' in code snippets and we find the following:\n",
    "\n",
    "# Define a set of time points\n",
    "time_points = [0, 0.6e-6, 3.4e-6, 4e-6]\n",
    "\n",
    "# Define the strength of the transverse field Ω\n",
    "amplitude_min = 0\n",
    "amplitude_max = 10e6  # rad / sec\n",
    "\n",
    "# Define the strength of the detuning Δ\n",
    "Delta_initial = -20e6     # rad / sec\n",
    "Delta_final = 1e6 # Defined above\n",
    "\n",
    "# Define the total drive\n",
    "from quera_ahs_utils.plotting import show_register, show_global_drive, show_final_avg_density\n",
    "from quera_ahs_utils.drive import get_drive \n",
    "\n",
    "amplitude_values = [amplitude_min, amplitude_max, amplitude_max, amplitude_min]  # piecewise linear\n",
    "detuning_values = [Delta_initial, Delta_initial, Delta_final, Delta_final]  # piecewise linear\n",
    "phase_values = [0, 0, 0, 0]  # piecewise constant\n",
    "\n",
    "\n",
    "# Define the drive\n",
    "drive = get_drive(time_points, amplitude_values, detuning_values, phase_values)\n",
    "show_global_drive(drive);"
   ]
  },
  {
   "cell_type": "markdown",
   "metadata": {},
   "source": [
    "##### You can create your own private code snippets and/or make them public for everyone to enjoy!"
   ]
  },
  {
   "cell_type": "markdown",
   "metadata": {},
   "source": [
    "<h2> Sharing notebooks and environments </h2> <a name=\"sharing-envs-nbs\"></a>\n"
   ]
  },
  {
   "cell_type": "markdown",
   "metadata": {},
   "source": [
    "##### Suppose you're working on a project with another person or group of people and you have a notebook and corresponding environment"
   ]
  },
  {
   "cell_type": "markdown",
   "metadata": {},
   "source": [
    "##### With qBraid Lab, you can share your notebook using a downloadable link. The other person can then upload your notebook to their qBraid Lab files. (Directly shareable notebooks and live collaboration are in-progress)\n"
   ]
  },
  {
   "cell_type": "markdown",
   "metadata": {},
   "source": [
    "##### You can also create an environment and share that using the other user's email. It will automatically show up on their environment manager, where they can directly install the environment."
   ]
  },
  {
   "cell_type": "markdown",
   "metadata": {},
   "source": [
    "<h2> GPU-acceleration </h2> <a name=\"gpu-acceleration\"></a>\n"
   ]
  },
  {
   "cell_type": "markdown",
   "metadata": {},
   "source": [
    "##### A brand new feature on qBraid lab is the ability to start GPU-enabled instances using Nvidia V100s or A100s. These are not widely available at the moment but will be available to you for the day if you enter this (IEEEQCE23) code on qBraid Lab."
   ]
  },
  {
   "cell_type": "markdown",
   "metadata": {},
   "source": [
    "##### As opposed to the lengthy and complicated process of setting up a GPU for usage on a personal computer, once you start a GPU-enabled instance on qBraid Lab, a large set of quantum software will 'just work'."
   ]
  },
  {
   "cell_type": "markdown",
   "metadata": {},
   "source": [
    "##### For example, we can run a GPU-accelerated simulation of a random circuit below by simply specifying the GPU backend for Qiskit."
   ]
  },
  {
   "cell_type": "code",
   "execution_count": null,
   "metadata": {},
   "outputs": [],
   "source": [
    "from qiskit import *\n",
    "from qiskit_aer import AerSimulator\n",
    "from qiskit.circuit.library import *\n",
    "import time\n",
    "\n",
    "from qiskit import *\n",
    "from qiskit.circuit.library import *\n",
    "from qiskit.providers.aer import *\n",
    "\n",
    "sim = AerSimulator(method='statevector', device='GPU')\n",
    "\n",
    "qubits = 29\n",
    "depth=100\n",
    "shots = 100\n",
    "\n",
    "circuit = QuantumVolume(qubits, depth, seed=0)\n",
    "circuit.measure_all()\n",
    "circuit = transpile(circuit, sim)\n",
    "result = sim.run(circuit,shots=shots,seed_simulator=12345).result()\n",
    "\n",
    "print(\"GPU sim with ThrustGPU:{0} qubits Quantum Volume, Simulation Time = {1} sec\".format(qubits,result.to_dict()['results'][0]['time_taken']))\n",
    "counts = result.get_counts()\n",
    "print(counts)"
   ]
  },
  {
   "cell_type": "code",
   "execution_count": null,
   "metadata": {},
   "outputs": [],
   "source": []
  }
 ],
 "metadata": {
  "kernelspec": {
   "display_name": "Python 3 [Default]",
   "language": "python",
   "name": "python3"
  },
  "language_info": {
   "codemirror_mode": {
    "name": "ipython",
    "version": 3
   },
   "file_extension": ".py",
   "mimetype": "text/x-python",
   "name": "python",
   "nbconvert_exporter": "python",
   "pygments_lexer": "ipython3",
   "version": "3.9.18"
  }
 },
 "nbformat": 4,
 "nbformat_minor": 4
}
