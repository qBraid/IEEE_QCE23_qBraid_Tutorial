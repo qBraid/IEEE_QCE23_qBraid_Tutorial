{
 "cells": [
  {
   "cell_type": "markdown",
   "metadata": {},
   "source": [
    "<h1 style=\"color:#D30982;\">Advanced Features of qBraid Lab</h1>\n",
    "\n",
    "Now we come to introducing some of the more recent features added to qBraid Lab to elevate the development/research experience. Some of these features are free (qBraid-sdk, code-snippets), some require certain levels of subscription (share environments/notebooks, omnisearch), and others are in closed beta (GPU-integration). For all participants in the IEEE QCE23 tutorial, we are providing limited access to all of these features at no cost. Simply enter the code 'XXXXXX' at https://account.qbraid.com/account-details and then open a lab instance.\n",
    "\n",
    "In this notebook, you will explore: <br>\n",
    "1. <a href=\"#qbraid-sdk\">Instructions on how to use the recently open-sourced qBraid-sdk to do cross-framework abstraction, transpilation, and execution of quantum programs. If interested, you are encouraged to participate in the open-source community development of the qBraid-sdk here -> https://github.com/qBraid/qBraid</a> <br>\n",
    "2. <a href=\"#code-snippets\">Instructions on how to utilize code snippets.</a> <br>\n",
    "3. <a href=\"#sharing-environments-and-notebooks\">Instructions on how to share environments and notebooks for more seamless collaboration.</a> <br>\n",
    "4. <a href=\"#GPU-integration\">Instructions on how to utilize GPU-acceleration in quantum workflows.</a> <br>"
   ]
  },
  {
   "cell_type": "markdown",
   "metadata": {},
   "source": [
    "<h2> qBraid-SDK </h2> <a name=\"qbraid-sdk\"></a>\n"
   ]
  },
  {
   "cell_type": "code",
   "execution_count": 1,
   "metadata": {},
   "outputs": [
    {
     "data": {
      "text/plain": [
       "['braket', 'cirq', 'qiskit', 'pyquil', 'pytket', 'qasm2', 'qasm3']"
      ]
     },
     "execution_count": 1,
     "metadata": {},
     "output_type": "execute_result"
    }
   ],
   "source": [
    "# Construct a quantum program of any supported program type:\n",
    "\n",
    "from qbraid import QPROGRAM_LIBS\n",
    "from qbraid.interface import random_circuit\n",
    "\n",
    "QPROGRAM_LIBS"
   ]
  },
  {
   "cell_type": "code",
   "execution_count": 2,
   "metadata": {},
   "outputs": [],
   "source": [
    "circuit = random_circuit(\"qiskit\", num_qubits=1, measure=True)"
   ]
  },
  {
   "cell_type": "code",
   "execution_count": 3,
   "metadata": {},
   "outputs": [
    {
     "ename": "ImportError",
     "evalue": "cannot import name 'ibm_least_busy_qpu' from 'qbraid.api' (/home/kenny/anaconda3/lib/python3.11/site-packages/qbraid/api/__init__.py)",
     "output_type": "error",
     "traceback": [
      "\u001b[0;31m---------------------------------------------------------------------------\u001b[0m",
      "\u001b[0;31mImportError\u001b[0m                               Traceback (most recent call last)",
      "Cell \u001b[0;32mIn[3], line 3\u001b[0m\n\u001b[1;32m      1\u001b[0m \u001b[39mfrom\u001b[39;00m \u001b[39mqbraid\u001b[39;00m \u001b[39mimport\u001b[39;00m get_devices\n\u001b[0;32m----> 3\u001b[0m \u001b[39mfrom\u001b[39;00m \u001b[39mqbraid\u001b[39;00m\u001b[39m.\u001b[39;00m\u001b[39mapi\u001b[39;00m \u001b[39mimport\u001b[39;00m ibm_least_busy_qpu\n\u001b[1;32m      5\u001b[0m get_devices(filters\u001b[39m=\u001b[39m{\u001b[39m\"\u001b[39m\u001b[39marchitecture\u001b[39m\u001b[39m\"\u001b[39m: {\u001b[39m\"\u001b[39m\u001b[39m$regex\u001b[39m\u001b[39m\"\u001b[39m: \u001b[39m\"\u001b[39m\u001b[39msuperconducting\u001b[39m\u001b[39m\"\u001b[39m}, \u001b[39m\"\u001b[39m\u001b[39mvendor\u001b[39m\u001b[39m\"\u001b[39m: \u001b[39m\"\u001b[39m\u001b[39mAWS\u001b[39m\u001b[39m\"\u001b[39m})\n",
      "\u001b[0;31mImportError\u001b[0m: cannot import name 'ibm_least_busy_qpu' from 'qbraid.api' (/home/kenny/anaconda3/lib/python3.11/site-packages/qbraid/api/__init__.py)"
     ]
    }
   ],
   "source": [
    "from qbraid import get_devices\n",
    "\n",
    "from qbraid.api import ibm_least_busy_qpu\n",
    "\n",
    "get_devices(filters={\"architecture\": {\"$regex\": \"superconducting\"}, \"vendor\": \"AWS\"})"
   ]
  },
  {
   "cell_type": "code",
   "execution_count": 4,
   "metadata": {},
   "outputs": [
    {
     "ename": "KeyError",
     "evalue": "'aws.device'",
     "output_type": "error",
     "traceback": [
      "\u001b[0;31m---------------------------------------------------------------------------\u001b[0m",
      "\u001b[0;31mKeyError\u001b[0m                                  Traceback (most recent call last)",
      "Cell \u001b[0;32mIn[4], line 8\u001b[0m\n\u001b[1;32m      5\u001b[0m qbraid_ids \u001b[39m=\u001b[39m [\u001b[39m'\u001b[39m\u001b[39maws_oqc_lucy\u001b[39m\u001b[39m'\u001b[39m, \u001b[39m'\u001b[39m\u001b[39mibm_q_perth\u001b[39m\u001b[39m'\u001b[39m]\n\u001b[1;32m      7\u001b[0m \u001b[39mfor\u001b[39;00m device \u001b[39min\u001b[39;00m qbraid_ids:\n\u001b[0;32m----> 8\u001b[0m     qdevice \u001b[39m=\u001b[39m device_wrapper(device)\n\u001b[1;32m      9\u001b[0m     qjob \u001b[39m=\u001b[39m qdevice\u001b[39m.\u001b[39mrun(circuit, shots\u001b[39m=\u001b[39m\u001b[39m1000\u001b[39m)\n\u001b[1;32m     10\u001b[0m     jobs\u001b[39m.\u001b[39mappend(qjob)\n",
      "File \u001b[0;32m~/anaconda3/lib/python3.11/site-packages/qbraid/wrappers.py:114\u001b[0m, in \u001b[0;36mdevice_wrapper\u001b[0;34m(device_id)\u001b[0m\n\u001b[1;32m    112\u001b[0m vendor \u001b[39m=\u001b[39m device_info[\u001b[39m\"\u001b[39m\u001b[39mvendor\u001b[39m\u001b[39m\"\u001b[39m]\u001b[39m.\u001b[39mlower()\n\u001b[1;32m    113\u001b[0m ep \u001b[39m=\u001b[39m \u001b[39mf\u001b[39m\u001b[39m\"\u001b[39m\u001b[39m{\u001b[39;00mvendor\u001b[39m}\u001b[39;00m\u001b[39m.device\u001b[39m\u001b[39m\"\u001b[39m\n\u001b[0;32m--> 114\u001b[0m device_wrapper_class \u001b[39m=\u001b[39m devices_entrypoints[ep]\u001b[39m.\u001b[39mload()\n\u001b[1;32m    115\u001b[0m \u001b[39mreturn\u001b[39;00m device_wrapper_class(\u001b[39m*\u001b[39m\u001b[39m*\u001b[39mdevice_info)\n",
      "\u001b[0;31mKeyError\u001b[0m: 'aws.device'"
     ]
    }
   ],
   "source": [
    "from qbraid import device_wrapper\n",
    "\n",
    "jobs  = []\n",
    "\n",
    "qbraid_ids = ['aws_oqc_lucy', 'ibm_q_perth']\n",
    "\n",
    "for device in qbraid_ids:\n",
    "    qdevice = device_wrapper(device)\n",
    "    qjob = qdevice.run(circuit, shots=1000)\n",
    "    jobs.append(qjob)"
   ]
  },
  {
   "cell_type": "code",
   "execution_count": null,
   "metadata": {},
   "outputs": [],
   "source": [
    "from qbraid import get_jobs\n",
    "\n",
    "get_jobs(filters={\"numResults\": 2})"
   ]
  },
  {
   "cell_type": "code",
   "execution_count": null,
   "metadata": {},
   "outputs": [],
   "source": [
    "print(\"{:<20} {:<20}\".format('Device','Counts'))\n",
    "\n",
    "for i, job in enumerate(jobs):\n",
    "    result = job.result()\n",
    "    counts = result.measurement_counts()\n",
    "    print(\"{:<20} {:<20}\".format(qbraid_ids[i],str(counts)))"
   ]
  },
  {
   "cell_type": "markdown",
   "metadata": {},
   "source": [
    "Here, you will learn how to use the qBraid SDK to interface with quantum circuit objects accross various frontends. We will demonstrate how to use the transpiler to convert circuits between packages, and highlight a few other circuit-based convenience features."
   ]
  },
  {
   "cell_type": "code",
   "execution_count": 6,
   "metadata": {},
   "outputs": [
    {
     "name": "stdout",
     "output_type": "stream",
     "text": [
      "<class 'braket.circuits.circuit.Circuit'>\n",
      "<class 'cirq.circuits.circuit.Circuit'>\n",
      "<class 'qiskit.circuit.quantumcircuit.QuantumCircuit'>\n",
      "<class 'pyquil.quil.Program'>\n",
      "<class 'pytket._tket.circuit.Circuit'>\n",
      "<class 'str'>\n"
     ]
    }
   ],
   "source": [
    "from qbraid import QPROGRAM_TYPES\n",
    "\n",
    "for k in QPROGRAM_TYPES:\n",
    "    print(k)"
   ]
  },
  {
   "cell_type": "code",
   "execution_count": 7,
   "metadata": {},
   "outputs": [],
   "source": [
    "from qiskit import QuantumCircuit\n",
    "\n",
    "def bell():\n",
    "    circuit = QuantumCircuit(2)\n",
    "    circuit.h(0)\n",
    "    circuit.cx(0,1)\n",
    "    return circuit"
   ]
  },
  {
   "cell_type": "code",
   "execution_count": 8,
   "metadata": {},
   "outputs": [
    {
     "data": {
      "text/html": [
       "<pre style=\"word-wrap: normal;white-space: pre;background: #fff0;line-height: 1.1;font-family: &quot;Courier New&quot;,Courier,monospace\">     ┌───┐     \n",
       "q_0: ┤ H ├──■──\n",
       "     └───┘┌─┴─┐\n",
       "q_1: ─────┤ X ├\n",
       "          └───┘</pre>"
      ],
      "text/plain": [
       "     ┌───┐     \n",
       "q_0: ┤ H ├──■──\n",
       "     └───┘┌─┴─┐\n",
       "q_1: ─────┤ X ├\n",
       "          └───┘"
      ]
     },
     "execution_count": 8,
     "metadata": {},
     "output_type": "execute_result"
    }
   ],
   "source": [
    "qiskit_circuit = bell()\n",
    "qiskit_circuit.draw()"
   ]
  },
  {
   "cell_type": "code",
   "execution_count": 9,
   "metadata": {},
   "outputs": [
    {
     "ename": "QbraidError",
     "evalue": "Error applying circuit wrapper to quantum program of type <class 'qiskit.circuit.quantumcircuit.QuantumCircuit'>",
     "output_type": "error",
     "traceback": [
      "\u001b[0;31m---------------------------------------------------------------------------\u001b[0m",
      "\u001b[0;31mQbraidError\u001b[0m                               Traceback (most recent call last)",
      "Cell \u001b[0;32mIn[9], line 3\u001b[0m\n\u001b[1;32m      1\u001b[0m \u001b[39mfrom\u001b[39;00m \u001b[39mqbraid\u001b[39;00m \u001b[39mimport\u001b[39;00m circuit_wrapper\n\u001b[0;32m----> 3\u001b[0m qprogram \u001b[39m=\u001b[39m circuit_wrapper(qiskit_circuit)\n",
      "File \u001b[0;32m~/anaconda3/lib/python3.11/site-packages/qbraid/wrappers.py:77\u001b[0m, in \u001b[0;36mcircuit_wrapper\u001b[0;34m(program)\u001b[0m\n\u001b[1;32m     74\u001b[0m     circuit_wrapper_class \u001b[39m=\u001b[39m transpiler_entrypoints[ep]\u001b[39m.\u001b[39mload()\n\u001b[1;32m     75\u001b[0m     \u001b[39mreturn\u001b[39;00m circuit_wrapper_class(program)\n\u001b[0;32m---> 77\u001b[0m \u001b[39mraise\u001b[39;00m QbraidError(\u001b[39mf\u001b[39m\u001b[39m\"\u001b[39m\u001b[39mError applying circuit wrapper to quantum program of type \u001b[39m\u001b[39m{\u001b[39;00m\u001b[39mtype\u001b[39m(program)\u001b[39m}\u001b[39;00m\u001b[39m\"\u001b[39m)\n",
      "\u001b[0;31mQbraidError\u001b[0m: Error applying circuit wrapper to quantum program of type <class 'qiskit.circuit.quantumcircuit.QuantumCircuit'>"
     ]
    }
   ],
   "source": [
    "from qbraid import circuit_wrapper\n",
    "\n",
    "qprogram = circuit_wrapper(qiskit_circuit)"
   ]
  },
  {
   "cell_type": "code",
   "execution_count": 10,
   "metadata": {},
   "outputs": [
    {
     "data": {
      "text/plain": [
       "['braket', 'cirq', 'qiskit', 'pyquil', 'pytket', 'qasm2', 'qasm3']"
      ]
     },
     "execution_count": 10,
     "metadata": {},
     "output_type": "execute_result"
    }
   ],
   "source": [
    "from qbraid import QPROGRAM_LIBS\n",
    "QPROGRAM_LIBS"
   ]
  },
  {
   "cell_type": "code",
   "execution_count": 12,
   "metadata": {},
   "outputs": [
    {
     "ename": "QbraidError",
     "evalue": "Error applying circuit wrapper to quantum program of type <class 'cirq.circuits.circuit.Circuit'>",
     "output_type": "error",
     "traceback": [
      "\u001b[0;31m---------------------------------------------------------------------------\u001b[0m",
      "\u001b[0;31mQbraidError\u001b[0m                               Traceback (most recent call last)",
      "Cell \u001b[0;32mIn[12], line 4\u001b[0m\n\u001b[1;32m      2\u001b[0m \u001b[39mfrom\u001b[39;00m \u001b[39mqbraid\u001b[39;00m\u001b[39m.\u001b[39;00m\u001b[39minterface\u001b[39;00m \u001b[39mimport\u001b[39;00m random_circuit\n\u001b[1;32m      3\u001b[0m qiskit_circuit \u001b[39m=\u001b[39m random_circuit(\u001b[39m\"\u001b[39m\u001b[39mcirq\u001b[39m\u001b[39m\"\u001b[39m)\n\u001b[0;32m----> 4\u001b[0m cirq_circuit \u001b[39m=\u001b[39m circuit_wrapper(qiskit_circuit)\u001b[39m.\u001b[39mtranspile(\u001b[39m\"\u001b[39m\u001b[39mqiskit\u001b[39m\u001b[39m\"\u001b[39m)\n\u001b[1;32m      5\u001b[0m \u001b[39mprint\u001b[39m(qiskit_circuit)\n",
      "File \u001b[0;32m~/anaconda3/lib/python3.11/site-packages/qbraid/wrappers.py:77\u001b[0m, in \u001b[0;36mcircuit_wrapper\u001b[0;34m(program)\u001b[0m\n\u001b[1;32m     74\u001b[0m     circuit_wrapper_class \u001b[39m=\u001b[39m transpiler_entrypoints[ep]\u001b[39m.\u001b[39mload()\n\u001b[1;32m     75\u001b[0m     \u001b[39mreturn\u001b[39;00m circuit_wrapper_class(program)\n\u001b[0;32m---> 77\u001b[0m \u001b[39mraise\u001b[39;00m QbraidError(\u001b[39mf\u001b[39m\u001b[39m\"\u001b[39m\u001b[39mError applying circuit wrapper to quantum program of type \u001b[39m\u001b[39m{\u001b[39;00m\u001b[39mtype\u001b[39m(program)\u001b[39m}\u001b[39;00m\u001b[39m\"\u001b[39m)\n",
      "\u001b[0;31mQbraidError\u001b[0m: Error applying circuit wrapper to quantum program of type <class 'cirq.circuits.circuit.Circuit'>"
     ]
    }
   ],
   "source": [
    "from qbraid import circuit_wrapper\n",
    "from qbraid.interface import random_circuit\n",
    "qiskit_circuit = random_circuit(\"cirq\")\n",
    "cirq_circuit = circuit_wrapper(qiskit_circuit).transpile(\"qiskit\")\n",
    "print(qiskit_circuit)\n"
   ]
  },
  {
   "cell_type": "code",
   "execution_count": null,
   "metadata": {},
   "outputs": [],
   "source": []
  },
  {
   "cell_type": "code",
   "execution_count": null,
   "metadata": {},
   "outputs": [],
   "source": []
  }
 ],
 "metadata": {
  "kernelspec": {
   "display_name": "base",
   "language": "python",
   "name": "python3"
  },
  "language_info": {
   "codemirror_mode": {
    "name": "ipython",
    "version": 3
   },
   "file_extension": ".py",
   "mimetype": "text/x-python",
   "name": "python",
   "nbconvert_exporter": "python",
   "pygments_lexer": "ipython3",
   "version": "3.11.4"
  },
  "orig_nbformat": 4
 },
 "nbformat": 4,
 "nbformat_minor": 2
}
