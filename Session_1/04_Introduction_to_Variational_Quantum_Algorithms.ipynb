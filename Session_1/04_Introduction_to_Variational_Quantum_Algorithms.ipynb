{
 "cells": [
  {
   "cell_type": "markdown",
   "metadata": {
    "slideshow": {
     "slide_type": "slide"
    }
   },
   "source": [
    "<h1 style=\"color:#D30982;text-align:center;vertical-align:middle;\">Introduction to Variational Quantum Algorithms (VQA)\n",
    "    <br></h1>"
   ]
  },
  {
   "cell_type": "markdown",
   "metadata": {
    "slideshow": {
     "slide_type": "slide"
    },
    "toc-hr-collapsed": false
   },
   "source": [
    "<h1 style=\"color:#D30982;\">Overview</h1>\n",
    "\n",
    "- What are VQAs?\n",
    "- VQA Examples:\n",
    "    - QAOA: Quantum Approximate Optimization Algorithm\n",
    "    - VQE: Variational Quantum Eigensolver\n",
    "    - QNNs: Quantum Neural Networks\n",
    "    - VQLS: The Variational Quantum Linear Solver"
   ]
  },
  {
   "cell_type": "markdown",
   "metadata": {},
   "source": [
    "<h1 style=\"color:#510981;\">What are VQAs?</h1>"
   ]
  },
  {
   "cell_type": "markdown",
   "metadata": {},
   "source": [
    "Variational Quantum Algorithms are posed as a leading method for getting near-term quantum advantage with NISQ devices. They combine quantum and classical compute resources such that a classical optimizer tunes the parameters of some quantum circuit in order to achieve a desired result. "
   ]
  },
  {
   "cell_type": "markdown",
   "metadata": {},
   "source": [
    "These algorithms involve preparing a quantum state, called a trial state or ansatz, that approximates the solution to the optimization problem, and then measures the expectation value of an observable, which represents the objective function to be optimized. The goal is to find the trial state that minimizes the expectation value of the observable, which corresponds to finding the optimal solution to the optimization problem."
   ]
  },
  {
   "cell_type": "markdown",
   "metadata": {},
   "source": [
    "Quantum variational algorithms are an active area of research and development in the field of quantum computing, with the potential to provide significant advances in solving optimization problems and other applications."
   ]
  },
  {
   "cell_type": "markdown",
   "metadata": {},
   "source": [
    "<h2 style=\"color:#D10283;\">The Common Steps in all VQAs</h2>"
   ]
  },
  {
   "cell_type": "markdown",
   "metadata": {},
   "source": [
    "All VQAs have the same steps but different methodologies. The steps they share are:\n",
    "\n",
    "- Prepare a parameterized circuit: This means a circuit where some of the gates have parameters that allow us to fine-tune their effect (i.e. the angle of a CX rotation)."
   ]
  },
  {
   "cell_type": "markdown",
   "metadata": {},
   "source": [
    "- Do some measurements: This could include multiple measurements in different basis."
   ]
  },
  {
   "cell_type": "markdown",
   "metadata": {},
   "source": [
    "\n",
    "- Calculate the cost of the solution given by your last run of the algorithm. Classically optimize the parameters of your circuit so that you minimize / maximize your cost function. This second point is also the reason why very often this algorithms are also called “hybrid”. The optimization part happens on a classical computer.\n"
   ]
  },
  {
   "cell_type": "markdown",
   "metadata": {},
   "source": [
    "<h1 style=\"color:#D30982;\">Examples of VQAs</h1>"
   ]
  },
  {
   "cell_type": "markdown",
   "metadata": {},
   "source": [
    "There is a lot of research being done on VQAs. Some of the most common classes of VQAs are:\n",
    "\n",
    "- VQE: The Variational Quantum Eigensolver is used to approximate the lowest energy level of a given Hamiltonian.\n",
    "- QAOA: The Quantum Approximate Optimization Algorithm is mostly used for Combinatorial Optimization problems.\n",
    "- QNNs: Quantum Neural Networks. Quantum analogues or generalizations of classical neural nets.\n",
    "- VQLS: The Variational Quantum Linear Solver is used to solve systems of linear equations."
   ]
  },
  {
   "cell_type": "markdown",
   "metadata": {},
   "source": [
    "<h1 style=\"color:#510981;\">VQE: The Variational Quantum Eigensolver </h1>"
   ]
  },
  {
   "cell_type": "markdown",
   "metadata": {},
   "source": [
    "The Variational Quantum Eigensolver (VQE) is a quantum algorithm for finding the ground state energy of a quantum system using a quantum computer. It is a hybrid algorithm that combines classical and quantum computations."
   ]
  },
  {
   "cell_type": "markdown",
   "metadata": {},
   "source": [
    "<h3 style=\"color:#D10283;\">The VQE algorithm involves three main steps</h3>\n"
   ]
  },
  {
   "cell_type": "markdown",
   "metadata": {},
   "source": [
    "- preparing the parametrized quantum state, called the ansatz, that approximates a guess for the Hamiltonian's ground-state \n",
    "- measuring the energy of the ansatz using a quantum computer.\n",
    "- updating the parameters of the circuit such that they move toward a minimum of the cost-function (ground-state)"
   ]
  },
  {
   "cell_type": "markdown",
   "metadata": {},
   "source": [
    "**a parametrized circuit is used to prepare the ansatz. A parametrized circuit is a quantum circuit with adjustable parameters that can be tuned to minimize the energy of the ansatz. **"
   ]
  },
  {
   "cell_type": "markdown",
   "metadata": {},
   "source": [
    "The energy of the ansatz is measured using a quantum computer. The energy is calculated by measuring the expectation value of the Hamiltonian, which is a Hermitian operator that represents the energy of the system. The measurement is repeated several times to obtain an estimate of the energy with a certain level of accuracy."
   ]
  },
  {
   "cell_type": "markdown",
   "metadata": {},
   "source": [
    "The VQE algorithm can be iterated by adjusting the parameters of the variational circuit based on the measurement results, until a minimum energy is obtained. The minimum energy corresponds to the approximate ground state energy of the system, and the corresponding state created by the parametrized quantum circuit is an approximation to the ground state wavefunction."
   ]
  },
  {
   "cell_type": "markdown",
   "metadata": {},
   "source": [
    "<h3 style=\"color:#D10283;\">VQE Applications</h3>\n"
   ]
  },
  {
   "cell_type": "markdown",
   "metadata": {},
   "source": [
    "- Quantum chemistry is one of the largest focuses for applying VQE. With quantum hardware that can achieve higher qubit counts and deeper circuits, it should be possible to conduct calculations relevant to developing pharmaceuticals, understanding protein dynamics, and even developing new quantum-relevant materials.\n"
   ]
  },
  {
   "cell_type": "markdown",
   "metadata": {},
   "source": [
    "<h3 style=\"color:#D10283;\">Example VQE Code</h3>\n"
   ]
  },
  {
   "cell_type": "code",
   "execution_count": null,
   "metadata": {},
   "outputs": [],
   "source": [
    "# Define Hamiltonian corresponding to H2\n",
    "\n",
    "from qiskit.quantum_info import SparsePauliOp\n",
    "\n",
    "H2_op = SparsePauliOp.from_list(\n",
    "    [\n",
    "        (\"II\", -1.052373245772859),\n",
    "        (\"IZ\", 0.39793742484318045),\n",
    "        (\"ZI\", -0.39793742484318045),\n",
    "        (\"ZZ\", -0.01128010425623538),\n",
    "        (\"XX\", 0.18093119978423156),\n",
    "    ]\n",
    ")\n",
    "\n",
    "print(f\"Number of qubits: {H2_op.num_qubits}\")\n",
    "\n",
    "from qiskit.algorithms import NumPyMinimumEigensolver\n",
    "from qiskit.opflow import PauliSumOp\n",
    "\n",
    "numpy_solver = NumPyMinimumEigensolver()\n",
    "result = numpy_solver.compute_minimum_eigenvalue(operator=PauliSumOp(H2_op))\n",
    "ref_value = result.eigenvalue.real\n",
    "print(f\"Reference value: {ref_value:.5f}\")"
   ]
  },
  {
   "cell_type": "code",
   "execution_count": null,
   "metadata": {},
   "outputs": [],
   "source": [
    "# define ansatz and optimizer\n",
    "from qiskit.circuit.library import TwoLocal\n",
    "from qiskit.algorithms.optimizers import SPSA\n",
    "# define Aer Estimator for noiseless statevector simulation\n",
    "from qiskit.utils import algorithm_globals\n",
    "from qiskit_aer.primitives import Estimator as AerEstimator\n",
    "import pylab\n",
    "\n",
    "\n",
    "def store_intermediate_result(eval_count, parameters, mean, std):\n",
    "    counts.append(eval_count)\n",
    "    values.append(mean)\n",
    "    \n",
    "iterations = 125\n",
    "ansatz = TwoLocal(rotation_blocks=\"ry\", entanglement_blocks=\"cz\")\n",
    "spsa = SPSA(maxiter=iterations)\n",
    "\n",
    "# define callback\n",
    "# note: Re-run this cell to restart lists before training\n",
    "counts = []\n",
    "values = []\n",
    "seed = 170\n",
    "algorithm_globals.random_seed = seed\n",
    "\n",
    "noiseless_estimator = AerEstimator(\n",
    "    run_options={\"seed\": seed, \"shots\": 1024},\n",
    "    transpile_options={\"seed_transpiler\": seed},\n",
    ")\n",
    "\n",
    "# instantiate and run VQE\n",
    "from qiskit.algorithms.minimum_eigensolvers import VQE\n",
    "\n",
    "vqe = VQE(\n",
    "    noiseless_estimator, ansatz, optimizer=spsa, callback=store_intermediate_result\n",
    ")\n",
    "result = vqe.compute_minimum_eigenvalue(operator=H2_op)\n",
    "\n",
    "print(f\"VQE on Aer qasm simulator (no noise): {result.eigenvalue.real:.5f}\")\n",
    "print(\n",
    "    f\"Delta from reference energy value is {(result.eigenvalue.real - ref_value):.5f}\"\n",
    ")\n",
    "\n",
    "pylab.rcParams[\"figure.figsize\"] = (12, 4)\n",
    "pylab.plot(counts, values)\n",
    "pylab.xlabel(\"Eval count\")\n",
    "pylab.ylabel(\"Energy\")\n",
    "pylab.title(\"Convergence with no noise\")"
   ]
  },
  {
   "cell_type": "markdown",
   "metadata": {},
   "source": [
    "<h1 style=\"color:#D30982;\">QAOA: The Quantum Approximate Optimization Algorithm</h1>"
   ]
  },
  {
   "cell_type": "markdown",
   "metadata": {},
   "source": [
    "The Quantum Approximate Optimization Algorithm (QAOA) is a quantum algorithm for solving combinatorial optimization problems. It is a variational algorithm that uses a sequence of quantum gates to approximate the solution to an optimization problem."
   ]
  },
  {
   "cell_type": "markdown",
   "metadata": {},
   "source": [
    "<h3 style=\"color:#D10283;\">The QAOA algorithm involves two main steps</h3>\n"
   ]
  },
  {
   "cell_type": "markdown",
   "metadata": {},
   "source": [
    "- preparing a parametrized quantum state, called the ansatz, that encodes the solution to the optimization problem\n",
    "- measuring the expectation value of an objective function.\n",
    "- updating the parameters of the circuit such that they move toward a minimum of the cost-function (solution to the optimization problem)"
   ]
  },
  {
   "cell_type": "markdown",
   "metadata": {},
   "source": [
    "In the first step, the ansatz is prepared using a sequence of quantum gates that generate a superposition of all possible solutions to the optimization problem. The ansatz is constructed using a parameterized circuit that can be optimized to improve the approximation to the optimal solution."
   ]
  },
  {
   "cell_type": "markdown",
   "metadata": {},
   "source": [
    "The objective function is measured using a quantum computer. The objective function is a classical function that maps each possible solution to a numerical value, which represents the objective to be optimized."
   ]
  },
  {
   "cell_type": "markdown",
   "metadata": {},
   "source": [
    "The QAOA algorithm can be iterated by adjusting the parameters of the ansatz based on the measurement results, until a satisfactory approximation to the optimal solution is obtained. The optimal solution corresponds to the solution that maximizes/minimizes the objective function, which represents the solution to the optimization problem."
   ]
  },
  {
   "cell_type": "markdown",
   "metadata": {},
   "source": [
    "<h3 style=\"color:#D10283;\">QAOA Applications</h3>\n"
   ]
  },
  {
   "cell_type": "markdown",
   "metadata": {},
   "source": [
    "- logistics\n",
    "- finance\n",
    "- machine learning. "
   ]
  },
  {
   "cell_type": "code",
   "execution_count": null,
   "metadata": {},
   "outputs": [],
   "source": [
    "import networkx as nx\n",
    "import matplotlib.pyplot as plt\n",
    "\n",
    "def compute_expectation(counts, G):\n",
    "    \n",
    "    avg = 0\n",
    "    sum_count = 0\n",
    "    for bitstring, count in counts.items():\n",
    "        \n",
    "        obj = maxcut_obj(bitstring[::-1], G)\n",
    "        avg += obj * count\n",
    "        sum_count += count\n",
    "        \n",
    "    return avg/sum_count\n",
    "\n",
    "\n",
    "# We will also bring the different circuit components that\n",
    "# build the qaoa circuit under a single function\n",
    "def create_qaoa_circ(G, theta):\n",
    "    \n",
    "    nqubits = len(G.nodes())\n",
    "    p = len(theta)//2  # number of alternating unitaries\n",
    "    qc = QuantumCircuit(nqubits)\n",
    "    \n",
    "    beta = theta[:p]\n",
    "    gamma = theta[p:]\n",
    "    \n",
    "    # initial_state\n",
    "    for i in range(0, nqubits):\n",
    "        qc.h(i)\n",
    "    \n",
    "    for irep in range(0, p):\n",
    "        \n",
    "        # problem unitary\n",
    "        for pair in list(G.edges()):\n",
    "            qc.rzz(2 * gamma[irep], pair[0], pair[1])\n",
    "\n",
    "        # mixer unitary\n",
    "        for i in range(0, nqubits):\n",
    "            qc.rx(2 * beta[irep], i)\n",
    "            \n",
    "    qc.measure_all()\n",
    "        \n",
    "    return qc\n",
    "\n",
    "# Finally we write a function that executes the circuit on the chosen backend\n",
    "def get_expectation(G, shots=512):\n",
    "\n",
    "    backend = Aer.get_backend('qasm_simulator')\n",
    "    backend.shots = shots\n",
    "    \n",
    "    def execute_circ(theta):\n",
    "        \n",
    "        qc = create_qaoa_circ(G, theta)\n",
    "        counts = backend.run(qc, seed_simulator=10, \n",
    "                             nshots=512).result().get_counts()\n",
    "        \n",
    "        return compute_expectation(counts, G)\n",
    "    \n",
    "    return execute_circ"
   ]
  },
  {
   "cell_type": "markdown",
   "metadata": {},
   "source": [
    "<h1 style=\"color:#510981;\">QNNs: Quantum Neural Networks</h1>"
   ]
  },
  {
   "cell_type": "markdown",
   "metadata": {},
   "source": [
    "A neural network is ultimately just an elaborate function that is built by composing smaller building blocks called neurons. A neuron is typically a simple, easy-to-compute, and nonlinear function that maps one or more inputs to a single real number. The single output of a neuron is typically copied and fed as input into other neurons. \n",
    "\n",
    "<img src=\"../assets/Neural_network_example.svg\" alt=\"isolated\" width=\"200\"/>"
   ]
  },
  {
   "cell_type": "markdown",
   "metadata": {},
   "source": [
    "Neurons are respresented as nodes in a graph and we draw directed edges between nodes to indicate how the output of one neuron will be used as input to another. Each edge in our graph is often associated with a scalar-value called a weight"
   ]
  },
  {
   "cell_type": "markdown",
   "metadata": {},
   "source": [
    "Quantum neural networks are quantum algorithms that are designed to simulate the behavior of classical neural networks on a quantum computer. They use the principles of quantum mechanics to perform computations that are difficult or impossible to perform on classical computers."
   ]
  },
  {
   "cell_type": "markdown",
   "metadata": {},
   "source": [
    "The basic idea of a quantum neural network is to encode the input data into a quantum state, and then apply a sequence of quantum gates to transform the state into an output state that represents the output of the neural network."
   ]
  },
  {
   "cell_type": "markdown",
   "metadata": {},
   "source": [
    "<h3 style=\"color:#D10283;\">QNN Approaches</h3>"
   ]
  },
  {
   "cell_type": "markdown",
   "metadata": {},
   "source": [
    "- The quantum circuit approach uses a parameterized quantum circuit to perform the computations, where the parameters are trained using an optimization algorithm to minimize a loss function."
   ]
  },
  {
   "cell_type": "markdown",
   "metadata": {},
   "source": [
    "- The quantum tensor network approach uses tensor network methods to represent the quantum states and perform the computations."
   ]
  },
  {
   "cell_type": "markdown",
   "metadata": {},
   "source": [
    "<h3 style=\"color:#D10283;\">QNN Applications</h3>\n"
   ]
  },
  {
   "cell_type": "markdown",
   "metadata": {},
   "source": [
    "- quantum machine learning\n",
    "- quantum data analysis\n",
    "- quantum control \n",
    "- to accelerate classical neural network computations by using a quantum computer as a co-processor for certain tasks."
   ]
  },
  {
   "cell_type": "code",
   "execution_count": null,
   "metadata": {},
   "outputs": [],
   "source": [
    "import numpy as np\n",
    "import matplotlib.pyplot as plt\n",
    "\n",
    "import torch\n",
    "from torch.autograd import Function\n",
    "from torchvision import datasets, transforms\n",
    "import torch.optim as optim\n",
    "import torch.nn as nn\n",
    "import torch.nn.functional as F\n",
    "\n",
    "import qiskit\n",
    "from qiskit import transpile, assemble\n",
    "from qiskit.visualization import *\n",
    "\n",
    "class QuantumCircuit:\n",
    "    \"\"\" \n",
    "    This class provides a simple interface for interaction \n",
    "    with the quantum circuit \n",
    "    \"\"\"\n",
    "    \n",
    "    def __init__(self, n_qubits, backend, shots):\n",
    "        # --- Circuit definition ---\n",
    "        self._circuit = qiskit.QuantumCircuit(n_qubits)\n",
    "        \n",
    "        all_qubits = [i for i in range(n_qubits)]\n",
    "        self.theta = qiskit.circuit.Parameter('theta')\n",
    "        \n",
    "        self._circuit.h(all_qubits)\n",
    "        self._circuit.barrier()\n",
    "        self._circuit.ry(self.theta, all_qubits)\n",
    "        \n",
    "        self._circuit.measure_all()\n",
    "        # ---------------------------\n",
    "\n",
    "        self.backend = backend\n",
    "        self.shots = shots\n",
    "    \n",
    "    def run(self, thetas):\n",
    "        t_qc = transpile(self._circuit,\n",
    "                         self.backend)\n",
    "        qobj = assemble(t_qc,\n",
    "                        shots=self.shots,\n",
    "                        parameter_binds = [{self.theta: theta} for theta in thetas])\n",
    "        job = self.backend.run(qobj)\n",
    "        result = job.result().get_counts()\n",
    "        \n",
    "        counts = np.array(list(result.values()))\n",
    "        states = np.array(list(result.keys())).astype(float)\n",
    "        \n",
    "        # Compute probabilities for each state\n",
    "        probabilities = counts / self.shots\n",
    "        # Get state expectation\n",
    "        expectation = np.sum(states * probabilities)\n",
    "        \n",
    "        return np.array([expectation])\n",
    "    \n",
    "    \n",
    "class HybridFunction(Function):\n",
    "    \"\"\" Hybrid quantum - classical function definition \"\"\"\n",
    "    \n",
    "    @staticmethod\n",
    "    def forward(ctx, input, quantum_circuit, shift):\n",
    "        \"\"\" Forward pass computation \"\"\"\n",
    "        ctx.shift = shift\n",
    "        ctx.quantum_circuit = quantum_circuit\n",
    "\n",
    "        expectation_z = ctx.quantum_circuit.run(input[0].tolist())\n",
    "        result = torch.tensor([expectation_z])\n",
    "        ctx.save_for_backward(input, result)\n",
    "\n",
    "        return result\n",
    "        \n",
    "    @staticmethod\n",
    "    def backward(ctx, grad_output):\n",
    "        \"\"\" Backward pass computation \"\"\"\n",
    "        input, expectation_z = ctx.saved_tensors\n",
    "        input_list = np.array(input.tolist())\n",
    "        \n",
    "        shift_right = input_list + np.ones(input_list.shape) * ctx.shift\n",
    "        shift_left = input_list - np.ones(input_list.shape) * ctx.shift\n",
    "        \n",
    "        gradients = []\n",
    "        for i in range(len(input_list)):\n",
    "            expectation_right = ctx.quantum_circuit.run(shift_right[i])\n",
    "            expectation_left  = ctx.quantum_circuit.run(shift_left[i])\n",
    "            \n",
    "            gradient = torch.tensor([expectation_right]) - torch.tensor([expectation_left])\n",
    "            gradients.append(gradient)\n",
    "        gradients = np.array([gradients]).T\n",
    "        return torch.tensor([gradients]).float() * grad_output.float(), None, None\n",
    "\n",
    "class Hybrid(nn.Module):\n",
    "    \"\"\" Hybrid quantum - classical layer definition \"\"\"\n",
    "    \n",
    "    def __init__(self, backend, shots, shift):\n",
    "        super(Hybrid, self).__init__()\n",
    "        self.quantum_circuit = QuantumCircuit(1, backend, shots)\n",
    "        self.shift = shift\n",
    "        \n",
    "    def forward(self, input):\n",
    "        return HybridFunction.apply(input, self.quantum_circuit, self.shift)"
   ]
  },
  {
   "cell_type": "markdown",
   "metadata": {},
   "source": [
    "<h1 style=\"color:#510981;\">VQLS: The Variational Quantum Linear Solver</h1>"
   ]
  },
  {
   "cell_type": "markdown",
   "metadata": {},
   "source": [
    "The Variational Quantum Linear Solver (VQLS) is a quantum algorithm that can be used to solve linear systems of equations. It is a hybrid algorithm that combines classical and quantum computations to solve the problem."
   ]
  },
  {
   "cell_type": "markdown",
   "metadata": {},
   "source": [
    "Specifically, if we are given some matrix  \n",
    "A , such that A|x⟩ = |b⟩ , where |b⟩  is some known vector, the VQLS algorithm is theoretically able to find a normalized |x⟩  that is proportional to |x⟩ , which makes the above relationship true."
   ]
  },
  {
   "cell_type": "markdown",
   "metadata": {},
   "source": [
    "<h3 style=\"color:#D10283;\">The VQLS algorithm involves two main steps</h3>\n"
   ]
  },
  {
   "cell_type": "markdown",
   "metadata": {},
   "source": [
    "- preparing a quantum state that encodes the solution to the linear system\n",
    "- measuring the quantum state to obtain the solution to the linear system."
   ]
  },
  {
   "cell_type": "markdown",
   "metadata": {},
   "source": [
    "Firstly, the quantum state is prepared using a parameterized quantum circuit that can be optimized to encode the solution to the linear system. The circuit is designed to implement a unitary transformation that maps an input state to the solution state. "
   ]
  },
  {
   "cell_type": "markdown",
   "metadata": {},
   "source": [
    "Then, the quantum state is measured to obtain the solution to the linear system. The measurement is performed in the computational basis, which means that the quantum state collapses to a classical state that represents the solution. "
   ]
  },
  {
   "cell_type": "code",
   "execution_count": null,
   "metadata": {},
   "outputs": [],
   "source": [
    "import qiskit\n",
    "from qiskit import QuantumCircuit, QuantumRegister, ClassicalRegister\n",
    "from qiskit import Aer, transpile, assemble\n",
    "import math\n",
    "import random\n",
    "import numpy as np\n",
    "from scipy.optimize import minimize\n",
    "\n",
    "def apply_fixed_ansatz(qubits, parameters):\n",
    "\n",
    "    for iz in range (0, len(qubits)):\n",
    "        circ.ry(parameters[0][iz], qubits[iz])\n",
    "\n",
    "    circ.cz(qubits[0], qubits[1])\n",
    "    circ.cz(qubits[2], qubits[0])\n",
    "\n",
    "    for iz in range (0, len(qubits)):\n",
    "        circ.ry(parameters[1][iz], qubits[iz])\n",
    "\n",
    "    circ.cz(qubits[1], qubits[2])\n",
    "    circ.cz(qubits[2], qubits[0])\n",
    "\n",
    "    for iz in range (0, len(qubits)):\n",
    "        circ.ry(parameters[2][iz], qubits[iz])\n",
    "\n",
    "circ = QuantumCircuit(3)\n",
    "apply_fixed_ansatz([0, 1, 2], [[1, 1, 1], [1, 1, 1], [1, 1, 1]])\n",
    "circ.draw()\n",
    "\n",
    "# Creates the Hadamard test\n",
    "\n",
    "def had_test(gate_type, qubits, auxiliary_index, parameters):\n",
    "\n",
    "    circ.h(auxiliary_index)\n",
    "\n",
    "    apply_fixed_ansatz(qubits, parameters)\n",
    "\n",
    "    for ie in range (0, len(gate_type[0])):\n",
    "        if (gate_type[0][ie] == 1):\n",
    "            circ.cz(auxiliary_index, qubits[ie])\n",
    "\n",
    "    for ie in range (0, len(gate_type[1])):\n",
    "        if (gate_type[1][ie] == 1):\n",
    "            circ.cz(auxiliary_index, qubits[ie])\n",
    "    \n",
    "    circ.h(auxiliary_index)\n",
    "    \n",
    "circ = QuantumCircuit(4)\n",
    "had_test([[0, 0, 0], [0, 0, 1]], [1, 2, 3], 0, [[1, 1, 1], [1, 1, 1], [1, 1, 1]])\n",
    "circ.draw()\n",
    "\n",
    "# Creates controlled anstaz for calculating |<b|psi>|^2 with a Hadamard test\n",
    "\n",
    "def control_fixed_ansatz(qubits, parameters, auxiliary, reg):\n",
    "\n",
    "    for i in range (0, len(qubits)):\n",
    "        circ.cry(parameters[0][i], qiskit.circuit.Qubit(reg, auxiliary), qiskit.circuit.Qubit(reg, qubits[i]))\n",
    "\n",
    "    circ.ccx(auxiliary, qubits[1], 4)\n",
    "    circ.cz(qubits[0], 4)\n",
    "    circ.ccx(auxiliary, qubits[1], 4)\n",
    "\n",
    "    circ.ccx(auxiliary, qubits[0], 4)\n",
    "    circ.cz(qubits[2], 4)\n",
    "    circ.ccx(auxiliary, qubits[0], 4)\n",
    "\n",
    "    for i in range (0, len(qubits)):\n",
    "        circ.cry(parameters[1][i], qiskit.circuit.Qubit(reg, auxiliary), qiskit.circuit.Qubit(reg, qubits[i]))\n",
    "\n",
    "    circ.ccx(auxiliary, qubits[2], 4)\n",
    "    circ.cz(qubits[1], 4)\n",
    "    circ.ccx(auxiliary, qubits[2], 4)\n",
    "\n",
    "    circ.ccx(auxiliary, qubits[0], 4)\n",
    "    circ.cz(qubits[2], 4)\n",
    "    circ.ccx(auxiliary, qubits[0], 4)\n",
    "\n",
    "    for i in range (0, len(qubits)):\n",
    "        circ.cry(parameters[2][i], qiskit.circuit.Qubit(reg, auxiliary), qiskit.circuit.Qubit(reg, qubits[i]))\n",
    "\n",
    "q_reg = QuantumRegister(5)\n",
    "circ = QuantumCircuit(q_reg)\n",
    "control_fixed_ansatz([1, 2, 3], [[1, 1, 1], [1, 1, 1], [1, 1, 1]], 0, q_reg)\n",
    "circ.draw()"
   ]
  }
 ],
 "metadata": {
  "celltoolbar": "Slideshow",
  "kernelspec": {
   "display_name": "Python 3 (ipykernel)",
   "language": "python",
   "name": "python3"
  },
  "language_info": {
   "codemirror_mode": {
    "name": "ipython",
    "version": 3
   },
   "file_extension": ".py",
   "mimetype": "text/x-python",
   "name": "python",
   "nbconvert_exporter": "python",
   "pygments_lexer": "ipython3",
   "version": "3.9.13"
  },
  "toc": {
   "base_numbering": 1,
   "nav_menu": {},
   "number_sections": true,
   "sideBar": true,
   "skip_h1_title": false,
   "title_cell": "Table of Contents",
   "title_sidebar": "Contents",
   "toc_cell": false,
   "toc_position": {},
   "toc_section_display": true,
   "toc_window_display": true
  },
  "toc-autonumbering": false,
  "toc-showcode": false,
  "widgets": {
   "application/vnd.jupyter.widget-state+json": {
    "state": {},
    "version_major": 2,
    "version_minor": 0
   }
  }
 },
 "nbformat": 4,
 "nbformat_minor": 4
}
